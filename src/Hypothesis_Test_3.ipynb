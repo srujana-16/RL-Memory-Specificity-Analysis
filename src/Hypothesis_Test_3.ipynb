{
 "cells": [
  {
   "cell_type": "markdown",
   "metadata": {},
   "source": [
    "# Hypotheses Test 3"
   ]
  },
  {
   "cell_type": "markdown",
   "metadata": {},
   "source": [
    "#### $H0$: There is no significant relationship between age and the adaptation towards the specificity of learning computations.\n",
    "#### $H_A$: Adaptation towards the specificity of learning computations increases/decreases with age. "
   ]
  },
  {
   "cell_type": "code",
   "execution_count": 125,
   "metadata": {},
   "outputs": [],
   "source": [
    "# Importing Libraries\n",
    "import numpy as np\n",
    "import pandas as pd\n",
    "import seaborn as sns\n",
    "import plotly.express as px\n",
    "import matplotlib.pyplot as plt\n",
    "import scipy.stats as stats\n",
    "import os\n",
    "from scipy.stats import ttest_ind\n",
    "from scipy.stats import chi2_contingency\n",
    "from statsmodels.stats.multitest import multipletests"
   ]
  },
  {
   "cell_type": "markdown",
   "metadata": {},
   "source": [
    "##  Data Processing"
   ]
  },
  {
   "cell_type": "markdown",
   "metadata": {},
   "source": [
    "#### We merge the data based on subject IDs. We need to combine subject data with learning data, as learning performance reflects adaptation towards specific representations."
   ]
  },
  {
   "cell_type": "code",
   "execution_count": 50,
   "metadata": {},
   "outputs": [],
   "source": [
    "e1_sub_ages = pd.read_csv(\"../data/e1/e1_sub_ages.csv\") \n",
    "e1_learning = pd.read_csv(\"../data/e1/e1_learning_data.csv\")\n",
    "\n",
    "# Merge dataframes\n",
    "learning_merged = pd.merge(e1_learning, e1_sub_ages, on='subject_id')"
   ]
  },
  {
   "cell_type": "code",
   "execution_count": 51,
   "metadata": {},
   "outputs": [
    {
     "data": {
      "text/html": [
       "<div>\n",
       "<style scoped>\n",
       "    .dataframe tbody tr th:only-of-type {\n",
       "        vertical-align: middle;\n",
       "    }\n",
       "\n",
       "    .dataframe tbody tr th {\n",
       "        vertical-align: top;\n",
       "    }\n",
       "\n",
       "    .dataframe thead th {\n",
       "        text-align: right;\n",
       "    }\n",
       "</style>\n",
       "<table border=\"1\" class=\"dataframe\">\n",
       "  <thead>\n",
       "    <tr style=\"text-align: right;\">\n",
       "      <th></th>\n",
       "      <th>subject_id</th>\n",
       "      <th>age</th>\n",
       "    </tr>\n",
       "  </thead>\n",
       "  <tbody>\n",
       "    <tr>\n",
       "      <th>0</th>\n",
       "      <td>3768</td>\n",
       "      <td>8.04</td>\n",
       "    </tr>\n",
       "    <tr>\n",
       "      <th>1</th>\n",
       "      <td>3770</td>\n",
       "      <td>8.10</td>\n",
       "    </tr>\n",
       "    <tr>\n",
       "      <th>2</th>\n",
       "      <td>3855</td>\n",
       "      <td>16.83</td>\n",
       "    </tr>\n",
       "    <tr>\n",
       "      <th>3</th>\n",
       "      <td>3853</td>\n",
       "      <td>16.94</td>\n",
       "    </tr>\n",
       "    <tr>\n",
       "      <th>4</th>\n",
       "      <td>3898</td>\n",
       "      <td>22.15</td>\n",
       "    </tr>\n",
       "  </tbody>\n",
       "</table>\n",
       "</div>"
      ],
      "text/plain": [
       "   subject_id    age\n",
       "0        3768   8.04\n",
       "1        3770   8.10\n",
       "2        3855  16.83\n",
       "3        3853  16.94\n",
       "4        3898  22.15"
      ]
     },
     "execution_count": 51,
     "metadata": {},
     "output_type": "execute_result"
    }
   ],
   "source": [
    "e1_sub_ages.head()"
   ]
  },
  {
   "cell_type": "code",
   "execution_count": 52,
   "metadata": {},
   "outputs": [
    {
     "data": {
      "text/html": [
       "<div>\n",
       "<style scoped>\n",
       "    .dataframe tbody tr th:only-of-type {\n",
       "        vertical-align: middle;\n",
       "    }\n",
       "\n",
       "    .dataframe tbody tr th {\n",
       "        vertical-align: top;\n",
       "    }\n",
       "\n",
       "    .dataframe thead th {\n",
       "        text-align: right;\n",
       "    }\n",
       "</style>\n",
       "<table border=\"1\" class=\"dataframe\">\n",
       "  <thead>\n",
       "    <tr style=\"text-align: right;\">\n",
       "      <th></th>\n",
       "      <th>subject_id</th>\n",
       "      <th>task_part</th>\n",
       "      <th>block_condition</th>\n",
       "      <th>block_order</th>\n",
       "      <th>task_block</th>\n",
       "      <th>trial_index</th>\n",
       "      <th>stimulus</th>\n",
       "      <th>cat_type</th>\n",
       "      <th>mean_cat_reward</th>\n",
       "      <th>approach_reward</th>\n",
       "      <th>key_press</th>\n",
       "      <th>rt</th>\n",
       "      <th>points</th>\n",
       "      <th>stimulus_repetition</th>\n",
       "      <th>correct_response</th>\n",
       "      <th>correct_response_made</th>\n",
       "    </tr>\n",
       "  </thead>\n",
       "  <tbody>\n",
       "    <tr>\n",
       "      <th>0</th>\n",
       "      <td>3768</td>\n",
       "      <td>learning</td>\n",
       "      <td>2</td>\n",
       "      <td>1</td>\n",
       "      <td>animals</td>\n",
       "      <td>73</td>\n",
       "      <td>images/horse7.png</td>\n",
       "      <td>neutral</td>\n",
       "      <td>0</td>\n",
       "      <td>2</td>\n",
       "      <td>1</td>\n",
       "      <td>1148.0</td>\n",
       "      <td>2</td>\n",
       "      <td>1</td>\n",
       "      <td>1</td>\n",
       "      <td>1.0</td>\n",
       "    </tr>\n",
       "    <tr>\n",
       "      <th>1</th>\n",
       "      <td>3768</td>\n",
       "      <td>learning</td>\n",
       "      <td>2</td>\n",
       "      <td>1</td>\n",
       "      <td>animals</td>\n",
       "      <td>75</td>\n",
       "      <td>images/cow5.png</td>\n",
       "      <td>bad</td>\n",
       "      <td>-3</td>\n",
       "      <td>-4</td>\n",
       "      <td>0</td>\n",
       "      <td>347.0</td>\n",
       "      <td>0</td>\n",
       "      <td>1</td>\n",
       "      <td>0</td>\n",
       "      <td>1.0</td>\n",
       "    </tr>\n",
       "    <tr>\n",
       "      <th>2</th>\n",
       "      <td>3768</td>\n",
       "      <td>learning</td>\n",
       "      <td>2</td>\n",
       "      <td>1</td>\n",
       "      <td>animals</td>\n",
       "      <td>77</td>\n",
       "      <td>images/cow8.png</td>\n",
       "      <td>bad</td>\n",
       "      <td>-3</td>\n",
       "      <td>-2</td>\n",
       "      <td>1</td>\n",
       "      <td>618.0</td>\n",
       "      <td>-2</td>\n",
       "      <td>1</td>\n",
       "      <td>0</td>\n",
       "      <td>0.0</td>\n",
       "    </tr>\n",
       "    <tr>\n",
       "      <th>3</th>\n",
       "      <td>3768</td>\n",
       "      <td>learning</td>\n",
       "      <td>2</td>\n",
       "      <td>1</td>\n",
       "      <td>animals</td>\n",
       "      <td>79</td>\n",
       "      <td>images/horse7.png</td>\n",
       "      <td>neutral</td>\n",
       "      <td>0</td>\n",
       "      <td>2</td>\n",
       "      <td>1</td>\n",
       "      <td>306.0</td>\n",
       "      <td>2</td>\n",
       "      <td>2</td>\n",
       "      <td>1</td>\n",
       "      <td>1.0</td>\n",
       "    </tr>\n",
       "    <tr>\n",
       "      <th>4</th>\n",
       "      <td>3768</td>\n",
       "      <td>learning</td>\n",
       "      <td>2</td>\n",
       "      <td>1</td>\n",
       "      <td>animals</td>\n",
       "      <td>81</td>\n",
       "      <td>images/goat6.png</td>\n",
       "      <td>good</td>\n",
       "      <td>5</td>\n",
       "      <td>8</td>\n",
       "      <td>0</td>\n",
       "      <td>1521.0</td>\n",
       "      <td>0</td>\n",
       "      <td>1</td>\n",
       "      <td>1</td>\n",
       "      <td>0.0</td>\n",
       "    </tr>\n",
       "  </tbody>\n",
       "</table>\n",
       "</div>"
      ],
      "text/plain": [
       "   subject_id task_part  block_condition  block_order task_block  trial_index  \\\n",
       "0        3768  learning                2            1    animals           73   \n",
       "1        3768  learning                2            1    animals           75   \n",
       "2        3768  learning                2            1    animals           77   \n",
       "3        3768  learning                2            1    animals           79   \n",
       "4        3768  learning                2            1    animals           81   \n",
       "\n",
       "            stimulus cat_type  mean_cat_reward approach_reward key_press  \\\n",
       "0  images/horse7.png  neutral                0               2         1   \n",
       "1    images/cow5.png      bad               -3              -4         0   \n",
       "2    images/cow8.png      bad               -3              -2         1   \n",
       "3  images/horse7.png  neutral                0               2         1   \n",
       "4   images/goat6.png     good                5               8         0   \n",
       "\n",
       "       rt  points  stimulus_repetition  correct_response  \\\n",
       "0  1148.0       2                    1                 1   \n",
       "1   347.0       0                    1                 0   \n",
       "2   618.0      -2                    1                 0   \n",
       "3   306.0       2                    2                 1   \n",
       "4  1521.0       0                    1                 1   \n",
       "\n",
       "   correct_response_made  \n",
       "0                    1.0  \n",
       "1                    1.0  \n",
       "2                    0.0  \n",
       "3                    1.0  \n",
       "4                    0.0  "
      ]
     },
     "execution_count": 52,
     "metadata": {},
     "output_type": "execute_result"
    }
   ],
   "source": [
    "e1_learning.head()"
   ]
  },
  {
   "cell_type": "code",
   "execution_count": 53,
   "metadata": {},
   "outputs": [
    {
     "data": {
      "text/html": [
       "<div>\n",
       "<style scoped>\n",
       "    .dataframe tbody tr th:only-of-type {\n",
       "        vertical-align: middle;\n",
       "    }\n",
       "\n",
       "    .dataframe tbody tr th {\n",
       "        vertical-align: top;\n",
       "    }\n",
       "\n",
       "    .dataframe thead th {\n",
       "        text-align: right;\n",
       "    }\n",
       "</style>\n",
       "<table border=\"1\" class=\"dataframe\">\n",
       "  <thead>\n",
       "    <tr style=\"text-align: right;\">\n",
       "      <th></th>\n",
       "      <th>subject_id</th>\n",
       "      <th>task_part</th>\n",
       "      <th>block_condition</th>\n",
       "      <th>block_order</th>\n",
       "      <th>task_block</th>\n",
       "      <th>trial_index</th>\n",
       "      <th>stimulus</th>\n",
       "      <th>cat_type</th>\n",
       "      <th>mean_cat_reward</th>\n",
       "      <th>approach_reward</th>\n",
       "      <th>key_press</th>\n",
       "      <th>rt</th>\n",
       "      <th>points</th>\n",
       "      <th>stimulus_repetition</th>\n",
       "      <th>correct_response</th>\n",
       "      <th>correct_response_made</th>\n",
       "      <th>age</th>\n",
       "    </tr>\n",
       "  </thead>\n",
       "  <tbody>\n",
       "    <tr>\n",
       "      <th>0</th>\n",
       "      <td>3768</td>\n",
       "      <td>learning</td>\n",
       "      <td>2</td>\n",
       "      <td>1</td>\n",
       "      <td>animals</td>\n",
       "      <td>73</td>\n",
       "      <td>images/horse7.png</td>\n",
       "      <td>neutral</td>\n",
       "      <td>0</td>\n",
       "      <td>2</td>\n",
       "      <td>1</td>\n",
       "      <td>1148.0</td>\n",
       "      <td>2</td>\n",
       "      <td>1</td>\n",
       "      <td>1</td>\n",
       "      <td>1.0</td>\n",
       "      <td>8.04</td>\n",
       "    </tr>\n",
       "    <tr>\n",
       "      <th>1</th>\n",
       "      <td>3768</td>\n",
       "      <td>learning</td>\n",
       "      <td>2</td>\n",
       "      <td>1</td>\n",
       "      <td>animals</td>\n",
       "      <td>75</td>\n",
       "      <td>images/cow5.png</td>\n",
       "      <td>bad</td>\n",
       "      <td>-3</td>\n",
       "      <td>-4</td>\n",
       "      <td>0</td>\n",
       "      <td>347.0</td>\n",
       "      <td>0</td>\n",
       "      <td>1</td>\n",
       "      <td>0</td>\n",
       "      <td>1.0</td>\n",
       "      <td>8.04</td>\n",
       "    </tr>\n",
       "    <tr>\n",
       "      <th>2</th>\n",
       "      <td>3768</td>\n",
       "      <td>learning</td>\n",
       "      <td>2</td>\n",
       "      <td>1</td>\n",
       "      <td>animals</td>\n",
       "      <td>77</td>\n",
       "      <td>images/cow8.png</td>\n",
       "      <td>bad</td>\n",
       "      <td>-3</td>\n",
       "      <td>-2</td>\n",
       "      <td>1</td>\n",
       "      <td>618.0</td>\n",
       "      <td>-2</td>\n",
       "      <td>1</td>\n",
       "      <td>0</td>\n",
       "      <td>0.0</td>\n",
       "      <td>8.04</td>\n",
       "    </tr>\n",
       "    <tr>\n",
       "      <th>3</th>\n",
       "      <td>3768</td>\n",
       "      <td>learning</td>\n",
       "      <td>2</td>\n",
       "      <td>1</td>\n",
       "      <td>animals</td>\n",
       "      <td>79</td>\n",
       "      <td>images/horse7.png</td>\n",
       "      <td>neutral</td>\n",
       "      <td>0</td>\n",
       "      <td>2</td>\n",
       "      <td>1</td>\n",
       "      <td>306.0</td>\n",
       "      <td>2</td>\n",
       "      <td>2</td>\n",
       "      <td>1</td>\n",
       "      <td>1.0</td>\n",
       "      <td>8.04</td>\n",
       "    </tr>\n",
       "    <tr>\n",
       "      <th>4</th>\n",
       "      <td>3768</td>\n",
       "      <td>learning</td>\n",
       "      <td>2</td>\n",
       "      <td>1</td>\n",
       "      <td>animals</td>\n",
       "      <td>81</td>\n",
       "      <td>images/goat6.png</td>\n",
       "      <td>good</td>\n",
       "      <td>5</td>\n",
       "      <td>8</td>\n",
       "      <td>0</td>\n",
       "      <td>1521.0</td>\n",
       "      <td>0</td>\n",
       "      <td>1</td>\n",
       "      <td>1</td>\n",
       "      <td>0.0</td>\n",
       "      <td>8.04</td>\n",
       "    </tr>\n",
       "  </tbody>\n",
       "</table>\n",
       "</div>"
      ],
      "text/plain": [
       "   subject_id task_part  block_condition  block_order task_block  trial_index  \\\n",
       "0        3768  learning                2            1    animals           73   \n",
       "1        3768  learning                2            1    animals           75   \n",
       "2        3768  learning                2            1    animals           77   \n",
       "3        3768  learning                2            1    animals           79   \n",
       "4        3768  learning                2            1    animals           81   \n",
       "\n",
       "            stimulus cat_type  mean_cat_reward approach_reward key_press  \\\n",
       "0  images/horse7.png  neutral                0               2         1   \n",
       "1    images/cow5.png      bad               -3              -4         0   \n",
       "2    images/cow8.png      bad               -3              -2         1   \n",
       "3  images/horse7.png  neutral                0               2         1   \n",
       "4   images/goat6.png     good                5               8         0   \n",
       "\n",
       "       rt  points  stimulus_repetition  correct_response  \\\n",
       "0  1148.0       2                    1                 1   \n",
       "1   347.0       0                    1                 0   \n",
       "2   618.0      -2                    1                 0   \n",
       "3   306.0       2                    2                 1   \n",
       "4  1521.0       0                    1                 1   \n",
       "\n",
       "   correct_response_made   age  \n",
       "0                    1.0  8.04  \n",
       "1                    1.0  8.04  \n",
       "2                    0.0  8.04  \n",
       "3                    1.0  8.04  \n",
       "4                    0.0  8.04  "
      ]
     },
     "execution_count": 53,
     "metadata": {},
     "output_type": "execute_result"
    }
   ],
   "source": [
    "learning_merged.head()"
   ]
  },
  {
   "cell_type": "code",
   "execution_count": 55,
   "metadata": {},
   "outputs": [
    {
     "data": {
      "text/html": [
       "<div>\n",
       "<style scoped>\n",
       "    .dataframe tbody tr th:only-of-type {\n",
       "        vertical-align: middle;\n",
       "    }\n",
       "\n",
       "    .dataframe tbody tr th {\n",
       "        vertical-align: top;\n",
       "    }\n",
       "\n",
       "    .dataframe thead th {\n",
       "        text-align: right;\n",
       "    }\n",
       "</style>\n",
       "<table border=\"1\" class=\"dataframe\">\n",
       "  <thead>\n",
       "    <tr style=\"text-align: right;\">\n",
       "      <th></th>\n",
       "      <th>age</th>\n",
       "      <th>block_condition</th>\n",
       "      <th>correct_response_made</th>\n",
       "    </tr>\n",
       "  </thead>\n",
       "  <tbody>\n",
       "    <tr>\n",
       "      <th>0</th>\n",
       "      <td>8.04</td>\n",
       "      <td>2</td>\n",
       "      <td>1.0</td>\n",
       "    </tr>\n",
       "    <tr>\n",
       "      <th>1</th>\n",
       "      <td>8.04</td>\n",
       "      <td>2</td>\n",
       "      <td>1.0</td>\n",
       "    </tr>\n",
       "    <tr>\n",
       "      <th>2</th>\n",
       "      <td>8.04</td>\n",
       "      <td>2</td>\n",
       "      <td>0.0</td>\n",
       "    </tr>\n",
       "    <tr>\n",
       "      <th>3</th>\n",
       "      <td>8.04</td>\n",
       "      <td>2</td>\n",
       "      <td>1.0</td>\n",
       "    </tr>\n",
       "    <tr>\n",
       "      <th>4</th>\n",
       "      <td>8.04</td>\n",
       "      <td>2</td>\n",
       "      <td>0.0</td>\n",
       "    </tr>\n",
       "  </tbody>\n",
       "</table>\n",
       "</div>"
      ],
      "text/plain": [
       "    age  block_condition  correct_response_made\n",
       "0  8.04                2                    1.0\n",
       "1  8.04                2                    1.0\n",
       "2  8.04                2                    0.0\n",
       "3  8.04                2                    1.0\n",
       "4  8.04                2                    0.0"
      ]
     },
     "execution_count": 55,
     "metadata": {},
     "output_type": "execute_result"
    }
   ],
   "source": [
    "learning_data = learning_merged[['age', 'block_condition', 'correct_response_made']]\n",
    "learning_data.head()"
   ]
  },
  {
   "cell_type": "code",
   "execution_count": 56,
   "metadata": {},
   "outputs": [
    {
     "name": "stdout",
     "output_type": "stream",
     "text": [
      "Missing values in learning data:\n",
      "subject_id                 0\n",
      "task_part                  0\n",
      "block_condition            0\n",
      "block_order                0\n",
      "task_block                 0\n",
      "trial_index                0\n",
      "stimulus                   0\n",
      "cat_type                   0\n",
      "mean_cat_reward            0\n",
      "approach_reward            0\n",
      "key_press                174\n",
      "rt                       168\n",
      "points                     0\n",
      "stimulus_repetition        0\n",
      "correct_response           0\n",
      "correct_response_made    174\n",
      "age                        0\n",
      "dtype: int64\n"
     ]
    }
   ],
   "source": [
    "# Check for missing values\n",
    "print(\"Missing values in learning data:\")\n",
    "print(learning_merged.isnull().sum())\n",
    "\n",
    "\n",
    "# Remove missing values if any\n",
    "learning_merged.dropna(inplace=True)"
   ]
  },
  {
   "cell_type": "code",
   "execution_count": 61,
   "metadata": {},
   "outputs": [
    {
     "data": {
      "text/html": [
       "<div>\n",
       "<style scoped>\n",
       "    .dataframe tbody tr th:only-of-type {\n",
       "        vertical-align: middle;\n",
       "    }\n",
       "\n",
       "    .dataframe tbody tr th {\n",
       "        vertical-align: top;\n",
       "    }\n",
       "\n",
       "    .dataframe thead th {\n",
       "        text-align: right;\n",
       "    }\n",
       "</style>\n",
       "<table border=\"1\" class=\"dataframe\">\n",
       "  <thead>\n",
       "    <tr style=\"text-align: right;\">\n",
       "      <th></th>\n",
       "      <th>subject_id</th>\n",
       "      <th>task_part</th>\n",
       "      <th>block_condition</th>\n",
       "      <th>block_order</th>\n",
       "      <th>task_block</th>\n",
       "      <th>trial_index</th>\n",
       "      <th>stimulus</th>\n",
       "      <th>cat_type</th>\n",
       "      <th>mean_cat_reward</th>\n",
       "      <th>approach_reward</th>\n",
       "      <th>key_press</th>\n",
       "      <th>rt</th>\n",
       "      <th>points</th>\n",
       "      <th>stimulus_repetition</th>\n",
       "      <th>correct_response</th>\n",
       "      <th>correct_response_made</th>\n",
       "      <th>age</th>\n",
       "      <th>age_group</th>\n",
       "    </tr>\n",
       "  </thead>\n",
       "  <tbody>\n",
       "    <tr>\n",
       "      <th>0</th>\n",
       "      <td>3768</td>\n",
       "      <td>learning</td>\n",
       "      <td>2</td>\n",
       "      <td>1</td>\n",
       "      <td>animals</td>\n",
       "      <td>73</td>\n",
       "      <td>images/horse7.png</td>\n",
       "      <td>neutral</td>\n",
       "      <td>0</td>\n",
       "      <td>2</td>\n",
       "      <td>1</td>\n",
       "      <td>1148.0</td>\n",
       "      <td>2</td>\n",
       "      <td>1</td>\n",
       "      <td>1</td>\n",
       "      <td>1.0</td>\n",
       "      <td>8.04</td>\n",
       "      <td>Children</td>\n",
       "    </tr>\n",
       "    <tr>\n",
       "      <th>1</th>\n",
       "      <td>3768</td>\n",
       "      <td>learning</td>\n",
       "      <td>2</td>\n",
       "      <td>1</td>\n",
       "      <td>animals</td>\n",
       "      <td>75</td>\n",
       "      <td>images/cow5.png</td>\n",
       "      <td>bad</td>\n",
       "      <td>-3</td>\n",
       "      <td>-4</td>\n",
       "      <td>0</td>\n",
       "      <td>347.0</td>\n",
       "      <td>0</td>\n",
       "      <td>1</td>\n",
       "      <td>0</td>\n",
       "      <td>1.0</td>\n",
       "      <td>8.04</td>\n",
       "      <td>Children</td>\n",
       "    </tr>\n",
       "    <tr>\n",
       "      <th>2</th>\n",
       "      <td>3768</td>\n",
       "      <td>learning</td>\n",
       "      <td>2</td>\n",
       "      <td>1</td>\n",
       "      <td>animals</td>\n",
       "      <td>77</td>\n",
       "      <td>images/cow8.png</td>\n",
       "      <td>bad</td>\n",
       "      <td>-3</td>\n",
       "      <td>-2</td>\n",
       "      <td>1</td>\n",
       "      <td>618.0</td>\n",
       "      <td>-2</td>\n",
       "      <td>1</td>\n",
       "      <td>0</td>\n",
       "      <td>0.0</td>\n",
       "      <td>8.04</td>\n",
       "      <td>Children</td>\n",
       "    </tr>\n",
       "    <tr>\n",
       "      <th>3</th>\n",
       "      <td>3768</td>\n",
       "      <td>learning</td>\n",
       "      <td>2</td>\n",
       "      <td>1</td>\n",
       "      <td>animals</td>\n",
       "      <td>79</td>\n",
       "      <td>images/horse7.png</td>\n",
       "      <td>neutral</td>\n",
       "      <td>0</td>\n",
       "      <td>2</td>\n",
       "      <td>1</td>\n",
       "      <td>306.0</td>\n",
       "      <td>2</td>\n",
       "      <td>2</td>\n",
       "      <td>1</td>\n",
       "      <td>1.0</td>\n",
       "      <td>8.04</td>\n",
       "      <td>Children</td>\n",
       "    </tr>\n",
       "    <tr>\n",
       "      <th>4</th>\n",
       "      <td>3768</td>\n",
       "      <td>learning</td>\n",
       "      <td>2</td>\n",
       "      <td>1</td>\n",
       "      <td>animals</td>\n",
       "      <td>81</td>\n",
       "      <td>images/goat6.png</td>\n",
       "      <td>good</td>\n",
       "      <td>5</td>\n",
       "      <td>8</td>\n",
       "      <td>0</td>\n",
       "      <td>1521.0</td>\n",
       "      <td>0</td>\n",
       "      <td>1</td>\n",
       "      <td>1</td>\n",
       "      <td>0.0</td>\n",
       "      <td>8.04</td>\n",
       "      <td>Children</td>\n",
       "    </tr>\n",
       "  </tbody>\n",
       "</table>\n",
       "</div>"
      ],
      "text/plain": [
       "   subject_id task_part  block_condition  block_order task_block  trial_index  \\\n",
       "0        3768  learning                2            1    animals           73   \n",
       "1        3768  learning                2            1    animals           75   \n",
       "2        3768  learning                2            1    animals           77   \n",
       "3        3768  learning                2            1    animals           79   \n",
       "4        3768  learning                2            1    animals           81   \n",
       "\n",
       "            stimulus cat_type  mean_cat_reward approach_reward key_press  \\\n",
       "0  images/horse7.png  neutral                0               2         1   \n",
       "1    images/cow5.png      bad               -3              -4         0   \n",
       "2    images/cow8.png      bad               -3              -2         1   \n",
       "3  images/horse7.png  neutral                0               2         1   \n",
       "4   images/goat6.png     good                5               8         0   \n",
       "\n",
       "       rt  points  stimulus_repetition  correct_response  \\\n",
       "0  1148.0       2                    1                 1   \n",
       "1   347.0       0                    1                 0   \n",
       "2   618.0      -2                    1                 0   \n",
       "3   306.0       2                    2                 1   \n",
       "4  1521.0       0                    1                 1   \n",
       "\n",
       "   correct_response_made   age age_group  \n",
       "0                    1.0  8.04  Children  \n",
       "1                    1.0  8.04  Children  \n",
       "2                    0.0  8.04  Children  \n",
       "3                    1.0  8.04  Children  \n",
       "4                    0.0  8.04  Children  "
      ]
     },
     "execution_count": 61,
     "metadata": {},
     "output_type": "execute_result"
    }
   ],
   "source": [
    "# split into age groups\n",
    "learning_merged['age_group'] = pd.cut(learning_merged['age'], bins=[0, 13, 18, float('inf')], labels=['Children', 'Adolescents', 'Adults'])\n",
    "learning_merged.head()"
   ]
  },
  {
   "cell_type": "code",
   "execution_count": 81,
   "metadata": {},
   "outputs": [
    {
     "data": {
      "text/plain": [
       "age                       float64\n",
       "block_condition             int64\n",
       "correct_response_made     float64\n",
       "age_group                category\n",
       "dtype: object"
      ]
     },
     "execution_count": 81,
     "metadata": {},
     "output_type": "execute_result"
    }
   ],
   "source": [
    "learning_data.dtypes"
   ]
  },
  {
   "cell_type": "markdown",
   "metadata": {},
   "source": [
    "## Statistical Analysis on Learning Data Vs Age"
   ]
  },
  {
   "cell_type": "markdown",
   "metadata": {},
   "source": [
    "### Age Vs Correct Response Made"
   ]
  },
  {
   "cell_type": "code",
   "execution_count": 63,
   "metadata": {},
   "outputs": [
    {
     "name": "stdout",
     "output_type": "stream",
     "text": [
      "Number of people in each age group:\n",
      "Children: 15300\n",
      "Adolescents: 15300\n",
      "Adults: 15606\n"
     ]
    }
   ],
   "source": [
    "children_data = learning_data[learning_data['age'] <= 13]\n",
    "adolescents_data = learning_data[(learning_data['age'] > 13) & (learning_data['age'] <= 18)]\n",
    "adults_data = learning_data[learning_data['age'] > 18]\n",
    "\n",
    "print(\"Number of people in each age group:\")\n",
    "print(\"Children:\", len(children_data['age']))\n",
    "print(\"Adolescents:\", len(adolescents_data['age']))\n",
    "print(\"Adults:\", len(adults_data['age']))"
   ]
  },
  {
   "cell_type": "code",
   "execution_count": 167,
   "metadata": {},
   "outputs": [
    {
     "name": "stderr",
     "output_type": "stream",
     "text": [
      "/home/sruj/miniconda3/envs/env/lib/python3.12/site-packages/seaborn/categorical.py:641: FutureWarning: The default of observed=False is deprecated and will be changed to True in a future version of pandas. Pass observed=False to retain current behavior or observed=True to adopt the future default and silence this warning.\n",
      "  grouped_vals = vals.groupby(grouper)\n"
     ]
    },
    {
     "data": {
      "image/png": "[encoded data removed]",
      "text/plain": [
       "<Figure size 800x600 with 1 Axes>"
      ]
     },
     "metadata": {},
     "output_type": "display_data"
    }
   ],
   "source": [
    "# visualize the distribution of age groups\n",
    "plt.figure(figsize=(8, 6))\n",
    "sns.countplot(data=learning_data, x='age_group', palette='crest')\n",
    "plt.title('Distribution of Age Groups')\n",
    "plt.xlabel('Age Group')\n",
    "plt.ylabel('Frequency')\n",
    "plt.show()"
   ]
  },
  {
   "cell_type": "code",
   "execution_count": 66,
   "metadata": {},
   "outputs": [
    {
     "name": "stdout",
     "output_type": "stream",
     "text": [
      "Proportion of correct responses made by each age group:\n",
      "age\n",
      "8.01     0.632280\n",
      "8.03     0.580065\n",
      "8.04     0.761589\n",
      "8.05     0.560656\n",
      "8.10     0.695082\n",
      "           ...   \n",
      "25.06    0.769608\n",
      "25.29    0.830065\n",
      "25.31    0.787582\n",
      "25.87    0.751634\n",
      "25.94    0.713816\n",
      "Name: correct_response_made, Length: 147, dtype: float64\n"
     ]
    }
   ],
   "source": [
    "# Group the data by age groups and count correct and incorrect responses\n",
    "correct_responses_by_age = learning_data.groupby('age')['correct_response_made'].sum()\n",
    "total_responses_by_age = learning_data.groupby('age')['correct_response_made'].count()\n",
    "\n",
    "# Calculate the proportion of correct responses for each age group\n",
    "proportion_correct_by_age = correct_responses_by_age / total_responses_by_age\n",
    "\n",
    "print(\"Proportion of correct responses made by each age group:\")\n",
    "print(proportion_correct_by_age)\n"
   ]
  },
  {
   "cell_type": "code",
   "execution_count": 67,
   "metadata": {},
   "outputs": [
    {
     "name": "stdout",
     "output_type": "stream",
     "text": [
      "Proportion of correct responses made by each age group:\n",
      "Adults: 0.7448475120385233\n",
      "Adolescents: 0.7136953955135773\n",
      "Children: 0.6777989612780225\n"
     ]
    }
   ],
   "source": [
    "\n",
    "# Calculate the proportion of correct responses for each age group\n",
    "adults_proportion_correct = adults_data['correct_response_made'].mean()\n",
    "adolescents_proportion_correct = adolescents_data['correct_response_made'].mean()\n",
    "children_proportion_correct = children_data['correct_response_made'].mean()\n",
    "\n",
    "print(\"Proportion of correct responses made by each age group:\")\n",
    "print(\"Adults:\", adults_proportion_correct)\n",
    "print(\"Adolescents:\", adolescents_proportion_correct)\n",
    "print(\"Children:\", children_proportion_correct)\n"
   ]
  },
  {
   "cell_type": "code",
   "execution_count": 68,
   "metadata": {},
   "outputs": [
    {
     "data": {
      "image/png": "[encoded data removed]",
      "text/plain": [
       "<Figure size 640x480 with 1 Axes>"
      ]
     },
     "metadata": {},
     "output_type": "display_data"
    }
   ],
   "source": [
    "# plotting\n",
    "fig, ax = plt.subplots()\n",
    "ax.bar(['Adults', 'Adolescents', 'Children'], [adults_proportion_correct, adolescents_proportion_correct, children_proportion_correct])\n",
    "ax.set_ylabel('Proportion of correct responses')\n",
    "ax.set_title('Proportion of correct responses by age group')\n",
    "plt.show()"
   ]
  },
  {
   "cell_type": "markdown",
   "metadata": {},
   "source": [
    "\n",
    "\n",
    "> It appears that adults tend to have a higher proportion of correct responses than teenagers and children."
   ]
  },
  {
   "cell_type": "markdown",
   "metadata": {},
   "source": [
    "### Assess the relationship between learning performance(`correct_response_made`) and learning specificity (`block_condition`)"
   ]
  },
  {
   "cell_type": "code",
   "execution_count": 87,
   "metadata": {},
   "outputs": [
    {
     "data": {
      "text/plain": [
       "subject_id                  int64\n",
       "task_part                  object\n",
       "block_condition          category\n",
       "block_order                 int64\n",
       "task_block                 object\n",
       "trial_index                 int64\n",
       "stimulus                   object\n",
       "cat_type                   object\n",
       "mean_cat_reward             int64\n",
       "approach_reward            object\n",
       "key_press                  object\n",
       "rt                        float64\n",
       "points                      int64\n",
       "stimulus_repetition         int64\n",
       "correct_response            int64\n",
       "correct_response_made    category\n",
       "age                       float64\n",
       "age_group                category\n",
       "dtype: object"
      ]
     },
     "execution_count": 87,
     "metadata": {},
     "output_type": "execute_result"
    }
   ],
   "source": [
    "# Convert 'block_condition' to categorical\n",
    "learning_merged['block_condition'] = learning_merged['block_condition'].astype('category')\n",
    "learning_merged.dtypes"
   ]
  },
  {
   "cell_type": "markdown",
   "metadata": {},
   "source": [
    "#### Chi-square test of independence"
   ]
  },
  {
   "cell_type": "markdown",
   "metadata": {},
   "source": [
    "The chi-square test of independence is chosen here because it assesses the association between two categorical variables, which are `correct_response_made`(categorical) and `block_condition` (categorical). This test helps determine if there is a significant relationship between these two variables."
   ]
  },
  {
   "cell_type": "code",
   "execution_count": 89,
   "metadata": {},
   "outputs": [
    {
     "name": "stdout",
     "output_type": "stream",
     "text": [
      "Chi-square Test Results for Block Condition vs. Correct Response Made:\n",
      "Chi-square Statistic: 21.981247372687992\n",
      "P-value: 2.7532748736828756e-06\n"
     ]
    }
   ],
   "source": [
    "contingency_table = pd.crosstab(learning_merged['block_condition'], learning_merged['correct_response_made'])\n",
    "chi2, p_value, _, _ = chi2_contingency(contingency_table)\n",
    "\n",
    "# results\n",
    "print(\"Chi-square Test Results for Block Condition vs. Correct Response Made:\")\n",
    "print(\"Chi-square Statistic:\", chi2)\n",
    "print(\"P-value:\", p_value)\n"
   ]
  },
  {
   "cell_type": "markdown",
   "metadata": {},
   "source": [
    "> There is an association between the block condition and the correct response made. "
   ]
  },
  {
   "cell_type": "code",
   "execution_count": 154,
   "metadata": {},
   "outputs": [
    {
     "name": "stdout",
     "output_type": "stream",
     "text": [
      "  block_condition correct_response_made  count\n",
      "0               1               Correct  16632\n",
      "1               1             Incorrect   6395\n",
      "2               2               Correct  16160\n",
      "3               2             Incorrect   6845\n"
     ]
    },
    {
     "name": "stderr",
     "output_type": "stream",
     "text": [
      "/tmp/ipykernel_93373/3319157441.py:2: FutureWarning: The default of observed=False is deprecated and will be changed to True in a future version of pandas. Pass observed=False to retain current behavior or observed=True to adopt the future default and silence this warning.\n",
      "  response_counts = learning_merged.groupby(['block_condition', 'correct_response_made']).size().reset_index(name='count')\n"
     ]
    }
   ],
   "source": [
    "# Group the data by block condition and correct response made, and then count the occurrences\n",
    "response_counts = learning_merged.groupby(['block_condition', 'correct_response_made']).size().reset_index(name='count')\n",
    "\n",
    "# Print the count for each block condition and correct response\n",
    "print(response_counts)\n"
   ]
  },
  {
   "cell_type": "markdown",
   "metadata": {},
   "source": [
    "#### Visualisation"
   ]
  },
  {
   "cell_type": "code",
   "execution_count": 169,
   "metadata": {},
   "outputs": [
    {
     "name": "stderr",
     "output_type": "stream",
     "text": [
      "/home/sruj/miniconda3/envs/env/lib/python3.12/site-packages/seaborn/categorical.py:641: FutureWarning: The default of observed=False is deprecated and will be changed to True in a future version of pandas. Pass observed=False to retain current behavior or observed=True to adopt the future default and silence this warning.\n",
      "  grouped_vals = vals.groupby(grouper)\n"
     ]
    },
    {
     "data": {
      "image/png": "[encoded data removed]",
      "text/plain": [
       "<Figure size 1000x600 with 1 Axes>"
      ]
     },
     "metadata": {},
     "output_type": "display_data"
    }
   ],
   "source": [
    "# Plot the response counts\n",
    "plt.figure(figsize=(10, 6))\n",
    "sns.barplot(data=response_counts, x='block_condition', y='count', hue='correct_response_made', palette='crest')\n",
    "plt.title('Response Counts for Each Block Condition')\n",
    "plt.xlabel('Block Condition')\n",
    "plt.ylabel('Count')\n",
    "plt.show()"
   ]
  },
  {
   "cell_type": "markdown",
   "metadata": {},
   "source": [
    "### Assess the relationship between `age_group` and `correct_response_made` within each block condition"
   ]
  },
  {
   "cell_type": "markdown",
   "metadata": {},
   "source": [
    "#### Chi-square test of independence"
   ]
  },
  {
   "cell_type": "markdown",
   "metadata": {},
   "source": [
    "##### We perform a chi-square test of independence to assess the relationship between age group (categorical) and correct response made (categorical) within each block condition.\n",
    "\n",
    "Reason: \n",
    "- The test is chosen because it evaluates the association between two categorical variables (age group and correct response made) and helps determine if there is a significant relationship."
   ]
  },
  {
   "cell_type": "code",
   "execution_count": 69,
   "metadata": {},
   "outputs": [
    {
     "data": {
      "text/html": [
       "<div>\n",
       "<style scoped>\n",
       "    .dataframe tbody tr th:only-of-type {\n",
       "        vertical-align: middle;\n",
       "    }\n",
       "\n",
       "    .dataframe tbody tr th {\n",
       "        vertical-align: top;\n",
       "    }\n",
       "\n",
       "    .dataframe thead th {\n",
       "        text-align: right;\n",
       "    }\n",
       "</style>\n",
       "<table border=\"1\" class=\"dataframe\">\n",
       "  <thead>\n",
       "    <tr style=\"text-align: right;\">\n",
       "      <th></th>\n",
       "      <th>subject_id</th>\n",
       "      <th>task_part</th>\n",
       "      <th>block_condition</th>\n",
       "      <th>block_order</th>\n",
       "      <th>task_block</th>\n",
       "      <th>trial_index</th>\n",
       "      <th>stimulus</th>\n",
       "      <th>cat_type</th>\n",
       "      <th>mean_cat_reward</th>\n",
       "      <th>approach_reward</th>\n",
       "      <th>key_press</th>\n",
       "      <th>rt</th>\n",
       "      <th>points</th>\n",
       "      <th>stimulus_repetition</th>\n",
       "      <th>correct_response</th>\n",
       "      <th>correct_response_made</th>\n",
       "      <th>age</th>\n",
       "      <th>age_group</th>\n",
       "    </tr>\n",
       "  </thead>\n",
       "  <tbody>\n",
       "    <tr>\n",
       "      <th>0</th>\n",
       "      <td>3768</td>\n",
       "      <td>learning</td>\n",
       "      <td>2</td>\n",
       "      <td>1</td>\n",
       "      <td>animals</td>\n",
       "      <td>73</td>\n",
       "      <td>images/horse7.png</td>\n",
       "      <td>neutral</td>\n",
       "      <td>0</td>\n",
       "      <td>2</td>\n",
       "      <td>1</td>\n",
       "      <td>1148.0</td>\n",
       "      <td>2</td>\n",
       "      <td>1</td>\n",
       "      <td>1</td>\n",
       "      <td>Correct</td>\n",
       "      <td>8.04</td>\n",
       "      <td>Children</td>\n",
       "    </tr>\n",
       "    <tr>\n",
       "      <th>1</th>\n",
       "      <td>3768</td>\n",
       "      <td>learning</td>\n",
       "      <td>2</td>\n",
       "      <td>1</td>\n",
       "      <td>animals</td>\n",
       "      <td>75</td>\n",
       "      <td>images/cow5.png</td>\n",
       "      <td>bad</td>\n",
       "      <td>-3</td>\n",
       "      <td>-4</td>\n",
       "      <td>0</td>\n",
       "      <td>347.0</td>\n",
       "      <td>0</td>\n",
       "      <td>1</td>\n",
       "      <td>0</td>\n",
       "      <td>Correct</td>\n",
       "      <td>8.04</td>\n",
       "      <td>Children</td>\n",
       "    </tr>\n",
       "    <tr>\n",
       "      <th>2</th>\n",
       "      <td>3768</td>\n",
       "      <td>learning</td>\n",
       "      <td>2</td>\n",
       "      <td>1</td>\n",
       "      <td>animals</td>\n",
       "      <td>77</td>\n",
       "      <td>images/cow8.png</td>\n",
       "      <td>bad</td>\n",
       "      <td>-3</td>\n",
       "      <td>-2</td>\n",
       "      <td>1</td>\n",
       "      <td>618.0</td>\n",
       "      <td>-2</td>\n",
       "      <td>1</td>\n",
       "      <td>0</td>\n",
       "      <td>Incorrect</td>\n",
       "      <td>8.04</td>\n",
       "      <td>Children</td>\n",
       "    </tr>\n",
       "    <tr>\n",
       "      <th>3</th>\n",
       "      <td>3768</td>\n",
       "      <td>learning</td>\n",
       "      <td>2</td>\n",
       "      <td>1</td>\n",
       "      <td>animals</td>\n",
       "      <td>79</td>\n",
       "      <td>images/horse7.png</td>\n",
       "      <td>neutral</td>\n",
       "      <td>0</td>\n",
       "      <td>2</td>\n",
       "      <td>1</td>\n",
       "      <td>306.0</td>\n",
       "      <td>2</td>\n",
       "      <td>2</td>\n",
       "      <td>1</td>\n",
       "      <td>Correct</td>\n",
       "      <td>8.04</td>\n",
       "      <td>Children</td>\n",
       "    </tr>\n",
       "    <tr>\n",
       "      <th>4</th>\n",
       "      <td>3768</td>\n",
       "      <td>learning</td>\n",
       "      <td>2</td>\n",
       "      <td>1</td>\n",
       "      <td>animals</td>\n",
       "      <td>81</td>\n",
       "      <td>images/goat6.png</td>\n",
       "      <td>good</td>\n",
       "      <td>5</td>\n",
       "      <td>8</td>\n",
       "      <td>0</td>\n",
       "      <td>1521.0</td>\n",
       "      <td>0</td>\n",
       "      <td>1</td>\n",
       "      <td>1</td>\n",
       "      <td>Incorrect</td>\n",
       "      <td>8.04</td>\n",
       "      <td>Children</td>\n",
       "    </tr>\n",
       "  </tbody>\n",
       "</table>\n",
       "</div>"
      ],
      "text/plain": [
       "   subject_id task_part  block_condition  block_order task_block  trial_index  \\\n",
       "0        3768  learning                2            1    animals           73   \n",
       "1        3768  learning                2            1    animals           75   \n",
       "2        3768  learning                2            1    animals           77   \n",
       "3        3768  learning                2            1    animals           79   \n",
       "4        3768  learning                2            1    animals           81   \n",
       "\n",
       "            stimulus cat_type  mean_cat_reward approach_reward key_press  \\\n",
       "0  images/horse7.png  neutral                0               2         1   \n",
       "1    images/cow5.png      bad               -3              -4         0   \n",
       "2    images/cow8.png      bad               -3              -2         1   \n",
       "3  images/horse7.png  neutral                0               2         1   \n",
       "4   images/goat6.png     good                5               8         0   \n",
       "\n",
       "       rt  points  stimulus_repetition  correct_response  \\\n",
       "0  1148.0       2                    1                 1   \n",
       "1   347.0       0                    1                 0   \n",
       "2   618.0      -2                    1                 0   \n",
       "3   306.0       2                    2                 1   \n",
       "4  1521.0       0                    1                 1   \n",
       "\n",
       "  correct_response_made   age age_group  \n",
       "0               Correct  8.04  Children  \n",
       "1               Correct  8.04  Children  \n",
       "2             Incorrect  8.04  Children  \n",
       "3               Correct  8.04  Children  \n",
       "4             Incorrect  8.04  Children  "
      ]
     },
     "execution_count": 69,
     "metadata": {},
     "output_type": "execute_result"
    }
   ],
   "source": [
    "# Convert numeric values to categorical values in the 'correct_response_made' column\n",
    "learning_merged['correct_response_made'] = learning_merged['correct_response_made'].map({1: 'Correct', 0: 'Incorrect'})\n",
    "learning_merged.head()"
   ]
  },
  {
   "cell_type": "code",
   "execution_count": 72,
   "metadata": {},
   "outputs": [
    {
     "name": "stdout",
     "output_type": "stream",
     "text": [
      "\n",
      "Chi-square Test Results for Block Condition 1:\n",
      "Chi-square Statistic: 79.0181611143556\n",
      "P-value: 6.941036512237949e-18\n"
     ]
    }
   ],
   "source": [
    "# Block condition 1\n",
    "block_condition_1_data = learning_merged[learning_merged['block_condition'] == 1]\n",
    "contingency_table_1 = pd.crosstab(block_condition_1_data['age_group'], block_condition_1_data['correct_response_made'])\n",
    "chi2_1, p_value_1, _, _ = chi2_contingency(contingency_table_1)\n",
    "print(\"\\nChi-square Test Results for Block Condition 1:\")\n",
    "print(\"Chi-square Statistic:\", chi2_1)\n",
    "print(\"P-value:\", p_value_1)"
   ]
  },
  {
   "cell_type": "code",
   "execution_count": 73,
   "metadata": {},
   "outputs": [
    {
     "name": "stdout",
     "output_type": "stream",
     "text": [
      "\n",
      "Chi-square Test Results for Block Condition 2:\n",
      "Chi-square Statistic: 93.93500946114119\n",
      "P-value: 4.001951920832369e-21\n"
     ]
    }
   ],
   "source": [
    "# Block condition 2\n",
    "block_condition_2_data = learning_merged[learning_merged['block_condition'] == 2]\n",
    "contingency_table_2 = pd.crosstab(block_condition_2_data['age_group'], block_condition_2_data['correct_response_made'])\n",
    "chi2_2, p_value_2, _, _ = chi2_contingency(contingency_table_2)\n",
    "print(\"\\nChi-square Test Results for Block Condition 2:\")\n",
    "print(\"Chi-square Statistic:\", chi2_2)\n",
    "print(\"P-value:\", p_value_2)"
   ]
  },
  {
   "cell_type": "markdown",
   "metadata": {},
   "source": [
    "> The chi-square test results provide a measure of the association between age group and correct response made within each block condition.\n",
    "\n",
    "> These results suggest that there is a significant relationship between age group and correct response made within both Block Condition 1 and Block Condition 2. "
   ]
  },
  {
   "cell_type": "markdown",
   "metadata": {},
   "source": [
    "#### Post Hoc tests"
   ]
  },
  {
   "cell_type": "markdown",
   "metadata": {},
   "source": [
    "Pairwise chi-square tests (Bonferroni corrected) is performed to compare correct response rates between different age groups within each block condition.\n",
    "\n",
    "\n",
    "Reasons: \n",
    "- Comparing Multiple Groups: we have more than two groups (in this case, different age groups) and want to compare each group against each other, pairwise tests are necessary to examine the specific differences between groups.\n",
    "\n",
    "- Correcting for Multiple Comparisons: Bonferroni correction is applied to address the issue of multiple comparisons. When you perform multiple tests, the probability of obtaining a significant result by chance increases. Bonferroni correction adjusts the significance level (alpha) to maintain an overall family-wise error rate.\n",
    "\n",
    "- To identify Specific Group Difference\n"
   ]
  },
  {
   "cell_type": "code",
   "execution_count": 126,
   "metadata": {},
   "outputs": [],
   "source": [
    "\n",
    "def pairwise_chi_square(data, group_col, response_col, block_condition_col):\n",
    "    results = []\n",
    "    block_conditions = data[block_condition_col].unique()\n",
    "    for block_condition in block_conditions:\n",
    "        block_condition_data = data[data[block_condition_col] == block_condition]\n",
    "        age_groups = block_condition_data[group_col].unique()\n",
    "        for i in range(len(age_groups)):\n",
    "            for j in range(i + 1, len(age_groups)):\n",
    "                age_group1 = age_groups[i]\n",
    "                age_group2 = age_groups[j]\n",
    "                contingency_table = pd.crosstab(block_condition_data[group_col], block_condition_data[response_col])\n",
    "                chi2, p_value, _, _ = chi2_contingency(contingency_table)\n",
    "                results.append((block_condition, age_group1, age_group2, chi2, p_value))\n",
    "    return results\n"
   ]
  },
  {
   "cell_type": "code",
   "execution_count": 127,
   "metadata": {},
   "outputs": [],
   "source": [
    "# Perform pairwise chi-square tests with Bonferroni correction\n",
    "pairwise_results = pairwise_chi_square(learning_merged, 'age_group', 'correct_response_made', 'block_condition')"
   ]
  },
  {
   "cell_type": "code",
   "execution_count": 128,
   "metadata": {},
   "outputs": [],
   "source": [
    "# Bonferroni correction for multiple comparisons\n",
    "alpha = 0.05\n",
    "results_corrected = multipletests([result[4] for result in pairwise_results], alpha=alpha, method='bonferroni')\n"
   ]
  },
  {
   "cell_type": "code",
   "execution_count": 129,
   "metadata": {},
   "outputs": [
    {
     "name": "stdout",
     "output_type": "stream",
     "text": [
      "Pairwise Chi-square Test Results with Bonferroni Correction:\n",
      "Block Condition: 2, Age Groups: Children vs Adolescents, Chi-square: 93.93500946114119, P-value: 4.001951920832369e-21, Rejected: True\n",
      "Block Condition: 2, Age Groups: Children vs Adults, Chi-square: 93.93500946114119, P-value: 4.001951920832369e-21, Rejected: True\n",
      "Block Condition: 2, Age Groups: Adolescents vs Adults, Chi-square: 93.93500946114119, P-value: 4.001951920832369e-21, Rejected: True\n",
      "Block Condition: 1, Age Groups: Children vs Adolescents, Chi-square: 79.0181611143556, P-value: 6.941036512237949e-18, Rejected: True\n",
      "Block Condition: 1, Age Groups: Children vs Adults, Chi-square: 79.0181611143556, P-value: 6.941036512237949e-18, Rejected: True\n",
      "Block Condition: 1, Age Groups: Adolescents vs Adults, Chi-square: 79.0181611143556, P-value: 6.941036512237949e-18, Rejected: True\n"
     ]
    }
   ],
   "source": [
    "print(\"Pairwise Chi-square Test Results with Bonferroni Correction:\")\n",
    "for i, result in enumerate(pairwise_results):\n",
    "    block_condition, age_group1, age_group2, chi2, p_value = result\n",
    "    rejected = results_corrected[0][i]\n",
    "    print(f\"Block Condition: {block_condition}, Age Groups: {age_group1} vs {age_group2}, Chi-square: {chi2}, P-value: {p_value}, Rejected: {rejected}\")\n"
   ]
  },
  {
   "cell_type": "code",
   "execution_count": 109,
   "metadata": {},
   "outputs": [
    {
     "name": "stderr",
     "output_type": "stream",
     "text": [
      "/tmp/ipykernel_93373/607038339.py:2: FutureWarning: The default of observed=False is deprecated and will be changed to True in a future version of pandas. Pass observed=False to retain current behavior or observed=True to adopt the future default and silence this warning.\n",
      "  response_counts_block1 = learning_merged[learning_merged['block_condition'] == 1].groupby(['age_group', 'correct_response_made']).size().reset_index(name='count')\n",
      "/tmp/ipykernel_93373/607038339.py:3: FutureWarning: The default of observed=False is deprecated and will be changed to True in a future version of pandas. Pass observed=False to retain current behavior or observed=True to adopt the future default and silence this warning.\n",
      "  response_counts_block2 = learning_merged[learning_merged['block_condition'] == 2].groupby(['age_group', 'correct_response_made']).size().reset_index(name='count')\n"
     ]
    }
   ],
   "source": [
    "# Group the data by block condition, age group, and correct response made, and then count the occurrences\n",
    "response_counts_block1 = learning_merged[learning_merged['block_condition'] == 1].groupby(['age_group', 'correct_response_made']).size().reset_index(name='count')\n",
    "response_counts_block2 = learning_merged[learning_merged['block_condition'] == 2].groupby(['age_group', 'correct_response_made']).size().reset_index(name='count')"
   ]
  },
  {
   "cell_type": "code",
   "execution_count": 110,
   "metadata": {},
   "outputs": [
    {
     "name": "stdout",
     "output_type": "stream",
     "text": [
      "Block Condition 1:\n"
     ]
    },
    {
     "data": {
      "text/html": [
       "<div>\n",
       "<style scoped>\n",
       "    .dataframe tbody tr th:only-of-type {\n",
       "        vertical-align: middle;\n",
       "    }\n",
       "\n",
       "    .dataframe tbody tr th {\n",
       "        vertical-align: top;\n",
       "    }\n",
       "\n",
       "    .dataframe thead th {\n",
       "        text-align: right;\n",
       "    }\n",
       "</style>\n",
       "<table border=\"1\" class=\"dataframe\">\n",
       "  <thead>\n",
       "    <tr style=\"text-align: right;\">\n",
       "      <th></th>\n",
       "      <th>age_group</th>\n",
       "      <th>correct_response_made</th>\n",
       "      <th>count</th>\n",
       "    </tr>\n",
       "  </thead>\n",
       "  <tbody>\n",
       "    <tr>\n",
       "      <th>0</th>\n",
       "      <td>Children</td>\n",
       "      <td>Correct</td>\n",
       "      <td>5227</td>\n",
       "    </tr>\n",
       "    <tr>\n",
       "      <th>1</th>\n",
       "      <td>Children</td>\n",
       "      <td>Incorrect</td>\n",
       "      <td>2382</td>\n",
       "    </tr>\n",
       "    <tr>\n",
       "      <th>2</th>\n",
       "      <td>Adolescents</td>\n",
       "      <td>Correct</td>\n",
       "      <td>5564</td>\n",
       "    </tr>\n",
       "    <tr>\n",
       "      <th>3</th>\n",
       "      <td>Adolescents</td>\n",
       "      <td>Incorrect</td>\n",
       "      <td>2066</td>\n",
       "    </tr>\n",
       "    <tr>\n",
       "      <th>4</th>\n",
       "      <td>Adults</td>\n",
       "      <td>Correct</td>\n",
       "      <td>5841</td>\n",
       "    </tr>\n",
       "    <tr>\n",
       "      <th>5</th>\n",
       "      <td>Adults</td>\n",
       "      <td>Incorrect</td>\n",
       "      <td>1947</td>\n",
       "    </tr>\n",
       "  </tbody>\n",
       "</table>\n",
       "</div>"
      ],
      "text/plain": [
       "     age_group correct_response_made  count\n",
       "0     Children               Correct   5227\n",
       "1     Children             Incorrect   2382\n",
       "2  Adolescents               Correct   5564\n",
       "3  Adolescents             Incorrect   2066\n",
       "4       Adults               Correct   5841\n",
       "5       Adults             Incorrect   1947"
      ]
     },
     "execution_count": 110,
     "metadata": {},
     "output_type": "execute_result"
    }
   ],
   "source": [
    "print(\"Block Condition 1:\")\n",
    "response_counts_block1"
   ]
  },
  {
   "cell_type": "code",
   "execution_count": 111,
   "metadata": {},
   "outputs": [
    {
     "name": "stdout",
     "output_type": "stream",
     "text": [
      "\n",
      "Block Condition 2:\n"
     ]
    },
    {
     "data": {
      "text/html": [
       "<div>\n",
       "<style scoped>\n",
       "    .dataframe tbody tr th:only-of-type {\n",
       "        vertical-align: middle;\n",
       "    }\n",
       "\n",
       "    .dataframe tbody tr th {\n",
       "        vertical-align: top;\n",
       "    }\n",
       "\n",
       "    .dataframe thead th {\n",
       "        text-align: right;\n",
       "    }\n",
       "</style>\n",
       "<table border=\"1\" class=\"dataframe\">\n",
       "  <thead>\n",
       "    <tr style=\"text-align: right;\">\n",
       "      <th></th>\n",
       "      <th>age_group</th>\n",
       "      <th>correct_response_made</th>\n",
       "      <th>count</th>\n",
       "    </tr>\n",
       "  </thead>\n",
       "  <tbody>\n",
       "    <tr>\n",
       "      <th>0</th>\n",
       "      <td>Children</td>\n",
       "      <td>Correct</td>\n",
       "      <td>5083</td>\n",
       "    </tr>\n",
       "    <tr>\n",
       "      <th>1</th>\n",
       "      <td>Children</td>\n",
       "      <td>Incorrect</td>\n",
       "      <td>2519</td>\n",
       "    </tr>\n",
       "    <tr>\n",
       "      <th>2</th>\n",
       "      <td>Adolescents</td>\n",
       "      <td>Correct</td>\n",
       "      <td>5317</td>\n",
       "    </tr>\n",
       "    <tr>\n",
       "      <th>3</th>\n",
       "      <td>Adolescents</td>\n",
       "      <td>Incorrect</td>\n",
       "      <td>2299</td>\n",
       "    </tr>\n",
       "    <tr>\n",
       "      <th>4</th>\n",
       "      <td>Adults</td>\n",
       "      <td>Correct</td>\n",
       "      <td>5760</td>\n",
       "    </tr>\n",
       "    <tr>\n",
       "      <th>5</th>\n",
       "      <td>Adults</td>\n",
       "      <td>Incorrect</td>\n",
       "      <td>2027</td>\n",
       "    </tr>\n",
       "  </tbody>\n",
       "</table>\n",
       "</div>"
      ],
      "text/plain": [
       "     age_group correct_response_made  count\n",
       "0     Children               Correct   5083\n",
       "1     Children             Incorrect   2519\n",
       "2  Adolescents               Correct   5317\n",
       "3  Adolescents             Incorrect   2299\n",
       "4       Adults               Correct   5760\n",
       "5       Adults             Incorrect   2027"
      ]
     },
     "execution_count": 111,
     "metadata": {},
     "output_type": "execute_result"
    }
   ],
   "source": [
    "print(\"\\nBlock Condition 2:\")\n",
    "response_counts_block2\n"
   ]
  },
  {
   "cell_type": "markdown",
   "metadata": {},
   "source": [
    "#### Visualisations"
   ]
  },
  {
   "cell_type": "code",
   "execution_count": 170,
   "metadata": {},
   "outputs": [
    {
     "name": "stderr",
     "output_type": "stream",
     "text": [
      "/home/sruj/miniconda3/envs/env/lib/python3.12/site-packages/seaborn/categorical.py:641: FutureWarning: The default of observed=False is deprecated and will be changed to True in a future version of pandas. Pass observed=False to retain current behavior or observed=True to adopt the future default and silence this warning.\n",
      "  grouped_vals = vals.groupby(grouper)\n",
      "/home/sruj/miniconda3/envs/env/lib/python3.12/site-packages/seaborn/categorical.py:641: FutureWarning: The default of observed=False is deprecated and will be changed to True in a future version of pandas. Pass observed=False to retain current behavior or observed=True to adopt the future default and silence this warning.\n",
      "  grouped_vals = vals.groupby(grouper)\n"
     ]
    },
    {
     "data": {
      "image/png": "[encoded data removed]",
      "text/plain": [
       "<Figure size 1200x800 with 2 Axes>"
      ]
     },
     "metadata": {},
     "output_type": "display_data"
    }
   ],
   "source": [
    "plt.figure(figsize=(12, 8))\n",
    "\n",
    "# Count plot for Block Condition 1\n",
    "plt.subplot(1, 2, 1)\n",
    "sns.countplot(data=learning_merged[learning_merged['block_condition'] == 1], x='age_group', hue='correct_response_made', palette='crest')\n",
    "plt.title('Distribution of Correct Responses Across Age Groups (Block Condition 1)')\n",
    "plt.xlabel('Age Group')\n",
    "plt.ylabel('Count')\n",
    "plt.legend(title='Correct Response')\n",
    "\n",
    "# Count plot for Block Condition 2\n",
    "plt.subplot(1, 2, 2)\n",
    "sns.countplot(data=learning_merged[learning_merged['block_condition'] == 2], x='age_group', hue='correct_response_made', palette='crest')\n",
    "plt.title('Distribution of Correct Responses Across Age Groups (Block Condition 2)')\n",
    "plt.xlabel('Age Group')\n",
    "plt.ylabel('Count')\n",
    "plt.legend(title='Correct Response')\n",
    "\n",
    "plt.tight_layout()\n",
    "plt.show()\n"
   ]
  },
  {
   "cell_type": "markdown",
   "metadata": {},
   "source": [
    "> In both block conditions, adults tend to have the highest number of correct responses, followed by adolescents and then children and this effect is more for Block Condition 1. \n",
    "\n",
    "> The hypothesis being tested is whether there is a significant relationship between age group and the adaptation towards the specificity of learning computations, so we are focussed on Block condition 2. "
   ]
  },
  {
   "cell_type": "markdown",
   "metadata": {},
   "source": [
    "#### Assess relationship between age and correct response made within the exemplar predictive block condition."
   ]
  },
  {
   "cell_type": "markdown",
   "metadata": {},
   "source": [
    "#### Independent Samples T-test"
   ]
  },
  {
   "cell_type": "markdown",
   "metadata": {},
   "source": [
    "The Independent Samples T-test for each pair of age groups within Block Condition 1 is performed to assess whether there is a significant difference in the mean correct response made between two age groups (e.g., children vs. adolescents, children vs. adults, adolescents vs. adults) within the exemplar predictive block condition.\n",
    "\n",
    "Reason:\n",
    "\n",
    "- The choice of this test is based on the nature of the data, which includes two independent categorical variables (age group and correct response made) and one continuous variable (mean correct response)."
   ]
  },
  {
   "cell_type": "code",
   "execution_count": 118,
   "metadata": {},
   "outputs": [],
   "source": [
    "\n",
    "# Convert 'Correct' and 'Incorrect' to numerical values \n",
    "learning_merged['correct_response_numeric'] = learning_merged['correct_response_made'].map({'Correct': 1, 'Incorrect': 0})\n",
    "\n",
    "# Filter the data for Block Condition 2\n",
    "block_condition_2_data = learning_merged[learning_merged['block_condition'] == 2]"
   ]
  },
  {
   "cell_type": "code",
   "execution_count": 119,
   "metadata": {},
   "outputs": [],
   "source": [
    "# Separate the data into different age groups\n",
    "children_data_bc2 = block_condition_2_data[block_condition_2_data['age_group'] == 'Children']['correct_response_numeric']\n",
    "adolescents_data_bc2 = block_condition_2_data[block_condition_2_data['age_group'] == 'Adolescents']['correct_response_numeric']\n",
    "adults_data_bc2 = block_condition_2_data[block_condition_2_data['age_group'] == 'Adults']['correct_response_numeric']"
   ]
  },
  {
   "cell_type": "code",
   "execution_count": 123,
   "metadata": {},
   "outputs": [
    {
     "name": "stdout",
     "output_type": "stream",
     "text": [
      "Independent Samples T-test Results for Block Condition 2:\n",
      "\n",
      "Children vs Adolescents:\n",
      "T-statistic: -3.91294985098546\n",
      "P-value: 9.157216251045923e-05\n"
     ]
    }
   ],
   "source": [
    "t_stat_child_ado, p_value_child_ado = ttest_ind(children_data_bc2, adolescents_data_bc2)\n",
    "print(\"Independent Samples T-test Results for Block Condition 2:\")\n",
    "print(\"\\nChildren vs Adolescents:\")\n",
    "print(\"T-statistic:\", t_stat_child_ado)\n",
    "print(\"P-value:\", p_value_child_ado)"
   ]
  },
  {
   "cell_type": "code",
   "execution_count": 121,
   "metadata": {},
   "outputs": [
    {
     "name": "stdout",
     "output_type": "stream",
     "text": [
      "Independent Samples T-test Results for Block Condition 2:\n",
      "\n",
      "Children vs Adults:\n",
      "T-statistic: -9.688330495823868\n",
      "P-value: 3.909830574357572e-22\n"
     ]
    }
   ],
   "source": [
    "t_stat_child_adult, p_value_child_adult = ttest_ind(children_data_bc2, adults_data_bc2)\n",
    "print(\"Independent Samples T-test Results for Block Condition 2:\")\n",
    "print(\"\\nChildren vs Adults:\")\n",
    "print(\"T-statistic:\", t_stat_child_adult)\n",
    "print(\"P-value:\", p_value_child_adult)\n"
   ]
  },
  {
   "cell_type": "code",
   "execution_count": 122,
   "metadata": {},
   "outputs": [
    {
     "name": "stdout",
     "output_type": "stream",
     "text": [
      "Independent Samples T-test Results for Block Condition 2:\n",
      "\n",
      "Adolescents vs Adults:\n",
      "T-statistic: -5.743768748766688\n",
      "P-value: 9.433992265474692e-09\n"
     ]
    }
   ],
   "source": [
    "t_stat_ado_adult, p_value_ado_adult = ttest_ind(adolescents_data_bc2, adults_data_bc2)\n",
    "print(\"Independent Samples T-test Results for Block Condition 2:\")\n",
    "print(\"\\nAdolescents vs Adults:\")\n",
    "print(\"T-statistic:\", t_stat_ado_adult)\n",
    "print(\"P-value:\", p_value_ado_adult)"
   ]
  },
  {
   "cell_type": "markdown",
   "metadata": {},
   "source": [
    "#### Visualisations"
   ]
  },
  {
   "cell_type": "code",
   "execution_count": 171,
   "metadata": {},
   "outputs": [
    {
     "name": "stderr",
     "output_type": "stream",
     "text": [
      "/home/sruj/miniconda3/envs/env/lib/python3.12/site-packages/seaborn/categorical.py:641: FutureWarning: The default of observed=False is deprecated and will be changed to True in a future version of pandas. Pass observed=False to retain current behavior or observed=True to adopt the future default and silence this warning.\n",
      "  grouped_vals = vals.groupby(grouper)\n"
     ]
    },
    {
     "data": {
      "image/png": "[encoded data removed]",
      "text/plain": [
       "<Figure size 1000x600 with 1 Axes>"
      ]
     },
     "metadata": {},
     "output_type": "display_data"
    }
   ],
   "source": [
    "# Filter the data for Block Condition 2\n",
    "block_condition_2_data = learning_merged[learning_merged['block_condition'] == 2]\n",
    "\n",
    "# Create a bar plot\n",
    "plt.figure(figsize=(10, 6))\n",
    "sns.countplot(data=block_condition_2_data, x='age_group', hue='correct_response_made', palette='crest')\n",
    "plt.title('Correct Response by Age Group in Block Condition 2')\n",
    "plt.xlabel('Age Group')\n",
    "plt.ylabel('Count')\n",
    "plt.legend(title='Correct Response', loc='upper right')\n",
    "plt.show()\n"
   ]
  },
  {
   "cell_type": "code",
   "execution_count": 172,
   "metadata": {},
   "outputs": [
    {
     "name": "stderr",
     "output_type": "stream",
     "text": [
      "/home/sruj/miniconda3/envs/env/lib/python3.12/site-packages/seaborn/categorical.py:641: FutureWarning: The default of observed=False is deprecated and will be changed to True in a future version of pandas. Pass observed=False to retain current behavior or observed=True to adopt the future default and silence this warning.\n",
      "  grouped_vals = vals.groupby(grouper)\n"
     ]
    },
    {
     "data": {
      "image/png": "[encoded data removed]",
      "text/plain": [
       "<Figure size 800x600 with 1 Axes>"
      ]
     },
     "metadata": {},
     "output_type": "display_data"
    }
   ],
   "source": [
    "# Count plot of correct responses by age group in block condition 2\n",
    "plt.figure(figsize=(8, 6))\n",
    "sns.countplot(data=learning_merged[(learning_merged['block_condition'] == 2) & (learning_merged['correct_response_made'] == 'Correct')],\n",
    "              x='age_group', palette='crest')\n",
    "plt.title('Count of Correct Responses by Age Group (Block Condition 2)')\n",
    "plt.xlabel('Age Group')\n",
    "plt.ylabel('Count')\n",
    "plt.show()\n"
   ]
  },
  {
   "cell_type": "markdown",
   "metadata": {},
   "source": [
    "### Final Inferences:\n",
    "\n",
    "##### **Distribution of Correct Responses by Age Group:**\n",
    "- Adults tend to have a higher proportion of correct responses than adolescents and children.\n",
    "- The proportion of correct responses generally increases with age.\n",
    "\n",
    "##### **Association between Block Condition and Correct Response Made:**\n",
    "- There is a significant association between block condition and correct response made. Block condition 1 and 2 show slightly different distributions of correct and incorrect responses.\n",
    "\n",
    "##### **Relationship between Age Group and Correct Response Made within Each Block Condition:**\n",
    "- **Chi-square tests** indicate a significant relationship between age group and correct response made within both block conditions.\n",
    "- Post hoc tests (pairwise chi-square tests with Bonferroni correction) reveal specific differences between age groups within each block condition.\n",
    "- **Independent Samples T-test for Block Condition 2** indicate significant differences exist in the mean correct response made between different age groups within Block Condition 2.\n",
    "\n",
    "Children vs Adolescents: p-value < 0.05, Reject H0\n",
    "\n",
    "Children vs Adults: p-value < 0.05, Reject H0\n",
    "\n",
    "Adolescents vs Adults: p-value < 0.05, Reject H0\n",
    "\n",
    "> Overall, the analyses suggest that age group influences the adaptation towards the specificity of learning computations. Adults tend to exhibit better learning performance compared to adolescents and children when it comes to specificity of learning computations(block condition 2). \n",
    "\n",
    "**Adaptation towards the specificity of learning computations increases with age.**"
   ]
  }
 ],
 "metadata": {
  "kernelspec": {
   "display_name": "env",
   "language": "python",
   "name": "python3"
  },
  "language_info": {
   "codemirror_mode": {
    "name": "ipython",
    "version": 3
   },
   "file_extension": ".py",
   "mimetype": "text/x-python",
   "name": "python",
   "nbconvert_exporter": "python",
   "pygments_lexer": "ipython3",
   "version": "3.12.2"
  }
 },
 "nbformat": 4,
 "nbformat_minor": 2
}
