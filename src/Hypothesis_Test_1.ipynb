{
 "cells": [
  {
   "cell_type": "markdown",
   "metadata": {},
   "source": [
    "# Hypothesis Testing - 1"
   ]
  },
  {
   "cell_type": "markdown",
   "metadata": {},
   "source": [
    "- **$H_0$ (Null Hypothesis):** <br>\n",
    "There is no statistically significant difference in memory representations between individuals with different levels of specificity during learning.\n",
    "<br>\n",
    "\n",
    "- **$H_1$ (Alternative Hypothesis):** <br>\n",
    "There is a statistically significant difference in memory representations between individuals with different levels of specificity during learning."
   ]
  },
  {
   "cell_type": "markdown",
   "metadata": {},
   "source": [
    "#### Importing Libraries"
   ]
  },
  {
   "cell_type": "code",
   "execution_count": 37,
   "metadata": {},
   "outputs": [],
   "source": [
    "import numpy as np\n",
    "import pandas as pd\n",
    "import seaborn as sns\n",
    "import plotly.express as px\n",
    "import matplotlib.pyplot as plt\n",
    "import scipy.stats as stats\n",
    "import os\n",
    "from scipy.stats import shapiro"
   ]
  },
  {
   "cell_type": "markdown",
   "metadata": {},
   "source": [
    "#### Reading Data"
   ]
  },
  {
   "cell_type": "code",
   "execution_count": 38,
   "metadata": {},
   "outputs": [],
   "source": [
    "# reading subject age data\n",
    "sub_ages = pd.read_csv('../data/e1/e1_sub_ages.csv')\n",
    "\n",
    "# Reading learning data\n",
    "learning_data = pd.read_csv('../data/e1/e1_learning_data.csv')\n",
    "\n",
    "# Reading memory data\n",
    "memory_data = pd.read_csv('../data/e1/e1_memory_data.csv')"
   ]
  },
  {
   "cell_type": "markdown",
   "metadata": {},
   "source": [
    "#### Data Processing"
   ]
  },
  {
   "cell_type": "code",
   "execution_count": 39,
   "metadata": {},
   "outputs": [
    {
     "data": {
      "text/html": [
       "<div>\n",
       "<style scoped>\n",
       "    .dataframe tbody tr th:only-of-type {\n",
       "        vertical-align: middle;\n",
       "    }\n",
       "\n",
       "    .dataframe tbody tr th {\n",
       "        vertical-align: top;\n",
       "    }\n",
       "\n",
       "    .dataframe thead th {\n",
       "        text-align: right;\n",
       "    }\n",
       "</style>\n",
       "<table border=\"1\" class=\"dataframe\">\n",
       "  <thead>\n",
       "    <tr style=\"text-align: right;\">\n",
       "      <th></th>\n",
       "      <th>subject_id</th>\n",
       "      <th>age</th>\n",
       "    </tr>\n",
       "  </thead>\n",
       "  <tbody>\n",
       "    <tr>\n",
       "      <th>0</th>\n",
       "      <td>3768</td>\n",
       "      <td>8.04</td>\n",
       "    </tr>\n",
       "    <tr>\n",
       "      <th>1</th>\n",
       "      <td>3770</td>\n",
       "      <td>8.10</td>\n",
       "    </tr>\n",
       "    <tr>\n",
       "      <th>2</th>\n",
       "      <td>3855</td>\n",
       "      <td>16.83</td>\n",
       "    </tr>\n",
       "    <tr>\n",
       "      <th>3</th>\n",
       "      <td>3853</td>\n",
       "      <td>16.94</td>\n",
       "    </tr>\n",
       "    <tr>\n",
       "      <th>4</th>\n",
       "      <td>3898</td>\n",
       "      <td>22.15</td>\n",
       "    </tr>\n",
       "  </tbody>\n",
       "</table>\n",
       "</div>"
      ],
      "text/plain": [
       "   subject_id    age\n",
       "0        3768   8.04\n",
       "1        3770   8.10\n",
       "2        3855  16.83\n",
       "3        3853  16.94\n",
       "4        3898  22.15"
      ]
     },
     "execution_count": 39,
     "metadata": {},
     "output_type": "execute_result"
    }
   ],
   "source": [
    "sub_ages.head()"
   ]
  },
  {
   "cell_type": "code",
   "execution_count": 40,
   "metadata": {},
   "outputs": [
    {
     "data": {
      "text/plain": [
       "(151, 2)"
      ]
     },
     "execution_count": 40,
     "metadata": {},
     "output_type": "execute_result"
    }
   ],
   "source": [
    "sub_ages.shape"
   ]
  },
  {
   "cell_type": "code",
   "execution_count": 41,
   "metadata": {},
   "outputs": [
    {
     "data": {
      "text/html": [
       "<div>\n",
       "<style scoped>\n",
       "    .dataframe tbody tr th:only-of-type {\n",
       "        vertical-align: middle;\n",
       "    }\n",
       "\n",
       "    .dataframe tbody tr th {\n",
       "        vertical-align: top;\n",
       "    }\n",
       "\n",
       "    .dataframe thead th {\n",
       "        text-align: right;\n",
       "    }\n",
       "</style>\n",
       "<table border=\"1\" class=\"dataframe\">\n",
       "  <thead>\n",
       "    <tr style=\"text-align: right;\">\n",
       "      <th></th>\n",
       "      <th>subject_id</th>\n",
       "      <th>task_part</th>\n",
       "      <th>block_condition</th>\n",
       "      <th>block_order</th>\n",
       "      <th>task_block</th>\n",
       "      <th>trial_index</th>\n",
       "      <th>stimulus</th>\n",
       "      <th>cat_type</th>\n",
       "      <th>mean_cat_reward</th>\n",
       "      <th>approach_reward</th>\n",
       "      <th>key_press</th>\n",
       "      <th>rt</th>\n",
       "      <th>points</th>\n",
       "      <th>stimulus_repetition</th>\n",
       "      <th>correct_response</th>\n",
       "      <th>correct_response_made</th>\n",
       "    </tr>\n",
       "  </thead>\n",
       "  <tbody>\n",
       "    <tr>\n",
       "      <th>0</th>\n",
       "      <td>3768</td>\n",
       "      <td>learning</td>\n",
       "      <td>2</td>\n",
       "      <td>1</td>\n",
       "      <td>animals</td>\n",
       "      <td>73</td>\n",
       "      <td>images/horse7.png</td>\n",
       "      <td>neutral</td>\n",
       "      <td>0</td>\n",
       "      <td>2</td>\n",
       "      <td>1</td>\n",
       "      <td>1148.0</td>\n",
       "      <td>2</td>\n",
       "      <td>1</td>\n",
       "      <td>1</td>\n",
       "      <td>1.0</td>\n",
       "    </tr>\n",
       "    <tr>\n",
       "      <th>1</th>\n",
       "      <td>3768</td>\n",
       "      <td>learning</td>\n",
       "      <td>2</td>\n",
       "      <td>1</td>\n",
       "      <td>animals</td>\n",
       "      <td>75</td>\n",
       "      <td>images/cow5.png</td>\n",
       "      <td>bad</td>\n",
       "      <td>-3</td>\n",
       "      <td>-4</td>\n",
       "      <td>0</td>\n",
       "      <td>347.0</td>\n",
       "      <td>0</td>\n",
       "      <td>1</td>\n",
       "      <td>0</td>\n",
       "      <td>1.0</td>\n",
       "    </tr>\n",
       "    <tr>\n",
       "      <th>2</th>\n",
       "      <td>3768</td>\n",
       "      <td>learning</td>\n",
       "      <td>2</td>\n",
       "      <td>1</td>\n",
       "      <td>animals</td>\n",
       "      <td>77</td>\n",
       "      <td>images/cow8.png</td>\n",
       "      <td>bad</td>\n",
       "      <td>-3</td>\n",
       "      <td>-2</td>\n",
       "      <td>1</td>\n",
       "      <td>618.0</td>\n",
       "      <td>-2</td>\n",
       "      <td>1</td>\n",
       "      <td>0</td>\n",
       "      <td>0.0</td>\n",
       "    </tr>\n",
       "    <tr>\n",
       "      <th>3</th>\n",
       "      <td>3768</td>\n",
       "      <td>learning</td>\n",
       "      <td>2</td>\n",
       "      <td>1</td>\n",
       "      <td>animals</td>\n",
       "      <td>79</td>\n",
       "      <td>images/horse7.png</td>\n",
       "      <td>neutral</td>\n",
       "      <td>0</td>\n",
       "      <td>2</td>\n",
       "      <td>1</td>\n",
       "      <td>306.0</td>\n",
       "      <td>2</td>\n",
       "      <td>2</td>\n",
       "      <td>1</td>\n",
       "      <td>1.0</td>\n",
       "    </tr>\n",
       "    <tr>\n",
       "      <th>4</th>\n",
       "      <td>3768</td>\n",
       "      <td>learning</td>\n",
       "      <td>2</td>\n",
       "      <td>1</td>\n",
       "      <td>animals</td>\n",
       "      <td>81</td>\n",
       "      <td>images/goat6.png</td>\n",
       "      <td>good</td>\n",
       "      <td>5</td>\n",
       "      <td>8</td>\n",
       "      <td>0</td>\n",
       "      <td>1521.0</td>\n",
       "      <td>0</td>\n",
       "      <td>1</td>\n",
       "      <td>1</td>\n",
       "      <td>0.0</td>\n",
       "    </tr>\n",
       "  </tbody>\n",
       "</table>\n",
       "</div>"
      ],
      "text/plain": [
       "   subject_id task_part  block_condition  block_order task_block  trial_index  \\\n",
       "0        3768  learning                2            1    animals           73   \n",
       "1        3768  learning                2            1    animals           75   \n",
       "2        3768  learning                2            1    animals           77   \n",
       "3        3768  learning                2            1    animals           79   \n",
       "4        3768  learning                2            1    animals           81   \n",
       "\n",
       "            stimulus cat_type  mean_cat_reward approach_reward key_press  \\\n",
       "0  images/horse7.png  neutral                0               2         1   \n",
       "1    images/cow5.png      bad               -3              -4         0   \n",
       "2    images/cow8.png      bad               -3              -2         1   \n",
       "3  images/horse7.png  neutral                0               2         1   \n",
       "4   images/goat6.png     good                5               8         0   \n",
       "\n",
       "       rt  points  stimulus_repetition  correct_response  \\\n",
       "0  1148.0       2                    1                 1   \n",
       "1   347.0       0                    1                 0   \n",
       "2   618.0      -2                    1                 0   \n",
       "3   306.0       2                    2                 1   \n",
       "4  1521.0       0                    1                 1   \n",
       "\n",
       "   correct_response_made  \n",
       "0                    1.0  \n",
       "1                    1.0  \n",
       "2                    0.0  \n",
       "3                    1.0  \n",
       "4                    0.0  "
      ]
     },
     "execution_count": 41,
     "metadata": {},
     "output_type": "execute_result"
    }
   ],
   "source": [
    "learning_data.head()"
   ]
  },
  {
   "cell_type": "code",
   "execution_count": 42,
   "metadata": {},
   "outputs": [
    {
     "data": {
      "text/plain": [
       "(46206, 16)"
      ]
     },
     "execution_count": 42,
     "metadata": {},
     "output_type": "execute_result"
    }
   ],
   "source": [
    "learning_data.shape"
   ]
  },
  {
   "cell_type": "code",
   "execution_count": 43,
   "metadata": {},
   "outputs": [
    {
     "data": {
      "text/plain": [
       "151"
      ]
     },
     "execution_count": 43,
     "metadata": {},
     "output_type": "execute_result"
    }
   ],
   "source": [
    "learning_data['subject_id'].nunique()"
   ]
  },
  {
   "cell_type": "code",
   "execution_count": 44,
   "metadata": {},
   "outputs": [
    {
     "data": {
      "text/html": [
       "<div>\n",
       "<style scoped>\n",
       "    .dataframe tbody tr th:only-of-type {\n",
       "        vertical-align: middle;\n",
       "    }\n",
       "\n",
       "    .dataframe tbody tr th {\n",
       "        vertical-align: top;\n",
       "    }\n",
       "\n",
       "    .dataframe thead th {\n",
       "        text-align: right;\n",
       "    }\n",
       "</style>\n",
       "<table border=\"1\" class=\"dataframe\">\n",
       "  <thead>\n",
       "    <tr style=\"text-align: right;\">\n",
       "      <th></th>\n",
       "      <th>subject_id</th>\n",
       "      <th>task_part</th>\n",
       "      <th>block_order</th>\n",
       "      <th>block_condition</th>\n",
       "      <th>category_type</th>\n",
       "      <th>num_stim_rep</th>\n",
       "      <th>image</th>\n",
       "      <th>category</th>\n",
       "      <th>task_block</th>\n",
       "      <th>stim_num</th>\n",
       "      <th>correct_mem_response</th>\n",
       "      <th>mem_response</th>\n",
       "      <th>confidence</th>\n",
       "      <th>rt</th>\n",
       "      <th>mem_acc</th>\n",
       "      <th>conf_number</th>\n",
       "      <th>conf_rating</th>\n",
       "      <th>foil_type</th>\n",
       "      <th>memory_delay</th>\n",
       "    </tr>\n",
       "  </thead>\n",
       "  <tbody>\n",
       "    <tr>\n",
       "      <th>0</th>\n",
       "      <td>3768</td>\n",
       "      <td>memory_trial</td>\n",
       "      <td>1</td>\n",
       "      <td>2</td>\n",
       "      <td>old</td>\n",
       "      <td>6.0</td>\n",
       "      <td>horse7.png</td>\n",
       "      <td>horse</td>\n",
       "      <td>animals</td>\n",
       "      <td>7</td>\n",
       "      <td>old</td>\n",
       "      <td>old</td>\n",
       "      <td>definitely</td>\n",
       "      <td>1866.0</td>\n",
       "      <td>1.0</td>\n",
       "      <td>1.0</td>\n",
       "      <td>4.0</td>\n",
       "      <td>old</td>\n",
       "      <td>7.0</td>\n",
       "    </tr>\n",
       "    <tr>\n",
       "      <th>1</th>\n",
       "      <td>3768</td>\n",
       "      <td>memory_trial</td>\n",
       "      <td>1</td>\n",
       "      <td>2</td>\n",
       "      <td>old</td>\n",
       "      <td>6.0</td>\n",
       "      <td>cow5.png</td>\n",
       "      <td>cow</td>\n",
       "      <td>animals</td>\n",
       "      <td>5</td>\n",
       "      <td>old</td>\n",
       "      <td>old</td>\n",
       "      <td>definitely</td>\n",
       "      <td>1792.0</td>\n",
       "      <td>1.0</td>\n",
       "      <td>1.0</td>\n",
       "      <td>4.0</td>\n",
       "      <td>old</td>\n",
       "      <td>7.0</td>\n",
       "    </tr>\n",
       "    <tr>\n",
       "      <th>2</th>\n",
       "      <td>3768</td>\n",
       "      <td>memory_trial</td>\n",
       "      <td>1</td>\n",
       "      <td>2</td>\n",
       "      <td>old</td>\n",
       "      <td>3.0</td>\n",
       "      <td>cow8.png</td>\n",
       "      <td>cow</td>\n",
       "      <td>animals</td>\n",
       "      <td>8</td>\n",
       "      <td>old</td>\n",
       "      <td>new</td>\n",
       "      <td>definitely</td>\n",
       "      <td>3074.0</td>\n",
       "      <td>0.0</td>\n",
       "      <td>1.0</td>\n",
       "      <td>1.0</td>\n",
       "      <td>old</td>\n",
       "      <td>7.0</td>\n",
       "    </tr>\n",
       "    <tr>\n",
       "      <th>3</th>\n",
       "      <td>3768</td>\n",
       "      <td>memory_trial</td>\n",
       "      <td>1</td>\n",
       "      <td>2</td>\n",
       "      <td>old</td>\n",
       "      <td>6.0</td>\n",
       "      <td>goat6.png</td>\n",
       "      <td>goat</td>\n",
       "      <td>animals</td>\n",
       "      <td>6</td>\n",
       "      <td>old</td>\n",
       "      <td>old</td>\n",
       "      <td>definitely</td>\n",
       "      <td>1411.0</td>\n",
       "      <td>1.0</td>\n",
       "      <td>1.0</td>\n",
       "      <td>4.0</td>\n",
       "      <td>old</td>\n",
       "      <td>7.0</td>\n",
       "    </tr>\n",
       "    <tr>\n",
       "      <th>4</th>\n",
       "      <td>3768</td>\n",
       "      <td>memory_trial</td>\n",
       "      <td>1</td>\n",
       "      <td>2</td>\n",
       "      <td>old</td>\n",
       "      <td>3.0</td>\n",
       "      <td>goat5.png</td>\n",
       "      <td>goat</td>\n",
       "      <td>animals</td>\n",
       "      <td>5</td>\n",
       "      <td>old</td>\n",
       "      <td>new</td>\n",
       "      <td>maybe</td>\n",
       "      <td>3348.0</td>\n",
       "      <td>0.0</td>\n",
       "      <td>0.0</td>\n",
       "      <td>2.0</td>\n",
       "      <td>old</td>\n",
       "      <td>7.0</td>\n",
       "    </tr>\n",
       "  </tbody>\n",
       "</table>\n",
       "</div>"
      ],
      "text/plain": [
       "   subject_id     task_part  block_order  block_condition category_type  \\\n",
       "0        3768  memory_trial            1                2           old   \n",
       "1        3768  memory_trial            1                2           old   \n",
       "2        3768  memory_trial            1                2           old   \n",
       "3        3768  memory_trial            1                2           old   \n",
       "4        3768  memory_trial            1                2           old   \n",
       "\n",
       "   num_stim_rep       image category task_block  stim_num  \\\n",
       "0           6.0  horse7.png    horse    animals         7   \n",
       "1           6.0    cow5.png      cow    animals         5   \n",
       "2           3.0    cow8.png      cow    animals         8   \n",
       "3           6.0   goat6.png     goat    animals         6   \n",
       "4           3.0   goat5.png     goat    animals         5   \n",
       "\n",
       "  correct_mem_response mem_response  confidence      rt  mem_acc  conf_number  \\\n",
       "0                  old          old  definitely  1866.0      1.0          1.0   \n",
       "1                  old          old  definitely  1792.0      1.0          1.0   \n",
       "2                  old          new  definitely  3074.0      0.0          1.0   \n",
       "3                  old          old  definitely  1411.0      1.0          1.0   \n",
       "4                  old          new       maybe  3348.0      0.0          0.0   \n",
       "\n",
       "   conf_rating foil_type  memory_delay  \n",
       "0          4.0       old           7.0  \n",
       "1          4.0       old           7.0  \n",
       "2          1.0       old           7.0  \n",
       "3          4.0       old           7.0  \n",
       "4          2.0       old           7.0  "
      ]
     },
     "execution_count": 44,
     "metadata": {},
     "output_type": "execute_result"
    }
   ],
   "source": [
    "memory_data.head()"
   ]
  },
  {
   "cell_type": "code",
   "execution_count": 45,
   "metadata": {},
   "outputs": [
    {
     "data": {
      "text/html": [
       "<div>\n",
       "<style scoped>\n",
       "    .dataframe tbody tr th:only-of-type {\n",
       "        vertical-align: middle;\n",
       "    }\n",
       "\n",
       "    .dataframe tbody tr th {\n",
       "        vertical-align: top;\n",
       "    }\n",
       "\n",
       "    .dataframe thead th {\n",
       "        text-align: right;\n",
       "    }\n",
       "</style>\n",
       "<table border=\"1\" class=\"dataframe\">\n",
       "  <thead>\n",
       "    <tr style=\"text-align: right;\">\n",
       "      <th></th>\n",
       "      <th>subject_id</th>\n",
       "      <th>task_part</th>\n",
       "      <th>block_order</th>\n",
       "      <th>block_condition</th>\n",
       "      <th>category_type</th>\n",
       "      <th>num_stim_rep</th>\n",
       "      <th>image</th>\n",
       "      <th>category</th>\n",
       "      <th>task_block</th>\n",
       "      <th>stim_num</th>\n",
       "      <th>correct_mem_response</th>\n",
       "      <th>mem_response</th>\n",
       "      <th>confidence</th>\n",
       "      <th>rt</th>\n",
       "      <th>mem_acc</th>\n",
       "      <th>conf_number</th>\n",
       "      <th>conf_rating</th>\n",
       "      <th>foil_type</th>\n",
       "      <th>memory_delay</th>\n",
       "    </tr>\n",
       "  </thead>\n",
       "  <tbody>\n",
       "    <tr>\n",
       "      <th>0</th>\n",
       "      <td>3768</td>\n",
       "      <td>memory_trial</td>\n",
       "      <td>1</td>\n",
       "      <td>2</td>\n",
       "      <td>old</td>\n",
       "      <td>6.0</td>\n",
       "      <td>horse7.png</td>\n",
       "      <td>horse</td>\n",
       "      <td>animals</td>\n",
       "      <td>7</td>\n",
       "      <td>old</td>\n",
       "      <td>old</td>\n",
       "      <td>definitely</td>\n",
       "      <td>1866.0</td>\n",
       "      <td>1.0</td>\n",
       "      <td>1.0</td>\n",
       "      <td>4.0</td>\n",
       "      <td>old</td>\n",
       "      <td>7.0</td>\n",
       "    </tr>\n",
       "    <tr>\n",
       "      <th>1</th>\n",
       "      <td>3768</td>\n",
       "      <td>memory_trial</td>\n",
       "      <td>1</td>\n",
       "      <td>2</td>\n",
       "      <td>old</td>\n",
       "      <td>6.0</td>\n",
       "      <td>cow5.png</td>\n",
       "      <td>cow</td>\n",
       "      <td>animals</td>\n",
       "      <td>5</td>\n",
       "      <td>old</td>\n",
       "      <td>old</td>\n",
       "      <td>definitely</td>\n",
       "      <td>1792.0</td>\n",
       "      <td>1.0</td>\n",
       "      <td>1.0</td>\n",
       "      <td>4.0</td>\n",
       "      <td>old</td>\n",
       "      <td>7.0</td>\n",
       "    </tr>\n",
       "    <tr>\n",
       "      <th>2</th>\n",
       "      <td>3768</td>\n",
       "      <td>memory_trial</td>\n",
       "      <td>1</td>\n",
       "      <td>2</td>\n",
       "      <td>old</td>\n",
       "      <td>3.0</td>\n",
       "      <td>cow8.png</td>\n",
       "      <td>cow</td>\n",
       "      <td>animals</td>\n",
       "      <td>8</td>\n",
       "      <td>old</td>\n",
       "      <td>new</td>\n",
       "      <td>definitely</td>\n",
       "      <td>3074.0</td>\n",
       "      <td>0.0</td>\n",
       "      <td>1.0</td>\n",
       "      <td>1.0</td>\n",
       "      <td>old</td>\n",
       "      <td>7.0</td>\n",
       "    </tr>\n",
       "    <tr>\n",
       "      <th>3</th>\n",
       "      <td>3768</td>\n",
       "      <td>memory_trial</td>\n",
       "      <td>1</td>\n",
       "      <td>2</td>\n",
       "      <td>old</td>\n",
       "      <td>6.0</td>\n",
       "      <td>goat6.png</td>\n",
       "      <td>goat</td>\n",
       "      <td>animals</td>\n",
       "      <td>6</td>\n",
       "      <td>old</td>\n",
       "      <td>old</td>\n",
       "      <td>definitely</td>\n",
       "      <td>1411.0</td>\n",
       "      <td>1.0</td>\n",
       "      <td>1.0</td>\n",
       "      <td>4.0</td>\n",
       "      <td>old</td>\n",
       "      <td>7.0</td>\n",
       "    </tr>\n",
       "    <tr>\n",
       "      <th>4</th>\n",
       "      <td>3768</td>\n",
       "      <td>memory_trial</td>\n",
       "      <td>1</td>\n",
       "      <td>2</td>\n",
       "      <td>old</td>\n",
       "      <td>3.0</td>\n",
       "      <td>goat5.png</td>\n",
       "      <td>goat</td>\n",
       "      <td>animals</td>\n",
       "      <td>5</td>\n",
       "      <td>old</td>\n",
       "      <td>new</td>\n",
       "      <td>maybe</td>\n",
       "      <td>3348.0</td>\n",
       "      <td>0.0</td>\n",
       "      <td>0.0</td>\n",
       "      <td>2.0</td>\n",
       "      <td>old</td>\n",
       "      <td>7.0</td>\n",
       "    </tr>\n",
       "    <tr>\n",
       "      <th>...</th>\n",
       "      <td>...</td>\n",
       "      <td>...</td>\n",
       "      <td>...</td>\n",
       "      <td>...</td>\n",
       "      <td>...</td>\n",
       "      <td>...</td>\n",
       "      <td>...</td>\n",
       "      <td>...</td>\n",
       "      <td>...</td>\n",
       "      <td>...</td>\n",
       "      <td>...</td>\n",
       "      <td>...</td>\n",
       "      <td>...</td>\n",
       "      <td>...</td>\n",
       "      <td>...</td>\n",
       "      <td>...</td>\n",
       "      <td>...</td>\n",
       "      <td>...</td>\n",
       "      <td>...</td>\n",
       "    </tr>\n",
       "    <tr>\n",
       "      <th>29179</th>\n",
       "      <td>4045</td>\n",
       "      <td>memory_trial</td>\n",
       "      <td>5</td>\n",
       "      <td>2</td>\n",
       "      <td>old</td>\n",
       "      <td>NaN</td>\n",
       "      <td>tree1.png</td>\n",
       "      <td>tree</td>\n",
       "      <td>plants</td>\n",
       "      <td>1</td>\n",
       "      <td>new</td>\n",
       "      <td>old</td>\n",
       "      <td>definitely</td>\n",
       "      <td>732.6</td>\n",
       "      <td>0.0</td>\n",
       "      <td>1.0</td>\n",
       "      <td>4.0</td>\n",
       "      <td>exemplar</td>\n",
       "      <td>7.0</td>\n",
       "    </tr>\n",
       "    <tr>\n",
       "      <th>29180</th>\n",
       "      <td>4045</td>\n",
       "      <td>memory_trial</td>\n",
       "      <td>4</td>\n",
       "      <td>1</td>\n",
       "      <td>old</td>\n",
       "      <td>NaN</td>\n",
       "      <td>plane8.png</td>\n",
       "      <td>plane</td>\n",
       "      <td>vehicles</td>\n",
       "      <td>8</td>\n",
       "      <td>new</td>\n",
       "      <td>old</td>\n",
       "      <td>definitely</td>\n",
       "      <td>961.3</td>\n",
       "      <td>0.0</td>\n",
       "      <td>1.0</td>\n",
       "      <td>4.0</td>\n",
       "      <td>exemplar</td>\n",
       "      <td>7.0</td>\n",
       "    </tr>\n",
       "    <tr>\n",
       "      <th>29181</th>\n",
       "      <td>4045</td>\n",
       "      <td>memory_trial</td>\n",
       "      <td>4</td>\n",
       "      <td>1</td>\n",
       "      <td>old</td>\n",
       "      <td>NaN</td>\n",
       "      <td>train3.png</td>\n",
       "      <td>train</td>\n",
       "      <td>vehicles</td>\n",
       "      <td>3</td>\n",
       "      <td>new</td>\n",
       "      <td>old</td>\n",
       "      <td>maybe</td>\n",
       "      <td>1127.0</td>\n",
       "      <td>0.0</td>\n",
       "      <td>0.0</td>\n",
       "      <td>3.0</td>\n",
       "      <td>exemplar</td>\n",
       "      <td>7.0</td>\n",
       "    </tr>\n",
       "    <tr>\n",
       "      <th>29182</th>\n",
       "      <td>4045</td>\n",
       "      <td>memory_trial</td>\n",
       "      <td>1</td>\n",
       "      <td>2</td>\n",
       "      <td>new</td>\n",
       "      <td>NaN</td>\n",
       "      <td>bed7.png</td>\n",
       "      <td>bed</td>\n",
       "      <td>furniture</td>\n",
       "      <td>7</td>\n",
       "      <td>new</td>\n",
       "      <td>old</td>\n",
       "      <td>maybe</td>\n",
       "      <td>980.3</td>\n",
       "      <td>0.0</td>\n",
       "      <td>0.0</td>\n",
       "      <td>3.0</td>\n",
       "      <td>category</td>\n",
       "      <td>7.0</td>\n",
       "    </tr>\n",
       "    <tr>\n",
       "      <th>29183</th>\n",
       "      <td>4045</td>\n",
       "      <td>memory_trial</td>\n",
       "      <td>3</td>\n",
       "      <td>1</td>\n",
       "      <td>old</td>\n",
       "      <td>NaN</td>\n",
       "      <td>dog5.png</td>\n",
       "      <td>dog</td>\n",
       "      <td>pets</td>\n",
       "      <td>5</td>\n",
       "      <td>new</td>\n",
       "      <td>old</td>\n",
       "      <td>maybe</td>\n",
       "      <td>968.9</td>\n",
       "      <td>0.0</td>\n",
       "      <td>0.0</td>\n",
       "      <td>3.0</td>\n",
       "      <td>exemplar</td>\n",
       "      <td>7.0</td>\n",
       "    </tr>\n",
       "  </tbody>\n",
       "</table>\n",
       "<p>29184 rows × 19 columns</p>\n",
       "</div>"
      ],
      "text/plain": [
       "       subject_id     task_part  block_order  block_condition category_type  \\\n",
       "0            3768  memory_trial            1                2           old   \n",
       "1            3768  memory_trial            1                2           old   \n",
       "2            3768  memory_trial            1                2           old   \n",
       "3            3768  memory_trial            1                2           old   \n",
       "4            3768  memory_trial            1                2           old   \n",
       "...           ...           ...          ...              ...           ...   \n",
       "29179        4045  memory_trial            5                2           old   \n",
       "29180        4045  memory_trial            4                1           old   \n",
       "29181        4045  memory_trial            4                1           old   \n",
       "29182        4045  memory_trial            1                2           new   \n",
       "29183        4045  memory_trial            3                1           old   \n",
       "\n",
       "       num_stim_rep       image category task_block  stim_num  \\\n",
       "0               6.0  horse7.png    horse    animals         7   \n",
       "1               6.0    cow5.png      cow    animals         5   \n",
       "2               3.0    cow8.png      cow    animals         8   \n",
       "3               6.0   goat6.png     goat    animals         6   \n",
       "4               3.0   goat5.png     goat    animals         5   \n",
       "...             ...         ...      ...        ...       ...   \n",
       "29179           NaN   tree1.png     tree     plants         1   \n",
       "29180           NaN  plane8.png    plane   vehicles         8   \n",
       "29181           NaN  train3.png    train   vehicles         3   \n",
       "29182           NaN    bed7.png      bed  furniture         7   \n",
       "29183           NaN    dog5.png      dog       pets         5   \n",
       "\n",
       "      correct_mem_response mem_response  confidence      rt  mem_acc  \\\n",
       "0                      old          old  definitely  1866.0      1.0   \n",
       "1                      old          old  definitely  1792.0      1.0   \n",
       "2                      old          new  definitely  3074.0      0.0   \n",
       "3                      old          old  definitely  1411.0      1.0   \n",
       "4                      old          new       maybe  3348.0      0.0   \n",
       "...                    ...          ...         ...     ...      ...   \n",
       "29179                  new          old  definitely   732.6      0.0   \n",
       "29180                  new          old  definitely   961.3      0.0   \n",
       "29181                  new          old       maybe  1127.0      0.0   \n",
       "29182                  new          old       maybe   980.3      0.0   \n",
       "29183                  new          old       maybe   968.9      0.0   \n",
       "\n",
       "       conf_number  conf_rating foil_type  memory_delay  \n",
       "0              1.0          4.0       old           7.0  \n",
       "1              1.0          4.0       old           7.0  \n",
       "2              1.0          1.0       old           7.0  \n",
       "3              1.0          4.0       old           7.0  \n",
       "4              0.0          2.0       old           7.0  \n",
       "...            ...          ...       ...           ...  \n",
       "29179          1.0          4.0  exemplar           7.0  \n",
       "29180          1.0          4.0  exemplar           7.0  \n",
       "29181          0.0          3.0  exemplar           7.0  \n",
       "29182          0.0          3.0  category           7.0  \n",
       "29183          0.0          3.0  exemplar           7.0  \n",
       "\n",
       "[29184 rows x 19 columns]"
      ]
     },
     "execution_count": 45,
     "metadata": {},
     "output_type": "execute_result"
    }
   ],
   "source": [
    "memory_data"
   ]
  },
  {
   "cell_type": "code",
   "execution_count": 46,
   "metadata": {},
   "outputs": [
    {
     "data": {
      "text/plain": [
       "subject_id                  0\n",
       "task_part                   0\n",
       "block_order                 0\n",
       "block_condition             0\n",
       "category_type               0\n",
       "num_stim_rep            15504\n",
       "image                       0\n",
       "category                    0\n",
       "task_block                  0\n",
       "stim_num                    0\n",
       "correct_mem_response        0\n",
       "mem_response               28\n",
       "confidence                 28\n",
       "rt                         28\n",
       "mem_acc                    28\n",
       "conf_number                28\n",
       "conf_rating                28\n",
       "foil_type                   0\n",
       "memory_delay              192\n",
       "dtype: int64"
      ]
     },
     "execution_count": 46,
     "metadata": {},
     "output_type": "execute_result"
    }
   ],
   "source": [
    "memory_data.isnull().sum()"
   ]
  },
  {
   "cell_type": "code",
   "execution_count": 47,
   "metadata": {},
   "outputs": [],
   "source": [
    "memory_data = memory_data.dropna()"
   ]
  },
  {
   "cell_type": "code",
   "execution_count": 48,
   "metadata": {},
   "outputs": [
    {
     "data": {
      "text/plain": [
       "151"
      ]
     },
     "execution_count": 48,
     "metadata": {},
     "output_type": "execute_result"
    }
   ],
   "source": [
    "memory_data['subject_id'].nunique()"
   ]
  },
  {
   "cell_type": "markdown",
   "metadata": {},
   "source": [
    "## Statistical Tests"
   ]
  },
  {
   "cell_type": "markdown",
   "metadata": {},
   "source": [
    "**Chi Square Test**: <br>"
   ]
  },
  {
   "cell_type": "markdown",
   "metadata": {},
   "source": [
    "##### Justification"
   ]
  },
  {
   "cell_type": "markdown",
   "metadata": {},
   "source": [
    "- Chi-Square Test is used to determine whether there is a statistically significant difference between two categorical variables.\n",
    "<br>\n",
    "\n",
    "- Here, `block condition` and `memory accuracy` are two categorical variables."
   ]
  },
  {
   "cell_type": "code",
   "execution_count": 49,
   "metadata": {},
   "outputs": [
    {
     "name": "stdout",
     "output_type": "stream",
     "text": [
      "Chi-Square Statistic: 11.091915600675973\n",
      "P-value: 0.0008670487376999925\n"
     ]
    }
   ],
   "source": [
    "from scipy.stats import chi2_contingency\n",
    "\n",
    "# Create a contingency table from the data\n",
    "contingency_table = pd.crosstab(memory_data['block_condition'], memory_data['mem_acc'])\n",
    "\n",
    "# Perform chi-square test\n",
    "chi2_stat, p_val, dof, expected = chi2_contingency(contingency_table)\n",
    "\n",
    "print(\"Chi-Square Statistic:\", chi2_stat)\n",
    "print(\"P-value:\", p_val)\n"
   ]
  },
  {
   "cell_type": "markdown",
   "metadata": {},
   "source": [
    "**Effect Size - Cramer's V:**"
   ]
  },
  {
   "cell_type": "code",
   "execution_count": 50,
   "metadata": {},
   "outputs": [
    {
     "name": "stdout",
     "output_type": "stream",
     "text": [
      "Cramer's V (Effect Size): 0.028580471158901048\n"
     ]
    }
   ],
   "source": [
    "# Calculate Cramer's V for effect size\n",
    "n = contingency_table.sum().sum()\n",
    "cramer_v = np.sqrt(chi2_stat / (n * (min(contingency_table.shape) - 1)))\n",
    "print(\"Cramer's V (Effect Size):\", cramer_v)"
   ]
  },
  {
   "cell_type": "markdown",
   "metadata": {},
   "source": [
    "#### Visualization"
   ]
  },
  {
   "cell_type": "code",
   "execution_count": 51,
   "metadata": {},
   "outputs": [
    {
     "data": {
      "image/png": "[encoded data removed]",
      "text/plain": [
       "<Figure size 640x480 with 1 Axes>"
      ]
     },
     "metadata": {},
     "output_type": "display_data"
    }
   ],
   "source": [
    "# Plotting a bar chart of memory accuracy by block condition\n",
    "sns.countplot(x='block_condition', hue='mem_acc', data=memory_data)\n",
    "plt.title('Memory Accuracy by Block Condition')\n",
    "plt.xlabel('Block Condition')\n",
    "plt.ylabel('Count')\n",
    "plt.legend(title='Mem Acc')\n",
    "plt.show()"
   ]
  },
  {
   "cell_type": "markdown",
   "metadata": {},
   "source": [
    "#### Observations"
   ]
  },
  {
   "cell_type": "markdown",
   "metadata": {},
   "source": [
    "- The `chi-square test` yielded a statistic of $\\chi^2 = 11.09$ with a corresponding `p-value` of $p = 0.000867$. This indicates that there is a statistically significant association between block condition and memory accuracy at the $\\alpha = 0.05$ level.\n",
    "\n",
    "<br>\n",
    "\n",
    "- Furthermore, the `effect size`, measured using `Cramer's V`, was found to be $V = 0.02858$. While this value is relatively small, it does suggest a weak association between block condition and memory accuracy.\n",
    "\n",
    "<br>\n",
    "\n",
    "- This can be observed in the `count plot` as well "
   ]
  },
  {
   "cell_type": "markdown",
   "metadata": {},
   "source": [
    "### Considering Confidence Level along with Accuracy"
   ]
  },
  {
   "cell_type": "markdown",
   "metadata": {},
   "source": [
    "**Chi-Square Test**:"
   ]
  },
  {
   "cell_type": "code",
   "execution_count": 52,
   "metadata": {},
   "outputs": [
    {
     "name": "stdout",
     "output_type": "stream",
     "text": [
      "\n",
      "Chi-Square Test Results:\n",
      "Chi-Square Statistic: 412.6112314578023\n",
      "P-value: 4.1055263028742056e-89\n"
     ]
    }
   ],
   "source": [
    "from scipy.stats import chi2_contingency\n",
    "\n",
    "# Create a contingency table from the data\n",
    "contingency_table = pd.crosstab(memory_data['mem_acc'], [memory_data['block_condition'], memory_data['conf_number']])\n",
    "\n",
    "# Perform chi-square test\n",
    "chi2_stat, p_val, dof, expected = chi2_contingency(contingency_table)\n",
    "print(\"\\nChi-Square Test Results:\")\n",
    "print(\"Chi-Square Statistic:\", chi2_stat)\n",
    "print(\"P-value:\", p_val)"
   ]
  },
  {
   "cell_type": "markdown",
   "metadata": {},
   "source": [
    "#### Observations\n",
    "- The chi-square test results indicate a highly significant relationship between `memory accuracy`, specificity during learning i.e `block_condition`, and `confidence level` i.e conf_number. \n",
    "\n",
    "<br>\n",
    "\n",
    "- The large chi-square statistic value $412.611$ and the very low p-value (approximately $4.1e-89$) suggest that there is a strong association between these variables."
   ]
  },
  {
   "cell_type": "markdown",
   "metadata": {},
   "source": [
    "### Ordinal Approach (Memory Accuracy + Confidence Level)"
   ]
  },
  {
   "cell_type": "code",
   "execution_count": 53,
   "metadata": {},
   "outputs": [],
   "source": [
    "# new column with weighted values based on mem_acc and conf_number\n",
    "def assign_weight(row):\n",
    "    if row['mem_acc'] == 1 and row['conf_number'] == 1:\n",
    "        return 3  # High weight for correct with high confidence\n",
    "    elif row['mem_acc'] == 1 and row['conf_number'] == 0:\n",
    "        return 2  # Medium weight for correct with low confidence\n",
    "    elif row['mem_acc'] == 0 and row['conf_number'] == 1:\n",
    "        return 1  # Low weight for incorrect with high confidence\n",
    "    else:\n",
    "        return 0  # No weight for incorrect with low confidence"
   ]
  },
  {
   "cell_type": "code",
   "execution_count": 54,
   "metadata": {},
   "outputs": [
    {
     "name": "stderr",
     "output_type": "stream",
     "text": [
      "/tmp/ipykernel_13790/3261153587.py:1: SettingWithCopyWarning: \n",
      "A value is trying to be set on a copy of a slice from a DataFrame.\n",
      "Try using .loc[row_indexer,col_indexer] = value instead\n",
      "\n",
      "See the caveats in the documentation: https://pandas.pydata.org/pandas-docs/stable/user_guide/indexing.html#returning-a-view-versus-a-copy\n",
      "  memory_data['weighted_memory'] = memory_data.apply(assign_weight, axis=1)\n"
     ]
    }
   ],
   "source": [
    "memory_data['weighted_memory'] = memory_data.apply(assign_weight, axis=1)"
   ]
  },
  {
   "cell_type": "markdown",
   "metadata": {},
   "source": [
    "#### Visualization"
   ]
  },
  {
   "cell_type": "code",
   "execution_count": 85,
   "metadata": {},
   "outputs": [
    {
     "data": {
      "image/png": "[encoded data removed]",
      "text/plain": [
       "<Figure size 800x600 with 1 Axes>"
      ]
     },
     "metadata": {},
     "output_type": "display_data"
    }
   ],
   "source": [
    "# Violin plot for weighted memory by confidence number\n",
    "plt.figure(figsize=(8, 6))\n",
    "sns.violinplot(x='conf_number', y='weighted_memory', data=memory_data)\n",
    "plt.title('Weighted Memory by Confidence Number')\n",
    "plt.xlabel('Confidence Number')\n",
    "plt.ylabel('Weighted Memory')\n",
    "plt.show()"
   ]
  },
  {
   "cell_type": "code",
   "execution_count": 95,
   "metadata": {},
   "outputs": [
    {
     "data": {
      "image/png": "[encoded data removed]",
      "text/plain": [
       "<Figure size 640x480 with 1 Axes>"
      ]
     },
     "metadata": {},
     "output_type": "display_data"
    }
   ],
   "source": [
    "# Stacked bar chart for block condition, weighted memory, and memory accuracy\n",
    "pd.crosstab(memory_data['block_condition'], memory_data['weighted_memory']).plot(kind='bar', stacked=True)\n",
    "plt.title('Stacked Bar Chart: Block Condition vs. Weighted Memory')\n",
    "plt.xlabel('Block Condition')\n",
    "plt.ylabel('Count')\n",
    "plt.legend(title='Weighted Memory')\n",
    "plt.show()"
   ]
  },
  {
   "cell_type": "code",
   "execution_count": 96,
   "metadata": {},
   "outputs": [
    {
     "data": {
      "image/png": "[encoded data removed]",
      "text/plain": [
       "<Figure size 640x480 with 1 Axes>"
      ]
     },
     "metadata": {},
     "output_type": "display_data"
    }
   ],
   "source": [
    "# Grouped bar chart for block condition, weighted memory, and memory accuracy\n",
    "sns.countplot(x='block_condition', hue='weighted_memory', data=memory_data, palette='Set3')\n",
    "plt.title('Grouped Bar Chart: Block Condition, Weighted Memory Accuracy')\n",
    "plt.xlabel('Block Condition')\n",
    "plt.ylabel('Count')\n",
    "plt.legend(title='Weighted Memory')\n",
    "plt.show()"
   ]
  },
  {
   "cell_type": "markdown",
   "metadata": {},
   "source": [
    "### Normality Test"
   ]
  },
  {
   "cell_type": "markdown",
   "metadata": {},
   "source": [
    "**Shapiro-Wilk Test**:"
   ]
  },
  {
   "cell_type": "code",
   "execution_count": 62,
   "metadata": {},
   "outputs": [
    {
     "name": "stdout",
     "output_type": "stream",
     "text": [
      "Shapiro-Wilk Test - Statistic: 0.7799046039581299\n",
      "Shapiro-Wilk Test - P-value: 0.0\n"
     ]
    },
    {
     "name": "stderr",
     "output_type": "stream",
     "text": [
      "/home/shreeya/anaconda3/lib/python3.11/site-packages/scipy/stats/_morestats.py:1882: UserWarning: p-value may not be accurate for N > 5000.\n",
      "  warnings.warn(\"p-value may not be accurate for N > 5000.\")\n"
     ]
    }
   ],
   "source": [
    "shapiro_stat, shapiro_p_val = shapiro(memory_data['weighted_memory'])\n",
    "print(\"Shapiro-Wilk Test - Statistic:\", shapiro_stat)\n",
    "print(\"Shapiro-Wilk Test - P-value:\", shapiro_p_val)"
   ]
  },
  {
   "cell_type": "markdown",
   "metadata": {},
   "source": [
    "#### Observations\n",
    "   - Statistic: $0.7799046039581299$\n",
    "   - P-value: $0.0$\n",
    "   <br>\n",
    "\n",
    "   - The Shapiro-Wilk test assesses the normality of the weighted memory variable. The low p-value indicates that the data significantly deviates from a normal distribution, suggesting non-normality."
   ]
  },
  {
   "cell_type": "markdown",
   "metadata": {},
   "source": [
    "### Homogenity Test:"
   ]
  },
  {
   "cell_type": "markdown",
   "metadata": {},
   "source": [
    "**Levene's Test**:"
   ]
  },
  {
   "cell_type": "code",
   "execution_count": 63,
   "metadata": {},
   "outputs": [
    {
     "name": "stdout",
     "output_type": "stream",
     "text": [
      "Levene's Test - Statistic: 0.16349460996801915\n",
      "Levene's Test - P-value: 0.6859656525690965\n"
     ]
    }
   ],
   "source": [
    "from scipy.stats import shapiro, levene\n",
    "levene_stat, levene_p_val = levene(memory_data[memory_data['block_condition'] == 1]['weighted_memory'],\n",
    "                                   memory_data[memory_data['block_condition'] == 2]['weighted_memory'])\n",
    "print(\"Levene's Test - Statistic:\", levene_stat)\n",
    "print(\"Levene's Test - P-value:\", levene_p_val)"
   ]
  },
  {
   "cell_type": "markdown",
   "metadata": {},
   "source": [
    "#### Observations\n",
    "   - Statistic: $0.16349460996801915$\n",
    "   - P-value: $0.6859656525690965$\n",
    "   <br>\n",
    "\n",
    "   - Levene's test checks the homogeneity of variances between block conditions in terms of weighted memory. The high p-value suggests that there is no significant difference in variances between the groups."
   ]
  },
  {
   "cell_type": "markdown",
   "metadata": {},
   "source": [
    "#### Mann-Whitney U Test"
   ]
  },
  {
   "cell_type": "markdown",
   "metadata": {},
   "source": [
    "**Mann-Whitney U Test**:"
   ]
  },
  {
   "cell_type": "markdown",
   "metadata": {},
   "source": [
    "##### Justification\n",
    "\n",
    "- Since, data is non parametric, we use Mann-Whitney U Test to determine whether there is a statistically significant difference in memory representations between individuals with different levels of specificity during learning.\n",
    "<br>\n",
    "\n",
    "- We do not use Kruskal-Wallis test as we are comparing two groups only."
   ]
  },
  {
   "cell_type": "code",
   "execution_count": 64,
   "metadata": {},
   "outputs": [
    {
     "name": "stdout",
     "output_type": "stream",
     "text": [
      "Mann-Whitney U Statistic: 21920093.5\n",
      "P-value: 1.2032235066187275e-07\n",
      "There is a statistically significant difference in memory accuracy between block conditions.\n"
     ]
    }
   ],
   "source": [
    "from scipy.stats import mannwhitneyu\n",
    "\n",
    "# Separate mem_acc data based on block conditions\n",
    "block_condition_1 = memory_data[memory_data['block_condition'] == 1]['weighted_memory']\n",
    "block_condition_2 = memory_data[memory_data['block_condition'] == 2]['weighted_memory']\n",
    "\n",
    "# Perform Mann-Whitney U test\n",
    "u_statistic, p_value = mannwhitneyu(block_condition_1, block_condition_2)\n",
    "\n",
    "print(\"Mann-Whitney U Statistic:\", u_statistic)\n",
    "print(\"P-value:\", p_value)\n",
    "\n",
    "if p_value < 0.05:\n",
    "    print(\"There is a statistically significant difference in memory accuracy between block conditions.\")\n",
    "else:\n",
    "    print(\"There is not enough evidence to conclude a statistically significant difference based on the chosen significance level.\")\n"
   ]
  },
  {
   "cell_type": "markdown",
   "metadata": {},
   "source": [
    "#### Observations\n",
    "\n",
    "   - Statistic: $21920093.5$\n",
    "   - P-value: $1.2032235066187275 \\times 10^{-7}$\n",
    "   <br>\n",
    "   \n",
    "   - The Mann-Whitney U test compares the median scores of weighted memory between two block conditions. The **low p-value** (below $0.05$) suggests a statistically significant difference in memory accuracy between block conditions."
   ]
  },
  {
   "cell_type": "markdown",
   "metadata": {},
   "source": [
    "> Mann-Whitney U test indicate a significant difference in memory-related variables between the two block conditions. This suggests that the block condition has an impact on how memory is represented or recalled, as evidenced by the differences in weighted memory and memory accuracy."
   ]
  },
  {
   "cell_type": "markdown",
   "metadata": {},
   "source": [
    "#### Bonferroni Correction"
   ]
  },
  {
   "cell_type": "markdown",
   "metadata": {},
   "source": [
    "- Altough, it not needed as we have only two groups to compare and we are using Mann-Whitney U Test. Post hoc tests are required when we have more than two groups."
   ]
  },
  {
   "cell_type": "code",
   "execution_count": 65,
   "metadata": {},
   "outputs": [],
   "source": [
    "from statsmodels.sandbox.stats.multicomp import multipletests"
   ]
  },
  {
   "cell_type": "code",
   "execution_count": 66,
   "metadata": {},
   "outputs": [
    {
     "name": "stdout",
     "output_type": "stream",
     "text": [
      "Adjusted P-value (Bonferroni corrected): 1.2032235066187275e-07\n",
      "The difference between block conditions is significant after Bonferroni correction.\n"
     ]
    }
   ],
   "source": [
    "# Correct for multiple comparisons using Bonferroni correction\n",
    "alpha = 0.05\n",
    "adjusted_p_values = multipletests([p_value], alpha=alpha, method='bonferroni')[1]\n",
    "\n",
    "print(\"Adjusted P-value (Bonferroni corrected):\", adjusted_p_values[0])\n",
    "\n",
    "if adjusted_p_values[0] < alpha:\n",
    "    print(\"The difference between block conditions is significant after Bonferroni correction.\")\n",
    "else:\n",
    "    print(\"There is no significant difference between block conditions after Bonferroni correction.\")"
   ]
  },
  {
   "cell_type": "markdown",
   "metadata": {},
   "source": [
    "### Regression Analysis"
   ]
  },
  {
   "cell_type": "markdown",
   "metadata": {},
   "source": [
    "#### Model 1 - Memory Accuracy + Block Condition"
   ]
  },
  {
   "cell_type": "code",
   "execution_count": 99,
   "metadata": {},
   "outputs": [],
   "source": [
    "import statsmodels.api as sm\n",
    "\n",
    "X = memory_data[['conf_number', 'block_condition']]\n",
    "y = memory_data['mem_acc']"
   ]
  },
  {
   "cell_type": "code",
   "execution_count": 100,
   "metadata": {},
   "outputs": [
    {
     "name": "stdout",
     "output_type": "stream",
     "text": [
      "Optimization terminated successfully.\n",
      "         Current function value: 0.593221\n",
      "         Iterations 5\n"
     ]
    }
   ],
   "source": [
    "# Add a constant to the predictor variable for the intercept term\n",
    "X = sm.add_constant(X)\n",
    "\n",
    "# Fit logistic regression model with interaction term\n",
    "logit_model = sm.Logit(y, X)\n",
    "result = logit_model.fit()"
   ]
  },
  {
   "cell_type": "code",
   "execution_count": 101,
   "metadata": {},
   "outputs": [
    {
     "data": {
      "text/html": [
       "<table class=\"simpletable\">\n",
       "<caption>Logit Regression Results</caption>\n",
       "<tr>\n",
       "  <th>Dep. Variable:</th>        <td>mem_acc</td>     <th>  No. Observations:  </th>  <td> 13579</td>  \n",
       "</tr>\n",
       "<tr>\n",
       "  <th>Model:</th>                 <td>Logit</td>      <th>  Df Residuals:      </th>  <td> 13576</td>  \n",
       "</tr>\n",
       "<tr>\n",
       "  <th>Method:</th>                 <td>MLE</td>       <th>  Df Model:          </th>  <td>     2</td>  \n",
       "</tr>\n",
       "<tr>\n",
       "  <th>Date:</th>            <td>Tue, 30 Apr 2024</td> <th>  Pseudo R-squ.:     </th>  <td>0.02449</td> \n",
       "</tr>\n",
       "<tr>\n",
       "  <th>Time:</th>                <td>02:16:10</td>     <th>  Log-Likelihood:    </th> <td> -8055.3</td> \n",
       "</tr>\n",
       "<tr>\n",
       "  <th>converged:</th>             <td>True</td>       <th>  LL-Null:           </th> <td> -8257.6</td> \n",
       "</tr>\n",
       "<tr>\n",
       "  <th>Covariance Type:</th>     <td>nonrobust</td>    <th>  LLR p-value:       </th> <td>1.511e-88</td>\n",
       "</tr>\n",
       "</table>\n",
       "<table class=\"simpletable\">\n",
       "<tr>\n",
       "         <td></td>            <th>coef</th>     <th>std err</th>      <th>z</th>      <th>P>|z|</th>  <th>[0.025</th>    <th>0.975]</th>  \n",
       "</tr>\n",
       "<tr>\n",
       "  <th>const</th>           <td>    0.2644</td> <td>    0.063</td> <td>    4.196</td> <td> 0.000</td> <td>    0.141</td> <td>    0.388</td>\n",
       "</tr>\n",
       "<tr>\n",
       "  <th>conf_number</th>     <td>    0.7623</td> <td>    0.038</td> <td>   19.820</td> <td> 0.000</td> <td>    0.687</td> <td>    0.838</td>\n",
       "</tr>\n",
       "<tr>\n",
       "  <th>block_condition</th> <td>    0.0973</td> <td>    0.038</td> <td>    2.548</td> <td> 0.011</td> <td>    0.022</td> <td>    0.172</td>\n",
       "</tr>\n",
       "</table>"
      ],
      "text/latex": [
       "\\begin{center}\n",
       "\\begin{tabular}{lclc}\n",
       "\\toprule\n",
       "\\textbf{Dep. Variable:}   &     mem\\_acc     & \\textbf{  No. Observations:  } &    13579    \\\\\n",
       "\\textbf{Model:}           &      Logit       & \\textbf{  Df Residuals:      } &    13576    \\\\\n",
       "\\textbf{Method:}          &       MLE        & \\textbf{  Df Model:          } &        2    \\\\\n",
       "\\textbf{Date:}            & Tue, 30 Apr 2024 & \\textbf{  Pseudo R-squ.:     } &  0.02449    \\\\\n",
       "\\textbf{Time:}            &     02:16:10     & \\textbf{  Log-Likelihood:    } &   -8055.3   \\\\\n",
       "\\textbf{converged:}       &       True       & \\textbf{  LL-Null:           } &   -8257.6   \\\\\n",
       "\\textbf{Covariance Type:} &    nonrobust     & \\textbf{  LLR p-value:       } & 1.511e-88   \\\\\n",
       "\\bottomrule\n",
       "\\end{tabular}\n",
       "\\begin{tabular}{lcccccc}\n",
       "                          & \\textbf{coef} & \\textbf{std err} & \\textbf{z} & \\textbf{P$> |$z$|$} & \\textbf{[0.025} & \\textbf{0.975]}  \\\\\n",
       "\\midrule\n",
       "\\textbf{const}            &       0.2644  &        0.063     &     4.196  &         0.000        &        0.141    &        0.388     \\\\\n",
       "\\textbf{conf\\_number}     &       0.7623  &        0.038     &    19.820  &         0.000        &        0.687    &        0.838     \\\\\n",
       "\\textbf{block\\_condition} &       0.0973  &        0.038     &     2.548  &         0.011        &        0.022    &        0.172     \\\\\n",
       "\\bottomrule\n",
       "\\end{tabular}\n",
       "%\\caption{Logit Regression Results}\n",
       "\\end{center}"
      ],
      "text/plain": [
       "<class 'statsmodels.iolib.summary.Summary'>\n",
       "\"\"\"\n",
       "                           Logit Regression Results                           \n",
       "==============================================================================\n",
       "Dep. Variable:                mem_acc   No. Observations:                13579\n",
       "Model:                          Logit   Df Residuals:                    13576\n",
       "Method:                           MLE   Df Model:                            2\n",
       "Date:                Tue, 30 Apr 2024   Pseudo R-squ.:                 0.02449\n",
       "Time:                        02:16:10   Log-Likelihood:                -8055.3\n",
       "converged:                       True   LL-Null:                       -8257.6\n",
       "Covariance Type:            nonrobust   LLR p-value:                 1.511e-88\n",
       "===================================================================================\n",
       "                      coef    std err          z      P>|z|      [0.025      0.975]\n",
       "-----------------------------------------------------------------------------------\n",
       "const               0.2644      0.063      4.196      0.000       0.141       0.388\n",
       "conf_number         0.7623      0.038     19.820      0.000       0.687       0.838\n",
       "block_condition     0.0973      0.038      2.548      0.011       0.022       0.172\n",
       "===================================================================================\n",
       "\"\"\""
      ]
     },
     "execution_count": 101,
     "metadata": {},
     "output_type": "execute_result"
    }
   ],
   "source": [
    "result.summary()"
   ]
  },
  {
   "cell_type": "markdown",
   "metadata": {},
   "source": [
    "##### Observations"
   ]
  },
  {
   "cell_type": "markdown",
   "metadata": {},
   "source": [
    "- The model's pseudo R-squared value is $0.02449$, indicating that about $2.45%$ of the variance in the outcome variable (`mem_acc`) is explained by the predictors in the model.\n",
    "\n",
    "\n",
    "- Both `conf_number` and `block_condition` are significant predictors of mem_acc at the conventional significance level of $0.05$. \n",
    "\n",
    "\n",
    "- **higher confidence levels** and **Exemplar block conditions** being associated with higher memory accuracy"
   ]
  },
  {
   "cell_type": "markdown",
   "metadata": {},
   "source": [
    "##### Visualization"
   ]
  },
  {
   "cell_type": "code",
   "execution_count": 104,
   "metadata": {},
   "outputs": [],
   "source": [
    "from scipy.stats import linregress"
   ]
  },
  {
   "cell_type": "code",
   "execution_count": 103,
   "metadata": {},
   "outputs": [
    {
     "data": {
      "image/png": "[encoded data removed]",
      "text/plain": [
       "<Figure size 640x480 with 1 Axes>"
      ]
     },
     "metadata": {},
     "output_type": "display_data"
    }
   ],
   "source": [
    "for block_condition, data in memory_data.groupby('block_condition'):\n",
    "    slope, intercept, _, _, _ = linregress(data['conf_number'], data['mem_acc'])\n",
    "    x_values = np.linspace(0, 1, 100)\n",
    "    y_values = intercept + slope * x_values\n",
    "    plt.plot(x_values, y_values, label=f'Block Condition {block_condition} Regression')\n",
    "\n",
    "plt.legend()\n",
    "plt.show()"
   ]
  },
  {
   "cell_type": "markdown",
   "metadata": {},
   "source": [
    "#### Model 2 - Block Condition"
   ]
  },
  {
   "cell_type": "code",
   "execution_count": 97,
   "metadata": {},
   "outputs": [
    {
     "name": "stdout",
     "output_type": "stream",
     "text": [
      "Optimization terminated successfully.\n",
      "         Current function value: 0.607700\n",
      "         Iterations 5\n"
     ]
    },
    {
     "data": {
      "text/html": [
       "<table class=\"simpletable\">\n",
       "<caption>Logit Regression Results</caption>\n",
       "<tr>\n",
       "  <th>Dep. Variable:</th>        <td>mem_acc</td>     <th>  No. Observations:  </th>  <td> 13579</td>  \n",
       "</tr>\n",
       "<tr>\n",
       "  <th>Model:</th>                 <td>Logit</td>      <th>  Df Residuals:      </th>  <td> 13577</td>  \n",
       "</tr>\n",
       "<tr>\n",
       "  <th>Method:</th>                 <td>MLE</td>       <th>  Df Model:          </th>  <td>     1</td>  \n",
       "</tr>\n",
       "<tr>\n",
       "  <th>Date:</th>            <td>Tue, 30 Apr 2024</td> <th>  Pseudo R-squ.:     </th> <td>0.0006794</td>\n",
       "</tr>\n",
       "<tr>\n",
       "  <th>Time:</th>                <td>02:02:33</td>     <th>  Log-Likelihood:    </th> <td> -8252.0</td> \n",
       "</tr>\n",
       "<tr>\n",
       "  <th>converged:</th>             <td>True</td>       <th>  LL-Null:           </th> <td> -8257.6</td> \n",
       "</tr>\n",
       "<tr>\n",
       "  <th>Covariance Type:</th>     <td>nonrobust</td>    <th>  LLR p-value:       </th> <td>0.0008091</td>\n",
       "</tr>\n",
       "</table>\n",
       "<table class=\"simpletable\">\n",
       "<tr>\n",
       "         <td></td>            <th>coef</th>     <th>std err</th>      <th>z</th>      <th>P>|z|</th>  <th>[0.025</th>    <th>0.975]</th>  \n",
       "</tr>\n",
       "<tr>\n",
       "  <th>const</th>           <td>    0.6746</td> <td>    0.059</td> <td>   11.437</td> <td> 0.000</td> <td>    0.559</td> <td>    0.790</td>\n",
       "</tr>\n",
       "<tr>\n",
       "  <th>block_condition</th> <td>    0.1259</td> <td>    0.038</td> <td>    3.348</td> <td> 0.001</td> <td>    0.052</td> <td>    0.200</td>\n",
       "</tr>\n",
       "</table>"
      ],
      "text/latex": [
       "\\begin{center}\n",
       "\\begin{tabular}{lclc}\n",
       "\\toprule\n",
       "\\textbf{Dep. Variable:}   &     mem\\_acc     & \\textbf{  No. Observations:  } &    13579    \\\\\n",
       "\\textbf{Model:}           &      Logit       & \\textbf{  Df Residuals:      } &    13577    \\\\\n",
       "\\textbf{Method:}          &       MLE        & \\textbf{  Df Model:          } &        1    \\\\\n",
       "\\textbf{Date:}            & Tue, 30 Apr 2024 & \\textbf{  Pseudo R-squ.:     } & 0.0006794   \\\\\n",
       "\\textbf{Time:}            &     02:02:33     & \\textbf{  Log-Likelihood:    } &   -8252.0   \\\\\n",
       "\\textbf{converged:}       &       True       & \\textbf{  LL-Null:           } &   -8257.6   \\\\\n",
       "\\textbf{Covariance Type:} &    nonrobust     & \\textbf{  LLR p-value:       } & 0.0008091   \\\\\n",
       "\\bottomrule\n",
       "\\end{tabular}\n",
       "\\begin{tabular}{lcccccc}\n",
       "                          & \\textbf{coef} & \\textbf{std err} & \\textbf{z} & \\textbf{P$> |$z$|$} & \\textbf{[0.025} & \\textbf{0.975]}  \\\\\n",
       "\\midrule\n",
       "\\textbf{const}            &       0.6746  &        0.059     &    11.437  &         0.000        &        0.559    &        0.790     \\\\\n",
       "\\textbf{block\\_condition} &       0.1259  &        0.038     &     3.348  &         0.001        &        0.052    &        0.200     \\\\\n",
       "\\bottomrule\n",
       "\\end{tabular}\n",
       "%\\caption{Logit Regression Results}\n",
       "\\end{center}"
      ],
      "text/plain": [
       "<class 'statsmodels.iolib.summary.Summary'>\n",
       "\"\"\"\n",
       "                           Logit Regression Results                           \n",
       "==============================================================================\n",
       "Dep. Variable:                mem_acc   No. Observations:                13579\n",
       "Model:                          Logit   Df Residuals:                    13577\n",
       "Method:                           MLE   Df Model:                            1\n",
       "Date:                Tue, 30 Apr 2024   Pseudo R-squ.:               0.0006794\n",
       "Time:                        02:02:33   Log-Likelihood:                -8252.0\n",
       "converged:                       True   LL-Null:                       -8257.6\n",
       "Covariance Type:            nonrobust   LLR p-value:                 0.0008091\n",
       "===================================================================================\n",
       "                      coef    std err          z      P>|z|      [0.025      0.975]\n",
       "-----------------------------------------------------------------------------------\n",
       "const               0.6746      0.059     11.437      0.000       0.559       0.790\n",
       "block_condition     0.1259      0.038      3.348      0.001       0.052       0.200\n",
       "===================================================================================\n",
       "\"\"\""
      ]
     },
     "execution_count": 97,
     "metadata": {},
     "output_type": "execute_result"
    }
   ],
   "source": [
    "X = memory_data[['block_condition']]\n",
    "y = memory_data['mem_acc']\n",
    "# Add a constant to the predictor variable for the intercept term\n",
    "X = sm.add_constant(X)\n",
    "\n",
    "# Fit logistic regression model with interaction term\n",
    "logit_model = sm.Logit(y, X)\n",
    "result = logit_model.fit()\n",
    "result.summary()"
   ]
  },
  {
   "cell_type": "markdown",
   "metadata": {},
   "source": [
    "##### Observations"
   ]
  },
  {
   "cell_type": "markdown",
   "metadata": {},
   "source": [
    "   - The coefficient for '`block_condition`' is $0.1259$ with a p-value of $0.001$. This indicates that there is a statistically significant positive relationship between '`block_condition`' and memory accuracy.\n",
    "   - The intercept (constant) term is $0.6746$ with a very low p-value ($< 0.001$), indicating that when '`block_condition`' is zero, the log odds of memory accuracy are significantly different from zero.\n",
    "\n",
    "   - For every unit increase in '`block_condition`,' the log odds of memory accuracy increase by $0.1259$ units. This suggests that participants in higher '`block_condition`' levels tend to have higher memory accuracy compared to those in lower '`block_condition`' levels.\n",
    "\n",
    "   - The pseudo R-squared value of $0.0006794$ indicates that the model explains only a very small proportion of the variance in memory accuracy. This suggests that other factors not included in the model may also influence memory accuracy.\n",
    "\n",
    "   - The LLR (Likelihood Ratio) p-value of $0.0008091$ indicates that the logistic regression model as a whole is statistically significant. This implies that '`block_condition`' is indeed a significant predictor of memory accuracy in the model.\n",
    "\n",
    "   - The effect size (as indicated by the coefficient) is relatively small ($0.1259$), suggesting that '`block_condition`' alone may not explain a substantial portion of the variability in memory accuracy."
   ]
  }
 ],
 "metadata": {
  "kernelspec": {
   "display_name": "base",
   "language": "python",
   "name": "python3"
  },
  "language_info": {
   "codemirror_mode": {
    "name": "ipython",
    "version": 3
   },
   "file_extension": ".py",
   "mimetype": "text/x-python",
   "name": "python",
   "nbconvert_exporter": "python",
   "pygments_lexer": "ipython3",
   "version": "3.11.5"
  }
 },
 "nbformat": 4,
 "nbformat_minor": 2
}
