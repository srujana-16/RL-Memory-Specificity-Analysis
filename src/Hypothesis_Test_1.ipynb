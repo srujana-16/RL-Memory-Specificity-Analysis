{
 "cells": [
  {
   "cell_type": "markdown",
   "metadata": {},
   "source": [
    "# Hypotheses Testing"
   ]
  },
  {
   "cell_type": "markdown",
   "metadata": {},
   "source": [
    "#### H0: There is no significant relationship between age and the adaptation towards more specific representations.\n",
    "#### H1: Adaptation towards more specific representations increases with age."
   ]
  },
  {
   "cell_type": "code",
   "execution_count": 1,
   "metadata": {},
   "outputs": [],
   "source": [
    "# Importing Libraries\n",
    "import numpy as np\n",
    "import pandas as pd\n",
    "import seaborn as sns\n",
    "import plotly.express as px\n",
    "import matplotlib.pyplot as plt\n",
    "import scipy.stats as stats\n",
    "import os\n",
    "from scipy.stats import shapiro"
   ]
  },
  {
   "cell_type": "markdown",
   "metadata": {},
   "source": [
    "##  Data Integration"
   ]
  },
  {
   "cell_type": "markdown",
   "metadata": {},
   "source": [
    "#### We merge the data based on subject IDs. We need to combine subject data with memory data, as memory performance reflects adaptation towards specific representations."
   ]
  },
  {
   "cell_type": "code",
   "execution_count": 2,
   "metadata": {},
   "outputs": [],
   "source": [
    "e1_sub_ages = pd.read_csv(\"../data/e1/e1_sub_ages.csv\") \n",
    "e1_memory = pd.read_csv(\"../data/e1/e1_memory_data.csv\")\n",
    "e1_learning = pd.read_csv(\"../data/e1/e1_learning_data.csv\")\n",
    "\n",
    "# Merge dataframes\n",
    "learning_merged = pd.merge(e1_learning, e1_sub_ages, on='subject_id')\n",
    "memory_merged = pd.merge(e1_memory, e1_sub_ages, on='subject_id')"
   ]
  },
  {
   "cell_type": "code",
   "execution_count": 3,
   "metadata": {},
   "outputs": [
    {
     "data": {
      "text/html": [
       "<div>\n",
       "<style scoped>\n",
       "    .dataframe tbody tr th:only-of-type {\n",
       "        vertical-align: middle;\n",
       "    }\n",
       "\n",
       "    .dataframe tbody tr th {\n",
       "        vertical-align: top;\n",
       "    }\n",
       "\n",
       "    .dataframe thead th {\n",
       "        text-align: right;\n",
       "    }\n",
       "</style>\n",
       "<table border=\"1\" class=\"dataframe\">\n",
       "  <thead>\n",
       "    <tr style=\"text-align: right;\">\n",
       "      <th></th>\n",
       "      <th>subject_id</th>\n",
       "      <th>age</th>\n",
       "    </tr>\n",
       "  </thead>\n",
       "  <tbody>\n",
       "    <tr>\n",
       "      <th>0</th>\n",
       "      <td>3768</td>\n",
       "      <td>8.04</td>\n",
       "    </tr>\n",
       "    <tr>\n",
       "      <th>1</th>\n",
       "      <td>3770</td>\n",
       "      <td>8.10</td>\n",
       "    </tr>\n",
       "    <tr>\n",
       "      <th>2</th>\n",
       "      <td>3855</td>\n",
       "      <td>16.83</td>\n",
       "    </tr>\n",
       "    <tr>\n",
       "      <th>3</th>\n",
       "      <td>3853</td>\n",
       "      <td>16.94</td>\n",
       "    </tr>\n",
       "    <tr>\n",
       "      <th>4</th>\n",
       "      <td>3898</td>\n",
       "      <td>22.15</td>\n",
       "    </tr>\n",
       "  </tbody>\n",
       "</table>\n",
       "</div>"
      ],
      "text/plain": [
       "   subject_id    age\n",
       "0        3768   8.04\n",
       "1        3770   8.10\n",
       "2        3855  16.83\n",
       "3        3853  16.94\n",
       "4        3898  22.15"
      ]
     },
     "execution_count": 3,
     "metadata": {},
     "output_type": "execute_result"
    }
   ],
   "source": [
    "e1_sub_ages.head()"
   ]
  },
  {
   "cell_type": "code",
   "execution_count": 6,
   "metadata": {},
   "outputs": [
    {
     "data": {
      "text/html": [
       "<div>\n",
       "<style scoped>\n",
       "    .dataframe tbody tr th:only-of-type {\n",
       "        vertical-align: middle;\n",
       "    }\n",
       "\n",
       "    .dataframe tbody tr th {\n",
       "        vertical-align: top;\n",
       "    }\n",
       "\n",
       "    .dataframe thead th {\n",
       "        text-align: right;\n",
       "    }\n",
       "</style>\n",
       "<table border=\"1\" class=\"dataframe\">\n",
       "  <thead>\n",
       "    <tr style=\"text-align: right;\">\n",
       "      <th></th>\n",
       "      <th>subject_id</th>\n",
       "      <th>task_part</th>\n",
       "      <th>block_order</th>\n",
       "      <th>block_condition</th>\n",
       "      <th>category_type</th>\n",
       "      <th>num_stim_rep</th>\n",
       "      <th>image</th>\n",
       "      <th>category</th>\n",
       "      <th>task_block</th>\n",
       "      <th>stim_num</th>\n",
       "      <th>correct_mem_response</th>\n",
       "      <th>mem_response</th>\n",
       "      <th>confidence</th>\n",
       "      <th>rt</th>\n",
       "      <th>mem_acc</th>\n",
       "      <th>conf_number</th>\n",
       "      <th>conf_rating</th>\n",
       "      <th>foil_type</th>\n",
       "      <th>memory_delay</th>\n",
       "    </tr>\n",
       "  </thead>\n",
       "  <tbody>\n",
       "    <tr>\n",
       "      <th>0</th>\n",
       "      <td>3768</td>\n",
       "      <td>memory_trial</td>\n",
       "      <td>1</td>\n",
       "      <td>2</td>\n",
       "      <td>old</td>\n",
       "      <td>6.0</td>\n",
       "      <td>horse7.png</td>\n",
       "      <td>horse</td>\n",
       "      <td>animals</td>\n",
       "      <td>7</td>\n",
       "      <td>old</td>\n",
       "      <td>old</td>\n",
       "      <td>definitely</td>\n",
       "      <td>1866.0</td>\n",
       "      <td>1.0</td>\n",
       "      <td>1.0</td>\n",
       "      <td>4.0</td>\n",
       "      <td>old</td>\n",
       "      <td>7.0</td>\n",
       "    </tr>\n",
       "    <tr>\n",
       "      <th>1</th>\n",
       "      <td>3768</td>\n",
       "      <td>memory_trial</td>\n",
       "      <td>1</td>\n",
       "      <td>2</td>\n",
       "      <td>old</td>\n",
       "      <td>6.0</td>\n",
       "      <td>cow5.png</td>\n",
       "      <td>cow</td>\n",
       "      <td>animals</td>\n",
       "      <td>5</td>\n",
       "      <td>old</td>\n",
       "      <td>old</td>\n",
       "      <td>definitely</td>\n",
       "      <td>1792.0</td>\n",
       "      <td>1.0</td>\n",
       "      <td>1.0</td>\n",
       "      <td>4.0</td>\n",
       "      <td>old</td>\n",
       "      <td>7.0</td>\n",
       "    </tr>\n",
       "    <tr>\n",
       "      <th>2</th>\n",
       "      <td>3768</td>\n",
       "      <td>memory_trial</td>\n",
       "      <td>1</td>\n",
       "      <td>2</td>\n",
       "      <td>old</td>\n",
       "      <td>3.0</td>\n",
       "      <td>cow8.png</td>\n",
       "      <td>cow</td>\n",
       "      <td>animals</td>\n",
       "      <td>8</td>\n",
       "      <td>old</td>\n",
       "      <td>new</td>\n",
       "      <td>definitely</td>\n",
       "      <td>3074.0</td>\n",
       "      <td>0.0</td>\n",
       "      <td>1.0</td>\n",
       "      <td>1.0</td>\n",
       "      <td>old</td>\n",
       "      <td>7.0</td>\n",
       "    </tr>\n",
       "    <tr>\n",
       "      <th>3</th>\n",
       "      <td>3768</td>\n",
       "      <td>memory_trial</td>\n",
       "      <td>1</td>\n",
       "      <td>2</td>\n",
       "      <td>old</td>\n",
       "      <td>6.0</td>\n",
       "      <td>goat6.png</td>\n",
       "      <td>goat</td>\n",
       "      <td>animals</td>\n",
       "      <td>6</td>\n",
       "      <td>old</td>\n",
       "      <td>old</td>\n",
       "      <td>definitely</td>\n",
       "      <td>1411.0</td>\n",
       "      <td>1.0</td>\n",
       "      <td>1.0</td>\n",
       "      <td>4.0</td>\n",
       "      <td>old</td>\n",
       "      <td>7.0</td>\n",
       "    </tr>\n",
       "    <tr>\n",
       "      <th>4</th>\n",
       "      <td>3768</td>\n",
       "      <td>memory_trial</td>\n",
       "      <td>1</td>\n",
       "      <td>2</td>\n",
       "      <td>old</td>\n",
       "      <td>3.0</td>\n",
       "      <td>goat5.png</td>\n",
       "      <td>goat</td>\n",
       "      <td>animals</td>\n",
       "      <td>5</td>\n",
       "      <td>old</td>\n",
       "      <td>new</td>\n",
       "      <td>maybe</td>\n",
       "      <td>3348.0</td>\n",
       "      <td>0.0</td>\n",
       "      <td>0.0</td>\n",
       "      <td>2.0</td>\n",
       "      <td>old</td>\n",
       "      <td>7.0</td>\n",
       "    </tr>\n",
       "  </tbody>\n",
       "</table>\n",
       "</div>"
      ],
      "text/plain": [
       "   subject_id     task_part  block_order  block_condition category_type  \\\n",
       "0        3768  memory_trial            1                2           old   \n",
       "1        3768  memory_trial            1                2           old   \n",
       "2        3768  memory_trial            1                2           old   \n",
       "3        3768  memory_trial            1                2           old   \n",
       "4        3768  memory_trial            1                2           old   \n",
       "\n",
       "   num_stim_rep       image category task_block  stim_num  \\\n",
       "0           6.0  horse7.png    horse    animals         7   \n",
       "1           6.0    cow5.png      cow    animals         5   \n",
       "2           3.0    cow8.png      cow    animals         8   \n",
       "3           6.0   goat6.png     goat    animals         6   \n",
       "4           3.0   goat5.png     goat    animals         5   \n",
       "\n",
       "  correct_mem_response mem_response  confidence      rt  mem_acc  conf_number  \\\n",
       "0                  old          old  definitely  1866.0      1.0          1.0   \n",
       "1                  old          old  definitely  1792.0      1.0          1.0   \n",
       "2                  old          new  definitely  3074.0      0.0          1.0   \n",
       "3                  old          old  definitely  1411.0      1.0          1.0   \n",
       "4                  old          new       maybe  3348.0      0.0          0.0   \n",
       "\n",
       "   conf_rating foil_type  memory_delay  \n",
       "0          4.0       old           7.0  \n",
       "1          4.0       old           7.0  \n",
       "2          1.0       old           7.0  \n",
       "3          4.0       old           7.0  \n",
       "4          2.0       old           7.0  "
      ]
     },
     "execution_count": 6,
     "metadata": {},
     "output_type": "execute_result"
    }
   ],
   "source": [
    "e1_memory.head()"
   ]
  },
  {
   "cell_type": "code",
   "execution_count": 7,
   "metadata": {},
   "outputs": [
    {
     "data": {
      "text/html": [
       "<div>\n",
       "<style scoped>\n",
       "    .dataframe tbody tr th:only-of-type {\n",
       "        vertical-align: middle;\n",
       "    }\n",
       "\n",
       "    .dataframe tbody tr th {\n",
       "        vertical-align: top;\n",
       "    }\n",
       "\n",
       "    .dataframe thead th {\n",
       "        text-align: right;\n",
       "    }\n",
       "</style>\n",
       "<table border=\"1\" class=\"dataframe\">\n",
       "  <thead>\n",
       "    <tr style=\"text-align: right;\">\n",
       "      <th></th>\n",
       "      <th>subject_id</th>\n",
       "      <th>task_part</th>\n",
       "      <th>block_condition</th>\n",
       "      <th>block_order</th>\n",
       "      <th>task_block</th>\n",
       "      <th>trial_index</th>\n",
       "      <th>stimulus</th>\n",
       "      <th>cat_type</th>\n",
       "      <th>mean_cat_reward</th>\n",
       "      <th>approach_reward</th>\n",
       "      <th>key_press</th>\n",
       "      <th>rt</th>\n",
       "      <th>points</th>\n",
       "      <th>stimulus_repetition</th>\n",
       "      <th>correct_response</th>\n",
       "      <th>correct_response_made</th>\n",
       "    </tr>\n",
       "  </thead>\n",
       "  <tbody>\n",
       "    <tr>\n",
       "      <th>0</th>\n",
       "      <td>3768</td>\n",
       "      <td>learning</td>\n",
       "      <td>2</td>\n",
       "      <td>1</td>\n",
       "      <td>animals</td>\n",
       "      <td>73</td>\n",
       "      <td>images/horse7.png</td>\n",
       "      <td>neutral</td>\n",
       "      <td>0</td>\n",
       "      <td>2</td>\n",
       "      <td>1</td>\n",
       "      <td>1148.0</td>\n",
       "      <td>2</td>\n",
       "      <td>1</td>\n",
       "      <td>1</td>\n",
       "      <td>1.0</td>\n",
       "    </tr>\n",
       "    <tr>\n",
       "      <th>1</th>\n",
       "      <td>3768</td>\n",
       "      <td>learning</td>\n",
       "      <td>2</td>\n",
       "      <td>1</td>\n",
       "      <td>animals</td>\n",
       "      <td>75</td>\n",
       "      <td>images/cow5.png</td>\n",
       "      <td>bad</td>\n",
       "      <td>-3</td>\n",
       "      <td>-4</td>\n",
       "      <td>0</td>\n",
       "      <td>347.0</td>\n",
       "      <td>0</td>\n",
       "      <td>1</td>\n",
       "      <td>0</td>\n",
       "      <td>1.0</td>\n",
       "    </tr>\n",
       "    <tr>\n",
       "      <th>2</th>\n",
       "      <td>3768</td>\n",
       "      <td>learning</td>\n",
       "      <td>2</td>\n",
       "      <td>1</td>\n",
       "      <td>animals</td>\n",
       "      <td>77</td>\n",
       "      <td>images/cow8.png</td>\n",
       "      <td>bad</td>\n",
       "      <td>-3</td>\n",
       "      <td>-2</td>\n",
       "      <td>1</td>\n",
       "      <td>618.0</td>\n",
       "      <td>-2</td>\n",
       "      <td>1</td>\n",
       "      <td>0</td>\n",
       "      <td>0.0</td>\n",
       "    </tr>\n",
       "    <tr>\n",
       "      <th>3</th>\n",
       "      <td>3768</td>\n",
       "      <td>learning</td>\n",
       "      <td>2</td>\n",
       "      <td>1</td>\n",
       "      <td>animals</td>\n",
       "      <td>79</td>\n",
       "      <td>images/horse7.png</td>\n",
       "      <td>neutral</td>\n",
       "      <td>0</td>\n",
       "      <td>2</td>\n",
       "      <td>1</td>\n",
       "      <td>306.0</td>\n",
       "      <td>2</td>\n",
       "      <td>2</td>\n",
       "      <td>1</td>\n",
       "      <td>1.0</td>\n",
       "    </tr>\n",
       "    <tr>\n",
       "      <th>4</th>\n",
       "      <td>3768</td>\n",
       "      <td>learning</td>\n",
       "      <td>2</td>\n",
       "      <td>1</td>\n",
       "      <td>animals</td>\n",
       "      <td>81</td>\n",
       "      <td>images/goat6.png</td>\n",
       "      <td>good</td>\n",
       "      <td>5</td>\n",
       "      <td>8</td>\n",
       "      <td>0</td>\n",
       "      <td>1521.0</td>\n",
       "      <td>0</td>\n",
       "      <td>1</td>\n",
       "      <td>1</td>\n",
       "      <td>0.0</td>\n",
       "    </tr>\n",
       "  </tbody>\n",
       "</table>\n",
       "</div>"
      ],
      "text/plain": [
       "   subject_id task_part  block_condition  block_order task_block  trial_index  \\\n",
       "0        3768  learning                2            1    animals           73   \n",
       "1        3768  learning                2            1    animals           75   \n",
       "2        3768  learning                2            1    animals           77   \n",
       "3        3768  learning                2            1    animals           79   \n",
       "4        3768  learning                2            1    animals           81   \n",
       "\n",
       "            stimulus cat_type  mean_cat_reward approach_reward key_press  \\\n",
       "0  images/horse7.png  neutral                0               2         1   \n",
       "1    images/cow5.png      bad               -3              -4         0   \n",
       "2    images/cow8.png      bad               -3              -2         1   \n",
       "3  images/horse7.png  neutral                0               2         1   \n",
       "4   images/goat6.png     good                5               8         0   \n",
       "\n",
       "       rt  points  stimulus_repetition  correct_response  \\\n",
       "0  1148.0       2                    1                 1   \n",
       "1   347.0       0                    1                 0   \n",
       "2   618.0      -2                    1                 0   \n",
       "3   306.0       2                    2                 1   \n",
       "4  1521.0       0                    1                 1   \n",
       "\n",
       "   correct_response_made  \n",
       "0                    1.0  \n",
       "1                    1.0  \n",
       "2                    0.0  \n",
       "3                    1.0  \n",
       "4                    0.0  "
      ]
     },
     "execution_count": 7,
     "metadata": {},
     "output_type": "execute_result"
    }
   ],
   "source": [
    "e1_learning.head()"
   ]
  },
  {
   "cell_type": "code",
   "execution_count": 8,
   "metadata": {},
   "outputs": [
    {
     "data": {
      "text/html": [
       "<div>\n",
       "<style scoped>\n",
       "    .dataframe tbody tr th:only-of-type {\n",
       "        vertical-align: middle;\n",
       "    }\n",
       "\n",
       "    .dataframe tbody tr th {\n",
       "        vertical-align: top;\n",
       "    }\n",
       "\n",
       "    .dataframe thead th {\n",
       "        text-align: right;\n",
       "    }\n",
       "</style>\n",
       "<table border=\"1\" class=\"dataframe\">\n",
       "  <thead>\n",
       "    <tr style=\"text-align: right;\">\n",
       "      <th></th>\n",
       "      <th>subject_id</th>\n",
       "      <th>task_part</th>\n",
       "      <th>block_order</th>\n",
       "      <th>block_condition</th>\n",
       "      <th>category_type</th>\n",
       "      <th>num_stim_rep</th>\n",
       "      <th>image</th>\n",
       "      <th>category</th>\n",
       "      <th>task_block</th>\n",
       "      <th>stim_num</th>\n",
       "      <th>correct_mem_response</th>\n",
       "      <th>mem_response</th>\n",
       "      <th>confidence</th>\n",
       "      <th>rt</th>\n",
       "      <th>mem_acc</th>\n",
       "      <th>conf_number</th>\n",
       "      <th>conf_rating</th>\n",
       "      <th>foil_type</th>\n",
       "      <th>memory_delay</th>\n",
       "      <th>age</th>\n",
       "    </tr>\n",
       "  </thead>\n",
       "  <tbody>\n",
       "    <tr>\n",
       "      <th>0</th>\n",
       "      <td>3768</td>\n",
       "      <td>memory_trial</td>\n",
       "      <td>1</td>\n",
       "      <td>2</td>\n",
       "      <td>old</td>\n",
       "      <td>6.0</td>\n",
       "      <td>horse7.png</td>\n",
       "      <td>horse</td>\n",
       "      <td>animals</td>\n",
       "      <td>7</td>\n",
       "      <td>old</td>\n",
       "      <td>old</td>\n",
       "      <td>definitely</td>\n",
       "      <td>1866.0</td>\n",
       "      <td>1.0</td>\n",
       "      <td>1.0</td>\n",
       "      <td>4.0</td>\n",
       "      <td>old</td>\n",
       "      <td>7.0</td>\n",
       "      <td>8.04</td>\n",
       "    </tr>\n",
       "    <tr>\n",
       "      <th>1</th>\n",
       "      <td>3768</td>\n",
       "      <td>memory_trial</td>\n",
       "      <td>1</td>\n",
       "      <td>2</td>\n",
       "      <td>old</td>\n",
       "      <td>6.0</td>\n",
       "      <td>cow5.png</td>\n",
       "      <td>cow</td>\n",
       "      <td>animals</td>\n",
       "      <td>5</td>\n",
       "      <td>old</td>\n",
       "      <td>old</td>\n",
       "      <td>definitely</td>\n",
       "      <td>1792.0</td>\n",
       "      <td>1.0</td>\n",
       "      <td>1.0</td>\n",
       "      <td>4.0</td>\n",
       "      <td>old</td>\n",
       "      <td>7.0</td>\n",
       "      <td>8.04</td>\n",
       "    </tr>\n",
       "    <tr>\n",
       "      <th>2</th>\n",
       "      <td>3768</td>\n",
       "      <td>memory_trial</td>\n",
       "      <td>1</td>\n",
       "      <td>2</td>\n",
       "      <td>old</td>\n",
       "      <td>3.0</td>\n",
       "      <td>cow8.png</td>\n",
       "      <td>cow</td>\n",
       "      <td>animals</td>\n",
       "      <td>8</td>\n",
       "      <td>old</td>\n",
       "      <td>new</td>\n",
       "      <td>definitely</td>\n",
       "      <td>3074.0</td>\n",
       "      <td>0.0</td>\n",
       "      <td>1.0</td>\n",
       "      <td>1.0</td>\n",
       "      <td>old</td>\n",
       "      <td>7.0</td>\n",
       "      <td>8.04</td>\n",
       "    </tr>\n",
       "    <tr>\n",
       "      <th>3</th>\n",
       "      <td>3768</td>\n",
       "      <td>memory_trial</td>\n",
       "      <td>1</td>\n",
       "      <td>2</td>\n",
       "      <td>old</td>\n",
       "      <td>6.0</td>\n",
       "      <td>goat6.png</td>\n",
       "      <td>goat</td>\n",
       "      <td>animals</td>\n",
       "      <td>6</td>\n",
       "      <td>old</td>\n",
       "      <td>old</td>\n",
       "      <td>definitely</td>\n",
       "      <td>1411.0</td>\n",
       "      <td>1.0</td>\n",
       "      <td>1.0</td>\n",
       "      <td>4.0</td>\n",
       "      <td>old</td>\n",
       "      <td>7.0</td>\n",
       "      <td>8.04</td>\n",
       "    </tr>\n",
       "    <tr>\n",
       "      <th>4</th>\n",
       "      <td>3768</td>\n",
       "      <td>memory_trial</td>\n",
       "      <td>1</td>\n",
       "      <td>2</td>\n",
       "      <td>old</td>\n",
       "      <td>3.0</td>\n",
       "      <td>goat5.png</td>\n",
       "      <td>goat</td>\n",
       "      <td>animals</td>\n",
       "      <td>5</td>\n",
       "      <td>old</td>\n",
       "      <td>new</td>\n",
       "      <td>maybe</td>\n",
       "      <td>3348.0</td>\n",
       "      <td>0.0</td>\n",
       "      <td>0.0</td>\n",
       "      <td>2.0</td>\n",
       "      <td>old</td>\n",
       "      <td>7.0</td>\n",
       "      <td>8.04</td>\n",
       "    </tr>\n",
       "  </tbody>\n",
       "</table>\n",
       "</div>"
      ],
      "text/plain": [
       "   subject_id     task_part  block_order  block_condition category_type  \\\n",
       "0        3768  memory_trial            1                2           old   \n",
       "1        3768  memory_trial            1                2           old   \n",
       "2        3768  memory_trial            1                2           old   \n",
       "3        3768  memory_trial            1                2           old   \n",
       "4        3768  memory_trial            1                2           old   \n",
       "\n",
       "   num_stim_rep       image category task_block  stim_num  \\\n",
       "0           6.0  horse7.png    horse    animals         7   \n",
       "1           6.0    cow5.png      cow    animals         5   \n",
       "2           3.0    cow8.png      cow    animals         8   \n",
       "3           6.0   goat6.png     goat    animals         6   \n",
       "4           3.0   goat5.png     goat    animals         5   \n",
       "\n",
       "  correct_mem_response mem_response  confidence      rt  mem_acc  conf_number  \\\n",
       "0                  old          old  definitely  1866.0      1.0          1.0   \n",
       "1                  old          old  definitely  1792.0      1.0          1.0   \n",
       "2                  old          new  definitely  3074.0      0.0          1.0   \n",
       "3                  old          old  definitely  1411.0      1.0          1.0   \n",
       "4                  old          new       maybe  3348.0      0.0          0.0   \n",
       "\n",
       "   conf_rating foil_type  memory_delay   age  \n",
       "0          4.0       old           7.0  8.04  \n",
       "1          4.0       old           7.0  8.04  \n",
       "2          1.0       old           7.0  8.04  \n",
       "3          4.0       old           7.0  8.04  \n",
       "4          2.0       old           7.0  8.04  "
      ]
     },
     "execution_count": 8,
     "metadata": {},
     "output_type": "execute_result"
    }
   ],
   "source": [
    "memory_merged.head()"
   ]
  },
  {
   "cell_type": "code",
   "execution_count": 4,
   "metadata": {},
   "outputs": [
    {
     "data": {
      "text/html": [
       "<div>\n",
       "<style scoped>\n",
       "    .dataframe tbody tr th:only-of-type {\n",
       "        vertical-align: middle;\n",
       "    }\n",
       "\n",
       "    .dataframe tbody tr th {\n",
       "        vertical-align: top;\n",
       "    }\n",
       "\n",
       "    .dataframe thead th {\n",
       "        text-align: right;\n",
       "    }\n",
       "</style>\n",
       "<table border=\"1\" class=\"dataframe\">\n",
       "  <thead>\n",
       "    <tr style=\"text-align: right;\">\n",
       "      <th></th>\n",
       "      <th>subject_id</th>\n",
       "      <th>task_part</th>\n",
       "      <th>block_condition</th>\n",
       "      <th>block_order</th>\n",
       "      <th>task_block</th>\n",
       "      <th>trial_index</th>\n",
       "      <th>stimulus</th>\n",
       "      <th>cat_type</th>\n",
       "      <th>mean_cat_reward</th>\n",
       "      <th>approach_reward</th>\n",
       "      <th>key_press</th>\n",
       "      <th>rt</th>\n",
       "      <th>points</th>\n",
       "      <th>stimulus_repetition</th>\n",
       "      <th>correct_response</th>\n",
       "      <th>correct_response_made</th>\n",
       "      <th>age</th>\n",
       "    </tr>\n",
       "  </thead>\n",
       "  <tbody>\n",
       "    <tr>\n",
       "      <th>0</th>\n",
       "      <td>3768</td>\n",
       "      <td>learning</td>\n",
       "      <td>2</td>\n",
       "      <td>1</td>\n",
       "      <td>animals</td>\n",
       "      <td>73</td>\n",
       "      <td>images/horse7.png</td>\n",
       "      <td>neutral</td>\n",
       "      <td>0</td>\n",
       "      <td>2</td>\n",
       "      <td>1</td>\n",
       "      <td>1148.0</td>\n",
       "      <td>2</td>\n",
       "      <td>1</td>\n",
       "      <td>1</td>\n",
       "      <td>1.0</td>\n",
       "      <td>8.04</td>\n",
       "    </tr>\n",
       "    <tr>\n",
       "      <th>1</th>\n",
       "      <td>3768</td>\n",
       "      <td>learning</td>\n",
       "      <td>2</td>\n",
       "      <td>1</td>\n",
       "      <td>animals</td>\n",
       "      <td>75</td>\n",
       "      <td>images/cow5.png</td>\n",
       "      <td>bad</td>\n",
       "      <td>-3</td>\n",
       "      <td>-4</td>\n",
       "      <td>0</td>\n",
       "      <td>347.0</td>\n",
       "      <td>0</td>\n",
       "      <td>1</td>\n",
       "      <td>0</td>\n",
       "      <td>1.0</td>\n",
       "      <td>8.04</td>\n",
       "    </tr>\n",
       "    <tr>\n",
       "      <th>2</th>\n",
       "      <td>3768</td>\n",
       "      <td>learning</td>\n",
       "      <td>2</td>\n",
       "      <td>1</td>\n",
       "      <td>animals</td>\n",
       "      <td>77</td>\n",
       "      <td>images/cow8.png</td>\n",
       "      <td>bad</td>\n",
       "      <td>-3</td>\n",
       "      <td>-2</td>\n",
       "      <td>1</td>\n",
       "      <td>618.0</td>\n",
       "      <td>-2</td>\n",
       "      <td>1</td>\n",
       "      <td>0</td>\n",
       "      <td>0.0</td>\n",
       "      <td>8.04</td>\n",
       "    </tr>\n",
       "    <tr>\n",
       "      <th>3</th>\n",
       "      <td>3768</td>\n",
       "      <td>learning</td>\n",
       "      <td>2</td>\n",
       "      <td>1</td>\n",
       "      <td>animals</td>\n",
       "      <td>79</td>\n",
       "      <td>images/horse7.png</td>\n",
       "      <td>neutral</td>\n",
       "      <td>0</td>\n",
       "      <td>2</td>\n",
       "      <td>1</td>\n",
       "      <td>306.0</td>\n",
       "      <td>2</td>\n",
       "      <td>2</td>\n",
       "      <td>1</td>\n",
       "      <td>1.0</td>\n",
       "      <td>8.04</td>\n",
       "    </tr>\n",
       "    <tr>\n",
       "      <th>4</th>\n",
       "      <td>3768</td>\n",
       "      <td>learning</td>\n",
       "      <td>2</td>\n",
       "      <td>1</td>\n",
       "      <td>animals</td>\n",
       "      <td>81</td>\n",
       "      <td>images/goat6.png</td>\n",
       "      <td>good</td>\n",
       "      <td>5</td>\n",
       "      <td>8</td>\n",
       "      <td>0</td>\n",
       "      <td>1521.0</td>\n",
       "      <td>0</td>\n",
       "      <td>1</td>\n",
       "      <td>1</td>\n",
       "      <td>0.0</td>\n",
       "      <td>8.04</td>\n",
       "    </tr>\n",
       "  </tbody>\n",
       "</table>\n",
       "</div>"
      ],
      "text/plain": [
       "   subject_id task_part  block_condition  block_order task_block  trial_index  \\\n",
       "0        3768  learning                2            1    animals           73   \n",
       "1        3768  learning                2            1    animals           75   \n",
       "2        3768  learning                2            1    animals           77   \n",
       "3        3768  learning                2            1    animals           79   \n",
       "4        3768  learning                2            1    animals           81   \n",
       "\n",
       "            stimulus cat_type  mean_cat_reward approach_reward key_press  \\\n",
       "0  images/horse7.png  neutral                0               2         1   \n",
       "1    images/cow5.png      bad               -3              -4         0   \n",
       "2    images/cow8.png      bad               -3              -2         1   \n",
       "3  images/horse7.png  neutral                0               2         1   \n",
       "4   images/goat6.png     good                5               8         0   \n",
       "\n",
       "       rt  points  stimulus_repetition  correct_response  \\\n",
       "0  1148.0       2                    1                 1   \n",
       "1   347.0       0                    1                 0   \n",
       "2   618.0      -2                    1                 0   \n",
       "3   306.0       2                    2                 1   \n",
       "4  1521.0       0                    1                 1   \n",
       "\n",
       "   correct_response_made   age  \n",
       "0                    1.0  8.04  \n",
       "1                    1.0  8.04  \n",
       "2                    0.0  8.04  \n",
       "3                    1.0  8.04  \n",
       "4                    0.0  8.04  "
      ]
     },
     "execution_count": 4,
     "metadata": {},
     "output_type": "execute_result"
    }
   ],
   "source": [
    "learning_merged.head()"
   ]
  },
  {
   "cell_type": "code",
   "execution_count": 5,
   "metadata": {},
   "outputs": [
    {
     "name": "stdout",
     "output_type": "stream",
     "text": [
      "Missing values in learning data:\n",
      "subject_id                 0\n",
      "task_part                  0\n",
      "block_condition            0\n",
      "block_order                0\n",
      "task_block                 0\n",
      "trial_index                0\n",
      "stimulus                   0\n",
      "cat_type                   0\n",
      "mean_cat_reward            0\n",
      "approach_reward            0\n",
      "key_press                174\n",
      "rt                       168\n",
      "points                     0\n",
      "stimulus_repetition        0\n",
      "correct_response           0\n",
      "correct_response_made    174\n",
      "age                        0\n",
      "dtype: int64\n",
      "\n",
      "Missing values in memory data:\n",
      "subject_id                  0\n",
      "task_part                   0\n",
      "block_order                 0\n",
      "block_condition             0\n",
      "category_type               0\n",
      "num_stim_rep            15504\n",
      "image                       0\n",
      "category                    0\n",
      "task_block                  0\n",
      "stim_num                    0\n",
      "correct_mem_response        0\n",
      "mem_response               28\n",
      "confidence                 28\n",
      "rt                         28\n",
      "mem_acc                    28\n",
      "conf_number                28\n",
      "conf_rating                28\n",
      "foil_type                   0\n",
      "memory_delay              192\n",
      "age                         0\n",
      "dtype: int64\n"
     ]
    }
   ],
   "source": [
    "# Check for missing values\n",
    "print(\"Missing values in learning data:\")\n",
    "print(learning_merged.isnull().sum())\n",
    "\n",
    "print(\"\\nMissing values in memory data:\")\n",
    "print(memory_merged.isnull().sum())\n",
    "\n",
    "# Remove missing values if any\n",
    "learning_merged.dropna(inplace=True)\n",
    "memory_merged.dropna(inplace=True)"
   ]
  },
  {
   "cell_type": "markdown",
   "metadata": {},
   "source": [
    "## Statistical Analysis on Learning Data Vs Age"
   ]
  },
  {
   "cell_type": "markdown",
   "metadata": {},
   "source": [
    "### Age Vs Correct Response Made"
   ]
  },
  {
   "cell_type": "code",
   "execution_count": 19,
   "metadata": {},
   "outputs": [
    {
     "name": "stdout",
     "output_type": "stream",
     "text": [
      "Number of people in each age group:\n",
      "Children: 50\n",
      "Adolescents: 50\n",
      "Adults: 51\n"
     ]
    }
   ],
   "source": [
    "#  Split age group to compare adaptation \n",
    "\n",
    "children_data = learning_merged[learning_merged['age'] <= 13]\n",
    "adolescents_data = learning_merged[(learning_merged['age'] > 13) & (learning_merged['age'] <= 18)]\n",
    "adults_data = learning_merged[learning_merged['age'] > 18]\n",
    "\n",
    "print(\"Number of people in each age group:\")\n",
    "print(\"Children:\", len(children_data['subject_id'].unique()))\n",
    "print(\"Adolescents:\", len(adolescents_data['subject_id'].unique()))\n",
    "print(\"Adults:\", len(adults_data['subject_id'].unique()))"
   ]
  },
  {
   "cell_type": "code",
   "execution_count": 20,
   "metadata": {},
   "outputs": [
    {
     "name": "stdout",
     "output_type": "stream",
     "text": [
      "Proportion of correct responses made by each age group:\n",
      "age\n",
      "8.01     0.632280\n",
      "8.03     0.580065\n",
      "8.04     0.761589\n",
      "8.05     0.560656\n",
      "8.10     0.695082\n",
      "           ...   \n",
      "25.06    0.769608\n",
      "25.29    0.830065\n",
      "25.31    0.787582\n",
      "25.87    0.751634\n",
      "25.94    0.713816\n",
      "Name: correct_response_made, Length: 147, dtype: float64\n"
     ]
    }
   ],
   "source": [
    "# Group the data by age groups and count correct and incorrect responses\n",
    "correct_responses_by_age = learning_merged.groupby('age')['correct_response_made'].sum()\n",
    "total_responses_by_age = learning_merged.groupby('age')['correct_response_made'].count()\n",
    "\n",
    "# Calculate the proportion of correct responses for each age group\n",
    "proportion_correct_by_age = correct_responses_by_age / total_responses_by_age\n",
    "\n",
    "print(\"Proportion of correct responses made by each age group:\")\n",
    "print(proportion_correct_by_age)\n"
   ]
  },
  {
   "cell_type": "code",
   "execution_count": 26,
   "metadata": {},
   "outputs": [
    {
     "name": "stdout",
     "output_type": "stream",
     "text": [
      "Proportion of correct responses made by each age group:\n",
      "Adults: 0.7448475120385233\n",
      "Adolescents: 0.7136953955135773\n",
      "Children: 0.6777989612780225\n"
     ]
    }
   ],
   "source": [
    "\n",
    "# Calculate the proportion of correct responses for each age group\n",
    "adults_proportion_correct = adults_data['correct_response_made'].mean()\n",
    "adolescents_proportion_correct = adolescents_data['correct_response_made'].mean()\n",
    "children_proportion_correct = children_data['correct_response_made'].mean()\n",
    "\n",
    "print(\"Proportion of correct responses made by each age group:\")\n",
    "print(\"Adults:\", adults_proportion_correct)\n",
    "print(\"Adolescents:\", adolescents_proportion_correct)\n",
    "print(\"Children:\", children_proportion_correct)\n"
   ]
  },
  {
   "cell_type": "code",
   "execution_count": 27,
   "metadata": {},
   "outputs": [
    {
     "data": {
      "image/png": "[encoded data removed]",
      "text/plain": [
       "<Figure size 640x480 with 1 Axes>"
      ]
     },
     "metadata": {},
     "output_type": "display_data"
    }
   ],
   "source": [
    "# plotting\n",
    "fig, ax = plt.subplots()\n",
    "ax.bar(['Adults', 'Adolescents', 'Children'], [adults_proportion_correct, adolescents_proportion_correct, children_proportion_correct])\n",
    "ax.set_ylabel('Proportion of correct responses')\n",
    "ax.set_title('Proportion of correct responses by age group')\n",
    "plt.show()"
   ]
  },
  {
   "cell_type": "markdown",
   "metadata": {},
   "source": [
    "#### Inferences\n",
    "\n",
    "It appears that adults tend to have a higher proportion of correct responses than teenagers and children."
   ]
  },
  {
   "cell_type": "markdown",
   "metadata": {},
   "source": [
    "##### Since the age variable is continuous, we can directly assess the relationship between age and the proportion of correct responses made. We'll perform tests to investigate if there's a significant relationship between age and the proportion of correct responses.\n",
    "\n",
    "The age variable is continuous and your adaptation outcome is binary, the most suitable test is Logistic Regression. This method analyzes the relationship between a binary dependent variable and one or more independent variables (in this case, age)"
   ]
  },
  {
   "cell_type": "markdown",
   "metadata": {},
   "source": [
    "Normality Test:\n",
    "\n",
    "We will use the Shapiro-Wilk test to check for normality."
   ]
  },
  {
   "cell_type": "code",
   "execution_count": 42,
   "metadata": {},
   "outputs": [
    {
     "name": "stdout",
     "output_type": "stream",
     "text": [
      "Coefficients: [[0.03124669]]\n",
      "Intercept: [0.41335461]\n",
      "Model score: 0.7147822309112631\n",
      "p-value for age: 0.03124668719808644\n"
     ]
    }
   ],
   "source": [
    "\n",
    "from sklearn.linear_model import LogisticRegression\n",
    "from sklearn.model_selection import train_test_split\n",
    "\n",
    "age = learning_merged['age']\n",
    "correct_response_made = learning_merged['correct_response_made']\n",
    "\n",
    "# Split data into training and testing sets (optional but recommended)\n",
    "X_train, X_test, y_train, y_test = train_test_split(age, correct_response_made, test_size=0.2, random_state=42)\n",
    "X_train_array = X_train.to_numpy() \n",
    "\n",
    "# logistic regression model\n",
    "model = LogisticRegression()\n",
    "model.fit(X_train_array.reshape(-1, 1), y_train) \n",
    "\n",
    "print(\"Coefficients:\", model.coef_)\n",
    "print(\"Intercept:\", model.intercept_)\n",
    "\n",
    "print(\"Model score:\", model.score(X_test.to_numpy().reshape(-1, 1), y_test))\n",
    "\n",
    "# Print the p-value for the age coefficient\n",
    "print(\"p-value for age:\", model.coef_[0][0])\n"
   ]
  },
  {
   "cell_type": "markdown",
   "metadata": {},
   "source": [
    "**Interpretations**\n",
    "\n",
    "Coefficients: [[0.03124669]] - This indicates a positive relationship between age and the probability of a correct response. As age increases by one unit, the log odds of a correct response increases by 0.0312.\n",
    "\n",
    "Intercept: [0.41335461] - This represents the intercept of the regression line, which doesn't directly relate to age but helps position the line in the model.\n",
    "\n",
    "p-value: 0.03124668 - This is a significant p-value (typically considered less than 0.05), suggesting the positive relationship between age and correct responses is statistically significant."
   ]
  },
  {
   "cell_type": "code",
   "execution_count": 49,
   "metadata": {},
   "outputs": [
    {
     "name": "stdout",
     "output_type": "stream",
     "text": [
      "Test Set Accuracy: 0.7147822309112631\n",
      "Test Set Precision: 0.7147822309112631\n",
      "Test Set Recall: 1.0\n",
      "Test Set F1-score: 0.8336711426399798\n"
     ]
    }
   ],
   "source": [
    "from sklearn.metrics import accuracy_score, precision_score, recall_score, f1_score\n",
    "\n",
    "X_test_array = X_test.to_numpy() \n",
    "y_pred = model.predict(X_test_array.reshape(-1, 1))\n",
    "\n",
    "# Calculate evaluation metrics\n",
    "accuracy = accuracy_score(y_test, y_pred)\n",
    "precision = precision_score(y_test, y_pred)\n",
    "recall = recall_score(y_test, y_pred)\n",
    "f1 = f1_score(y_test, y_pred)\n",
    "\n",
    "print(\"Test Set Accuracy:\", accuracy)\n",
    "print(\"Test Set Precision:\", precision)\n",
    "print(\"Test Set Recall:\", recall)\n",
    "print(\"Test Set F1-score:\", f1)"
   ]
  },
  {
   "cell_type": "markdown",
   "metadata": {},
   "source": [
    "#### Visualisations"
   ]
  },
  {
   "cell_type": "code",
   "execution_count": 39,
   "metadata": {},
   "outputs": [
    {
     "data": {
      "image/png": "[encoded data removed]",
      "text/plain": [
       "<Figure size 640x480 with 1 Axes>"
      ]
     },
     "metadata": {},
     "output_type": "display_data"
    }
   ],
   "source": [
    "y_pred = model.predict_proba(X_train_array.reshape(-1, 1))[:, 1]\n",
    "\n",
    "# Plot the scatter and decision boundary\n",
    "plt.scatter(X_train, y_pred, label=\"Predicted Probability\")\n",
    "plt.plot(X_train, model.predict_proba(X_train_array.reshape(-1, 1))[:, 1], label=\"Decision Boundary\")\n",
    "plt.xlabel(\"Age\")\n",
    "plt.ylabel(\"Probability of Correct Response\")\n",
    "plt.legend()\n",
    "plt.show()"
   ]
  },
  {
   "cell_type": "code",
   "execution_count": 40,
   "metadata": {},
   "outputs": [
    {
     "data": {
      "image/png": "[encoded data removed]",
      "text/plain": [
       "<Figure size 640x480 with 1 Axes>"
      ]
     },
     "metadata": {},
     "output_type": "display_data"
    }
   ],
   "source": [
    "from sklearn.metrics import roc_curve, auc\n",
    "\n",
    "# Calculate ROC curve metrics\n",
    "fpr, tpr, thresholds = roc_curve(y_train, y_pred)\n",
    "roc_auc = auc(fpr, tpr)\n",
    "\n",
    "# Plot the ROC curve\n",
    "plt.figure()\n",
    "plt.plot(fpr, tpr, label='ROC curve (area = %0.2f)' % roc_auc)\n",
    "plt.plot([0, 1], [0, 1], 'k--', label='No Skill')\n",
    "plt.xlim([0.0, 1.0])\n",
    "plt.ylim([0.0, 1.05])\n",
    "plt.xlabel('False Positive Rate')\n",
    "plt.ylabel('True Positive Rate')\n",
    "plt.title('ROC Curve')\n",
    "plt.legend(loc=\"lower right\")\n",
    "plt.show()\n"
   ]
  },
  {
   "cell_type": "markdown",
   "metadata": {},
   "source": [
    "An ROC curve depicts the trade-off between the true positive rate (TPR) and the false positive rate (FPR) for different classification thresholds. In your case, it shows the model's performance in classifying correct vs. incorrect responses.\n",
    "\n",
    "A perfect classifier would have an ROC curve that follows the upper left corner of the graph (TPR = 1, FPR = 0). The closer the curve is to this corner, the better the model's performance.\n",
    "\n",
    "The area under the ROC curve (AUC) is a numerical measure of performance. An AUC of 1 represents perfect classification, while 0.5 indicates no better than random guessing."
   ]
  },
  {
   "cell_type": "markdown",
   "metadata": {},
   "source": [
    "### Age along with block conditon vs correct response made\n"
   ]
  },
  {
   "cell_type": "code",
   "execution_count": 59,
   "metadata": {},
   "outputs": [],
   "source": [
    "from statsmodels.discrete.discrete_model import Logit\n",
    "from sklearn.model_selection import train_test_split\n",
    "\n",
    "features = [\"age\", \"block_condition\", \"age*block_condition\"]  # Include interaction term\n",
    "target = \"correct_response_made\"\n",
    "\n",
    "# Create interaction term\n",
    "learning_merged[\"age*block_condition\"] = learning_merged[\"age\"] * learning_merged[\"block_condition\"]\n",
    "\n",
    "# We create an interaction term (age * block_condition) \n",
    "# to capture how the effect of age on the probability of a correct response might change depending on the block condition."
   ]
  },
  {
   "cell_type": "code",
   "execution_count": 60,
   "metadata": {},
   "outputs": [
    {
     "name": "stdout",
     "output_type": "stream",
     "text": [
      "Optimization terminated successfully.\n",
      "         Current function value: 0.598152\n",
      "         Iterations 5\n",
      "                             Logit Regression Results                            \n",
      "=================================================================================\n",
      "Dep. Variable:     correct_response_made   No. Observations:                36825\n",
      "Model:                             Logit   Df Residuals:                    36822\n",
      "Method:                              MLE   Df Model:                            2\n",
      "Date:                   Mon, 22 Apr 2024   Pseudo R-squ.:                0.004005\n",
      "Time:                           18:48:34   Log-Likelihood:                -22027.\n",
      "converged:                          True   LL-Null:                       -22116.\n",
      "Covariance Type:               nonrobust   LLR p-value:                 3.428e-39\n",
      "=======================================================================================\n",
      "                          coef    std err          z      P>|z|      [0.025      0.975]\n",
      "---------------------------------------------------------------------------------------\n",
      "age                     0.0645      0.002     28.461      0.000       0.060       0.069\n",
      "block_condition         0.2357      0.024      9.807      0.000       0.189       0.283\n",
      "age*block_condition    -0.0198      0.002     -9.992      0.000      -0.024      -0.016\n",
      "=======================================================================================\n"
     ]
    }
   ],
   "source": [
    "# Split data into training and testing sets \n",
    "X_train, X_test, y_train, y_test = train_test_split(learning_merged[features], learning_merged[target], test_size=0.2, random_state=42)\n",
    "\n",
    "# Fit the logistic regression model with interaction term\n",
    "model = Logit(y_train, X_train).fit()\n",
    "print(model.summary())"
   ]
  },
  {
   "cell_type": "code",
   "execution_count": 61,
   "metadata": {},
   "outputs": [
    {
     "name": "stdout",
     "output_type": "stream",
     "text": [
      "Interaction Effect (age*block_condition) Coefficient: -0.019758247557641953\n",
      "Interaction Effect (age*block_condition) p-value: 1.652686462803008e-23\n",
      "There is a statistically significant interaction effect between age and block condition (p-value < 0.05).\n",
      "The effect of age on correct responses might weaken or reverse in the category-specific representation condition compared to the exemplar-specific condition.\n"
     ]
    }
   ],
   "source": [
    "# Test for Significance of Interaction Effect\n",
    "# Focus on the coefficient and p-value for \"age*block_condition\"\n",
    "interaction_coefficient = model.params[\"age*block_condition\"]\n",
    "interaction_pvalue = model.pvalues[\"age*block_condition\"]\n",
    "\n",
    "print(\"Interaction Effect (age*block_condition) Coefficient:\", interaction_coefficient)\n",
    "print(\"Interaction Effect (age*block_condition) p-value:\", interaction_pvalue)\n",
    "\n",
    "# Interpretation based on Interaction Effect\n",
    "if interaction_pvalue < 0.05:\n",
    "    print(\"There is a statistically significant interaction effect between age and block condition (p-value < 0.05).\")\n",
    "    \n",
    "    if interaction_coefficient > 0:\n",
    "        print(\"The effect of age on correct responses might be stronger in the category-specific representation condition (block_condition = 1).\")\n",
    "    else:\n",
    "        print(\"The effect of age on correct responses might weaken or reverse in the category-specific representation condition compared to the exemplar-specific condition.\")\n",
    "else:\n",
    "    print(\"There is no statistically significant interaction effect between age and block condition (p-value >= 0.05).\")\n",
    "    print(\"The relationship between age and correct responses might be similar across both block conditions.\")\n"
   ]
  },
  {
   "cell_type": "markdown",
   "metadata": {},
   "source": [
    "Since the p-value is much lower than 0.05, we can conclude that there's a statistically significant interaction effect between age and block condition. This means the effect of age on the probability of a correct response depends on whether the block condition is category-specific (1) or exemplar-specific (2).\n",
    "\n",
    "The negative coefficient (-0.0197) suggests that the effect of age on correct responses might weaken or reverse in the category-specific representation condition (block_condition = 1) compared to the exemplar-specific condition (block_condition = 2).\n",
    "\n",
    "In simpler terms:\n",
    "\n",
    "In the exemplar-specific condition (block_condition = 2), there might be a positive relationship between age and correct responses. This suggests that older participants might perform better in this condition.\n",
    "\n",
    "However, in the category-specific condition (block_condition = 1), the effect of age might be weaker or even negative. This means that age might not be a strong predictor of performance in this condition, or it could even be that older participants perform worse."
   ]
  },
  {
   "cell_type": "markdown",
   "metadata": {},
   "source": [
    "#### Visualisation"
   ]
  },
  {
   "cell_type": "code",
   "execution_count": 67,
   "metadata": {},
   "outputs": [
    {
     "data": {
      "image/png": "[encoded data removed]",
      "text/plain": [
       "<Figure size 1000x600 with 1 Axes>"
      ]
     },
     "metadata": {},
     "output_type": "display_data"
    }
   ],
   "source": [
    "# Scatter Plots\n",
    "# Separate plots for each block condition (category-specific and exemplar-specific)\n",
    "category_specific_data = learning_merged[learning_merged[\"block_condition\"] == 1]\n",
    "exemplar_specific_data = learning_merged[learning_merged[\"block_condition\"] == 2]\n",
    "\n",
    "plt.figure(figsize=(10, 6))\n",
    "\n",
    "# Category-specific plot with different marker or color\n",
    "plt.scatter(category_specific_data[\"age\"], category_specific_data[target], label=\"Category-specific\", marker='o', color='b')\n",
    "plt.xlabel(\"Age\")\n",
    "plt.ylabel(\"Correct Response (0/1)\")\n",
    "plt.title(\"Effect of Age on Correct Response by Block Condition\")\n",
    "plt.legend()\n",
    "plt.grid(True)\n",
    "plt.show()"
   ]
  },
  {
   "cell_type": "code",
   "execution_count": 70,
   "metadata": {},
   "outputs": [
    {
     "data": {
      "image/png": "[encoded data removed]",
      "text/plain": [
       "<Figure size 1000x600 with 1 Axes>"
      ]
     },
     "metadata": {},
     "output_type": "display_data"
    }
   ],
   "source": [
    "# Exemplar-specific plot \n",
    "plt.figure(figsize=(10, 6))\n",
    "\n",
    "plt.scatter(exemplar_specific_data[\"age\"], exemplar_specific_data[target], label=\"Exemplar-specific\", marker='s', color='g')\n",
    "\n",
    "plt.xlabel(\"Age\")\n",
    "plt.ylabel(\"Correct Response (0/1)\")\n",
    "plt.title(\"Effect of Age on Correct Response by Block Condition\")\n",
    "plt.legend()\n",
    "plt.grid(True)\n",
    "plt.show()"
   ]
  },
  {
   "cell_type": "code",
   "execution_count": 71,
   "metadata": {},
   "outputs": [
    {
     "data": {
      "image/png": "[encoded data removed]",
      "text/plain": [
       "<Figure size 1000x600 with 1 Axes>"
      ]
     },
     "metadata": {},
     "output_type": "display_data"
    }
   ],
   "source": [
    "plt.figure(figsize=(10, 6))\n",
    "sns.violinplot(x=\"block_condition\", y=\"age\", hue=\"correct_response_made\", data=learning_merged, split=True)\n",
    "plt.xlabel(\"Block Condition\")\n",
    "plt.ylabel(\"Age\")\n",
    "plt.title(\"Distribution of Age by Block Condition and Correct Response\")\n",
    "plt.legend(title=\"Correct Response\")  # Customize legend title\n",
    "plt.grid(True)\n",
    "plt.show()"
   ]
  },
  {
   "cell_type": "markdown",
   "metadata": {},
   "source": [
    "The distribution suggests that age, block condition, and potentially their interaction might influence the probability of a correct response."
   ]
  },
  {
   "cell_type": "markdown",
   "metadata": {},
   "source": [
    "## Correlation Analysis - Analyzing memory data\n",
    "We calculate the correlation coefficient between age (from subject data) and a metric representing adaptation towards specific representations in memory data. This provides an initial indication of the direction and strength of the relationship.\n"
   ]
  },
  {
   "cell_type": "markdown",
   "metadata": {},
   "source": [
    "### Investigating the relationship between confidence rating and age to see if there's a link between these variables"
   ]
  },
  {
   "cell_type": "code",
   "execution_count": 5,
   "metadata": {},
   "outputs": [
    {
     "name": "stdout",
     "output_type": "stream",
     "text": [
      "Correlation coefficient (age & confidence rating): 0.022306050386309\n",
      "p-value: 0.00933909386677779\n"
     ]
    }
   ],
   "source": [
    "# Imputing missing values with median\n",
    "merged_data['conf_rating'].fillna(merged_data['conf_rating'].median(), inplace=True)\n",
    "\n",
    "# Dropping rows with missing values\n",
    "merged_data.dropna(inplace=True)\n",
    "\n",
    "age = merged_data['age']\n",
    "confidence_rating = merged_data['conf_rating']  \n",
    "\n",
    "correlation, p_value = stats.pearsonr(age, confidence_rating)\n",
    "\n",
    "print(\"Correlation coefficient (age & confidence rating):\", correlation)\n",
    "print(\"p-value:\", p_value)"
   ]
  },
  {
   "cell_type": "markdown",
   "metadata": {},
   "source": [
    "#### Inferences\n",
    "**Statistically Significant Correlation (p-value):**\n",
    "\n",
    "The p-value (0.0093) is less than the chosen alpha level of 0.05. This suggests we can reject the null hypothesis (H0: there is no correlation between age and memory performance) at the 0.05 significance level.\n",
    "\n",
    "A positive correlation and significant p-value (less than 0.05) suggest that confidence ratings tend to increase with age. This might indicate older adults are more confident in their responses, regardless of actual memory performance."
   ]
  },
  {
   "cell_type": "markdown",
   "metadata": {},
   "source": [
    "### Confidence Rating along with Block Condition (category-predictive vs. exemplar-predictive) Vs Age "
   ]
  },
  {
   "cell_type": "code",
   "execution_count": 8,
   "metadata": {},
   "outputs": [
    {
     "name": "stdout",
     "output_type": "stream",
     "text": [
      "Average Confidence Rating:\n",
      "Exemplar-Predictive: 3.0758468335787925\n",
      "Category-Predictive: 2.9944027102666078\n"
     ]
    }
   ],
   "source": [
    "block_condition = merged_data['block_condition']\n",
    "\n",
    "exemplar_confidence = merged_data[block_condition == 2]['conf_rating'].mean()\n",
    "category_confidence = merged_data[block_condition == 1]['conf_rating'].mean()\n",
    "\n",
    "print(\"Average Confidence Rating:\")\n",
    "print(\"Exemplar-Predictive:\", exemplar_confidence)\n",
    "print(\"Category-Predictive:\", category_confidence)\n"
   ]
  },
  {
   "cell_type": "markdown",
   "metadata": {},
   "source": [
    "#### Inferences\n",
    "\n",
    "**Participants tend to report slightly higher confidence in their memory responses on exemplar-predictive blocks compared to category-predictive blocks.**\n",
    "\n",
    "Possible Explanations:\n",
    "\n",
    "Successful Adaptation: This might indicate that participants are more confident when they can distinguish between specific exemplars within a category, suggesting successful adaptation towards these specific representations during the exemplar-predictive blocks.\n",
    "\n",
    "Alternative Factors: Other factors besides memory accuracy could also influence confidence. For instance, participants might feel more confident because the task allows them to make a finer distinction (exemplar vs. another exemplar) compared to category-predictive blocks."
   ]
  },
  {
   "cell_type": "markdown",
   "metadata": {},
   "source": [
    "##### Chi-Square Test (Confidence - categorical data) "
   ]
  },
  {
   "cell_type": "code",
   "execution_count": 9,
   "metadata": {},
   "outputs": [
    {
     "name": "stdout",
     "output_type": "stream",
     "text": [
      "Chi-Square Test (Confidence Ratings):\n",
      "Chi-Square Statistic: 23.587185496046676\n",
      "p-value: 1.1937989359834946e-06\n"
     ]
    }
   ],
   "source": [
    "import pandas as pd\n",
    "from scipy.stats import chi2_contingency\n",
    "\n",
    "confidence_by_block = merged_data.groupby('block_condition')['confidence'].value_counts().unstack(fill_value=0)\n",
    "\n",
    "# Chi-Square test (categorical confidence ratings)\n",
    "chi2_statistic, p_value, expected_table, obs_table = chi2_contingency(confidence_by_block)\n",
    "\n",
    "# Print the test results\n",
    "print(\"Chi-Square Test (Confidence Ratings):\")\n",
    "print(\"Chi-Square Statistic:\", chi2_statistic)\n",
    "print(\"p-value:\", p_value)\n"
   ]
  },
  {
   "cell_type": "markdown",
   "metadata": {},
   "source": [
    "#### Interpretations\n",
    "\n",
    "The Chi-Square test performed on the confidence ratings by block condition provides significant evidence (p-value = 1.19e-06, much lower than 0.05) to reject the null hypothesis. This suggests that the distribution of confidence ratings (definitely, maybe) is not the same across the category-predictive and exemplar-predictive block conditions.\n",
    "\n",
    "In simpler terms: Participants' confidence in their memory responses (definitely vs. maybe) likely differs depending on whether the block focused on categories or specific exemplars."
   ]
  },
  {
   "cell_type": "code",
   "execution_count": 16,
   "metadata": {},
   "outputs": [
    {
     "name": "stdout",
     "output_type": "stream",
     "text": [
      "                            OLS Regression Results                            \n",
      "==============================================================================\n",
      "Dep. Variable:            conf_rating   R-squared:                       0.000\n",
      "Model:                            OLS   Adj. R-squared:                  0.000\n",
      "Method:                 Least Squares   F-statistic:                     6.759\n",
      "Date:                Sat, 13 Apr 2024   Prob (F-statistic):            0.00934\n",
      "Time:                        16:14:39   Log-Likelihood:                -20625.\n",
      "No. Observations:               13579   AIC:                         4.125e+04\n",
      "Df Residuals:                   13577   BIC:                         4.127e+04\n",
      "Df Model:                           1                                         \n",
      "Covariance Type:            nonrobust                                         \n",
      "================================================================================================================\n",
      "                                                   coef    std err          t      P>|t|      [0.025      0.975]\n",
      "----------------------------------------------------------------------------------------------------------------\n",
      "Intercept                                        2.9568      0.032     93.630      0.000       2.895       3.019\n",
      "I(block_condition == \"category\")[T.True]              0          0        nan        nan           0           0\n",
      "age                                              0.0049      0.002      2.600      0.009       0.001       0.009\n",
      "I(block_condition == \"category\")[T.True]:age          0          0        nan        nan           0           0\n",
      "==============================================================================\n",
      "Omnibus:                     2917.603   Durbin-Watson:                   1.573\n",
      "Prob(Omnibus):                  0.000   Jarque-Bera (JB):             1650.431\n",
      "Skew:                          -0.723   Prob(JB):                         0.00\n",
      "Kurtosis:                       2.090   Cond. No.                          inf\n",
      "==============================================================================\n",
      "\n",
      "Notes:\n",
      "[1] Standard Errors assume that the covariance matrix of the errors is correctly specified.\n",
      "[2] The smallest eigenvalue is      0. This might indicate that there are\n",
      "strong multicollinearity problems or that the design matrix is singular.\n"
     ]
    }
   ],
   "source": [
    "import statsmodels.formula.api as sm\n",
    "\n",
    "# Assuming 'merged_data' has 'age', 'conf_rating', and 'block_condition' columns\n",
    "formula = 'conf_rating ~ age + I(block_condition == \"category\") * age' \n",
    "model = sm.ols(formula=formula, data=merged_data).fit()\n",
    "print(model.summary())  \n"
   ]
  },
  {
   "cell_type": "code",
   "execution_count": 15,
   "metadata": {},
   "outputs": [
    {
     "name": "stdout",
     "output_type": "stream",
     "text": [
      "\n",
      "Age Group: 8.01 - t-test (Category vs. Exemplar):\n",
      "t-statistic: 0.6873, p-value: 0.4928\n",
      "\n",
      "Age Group: 8.03 - t-test (Category vs. Exemplar):\n",
      "t-statistic: -0.0522, p-value: 0.9584\n",
      "\n",
      "Age Group: 8.04 - t-test (Category vs. Exemplar):\n",
      "t-statistic: 0.0858, p-value: 0.9318\n",
      "\n",
      "Age Group: 8.05 - t-test (Category vs. Exemplar):\n",
      "t-statistic: -1.6416, p-value: 0.1042\n",
      "\n",
      "Age Group: 8.1 - t-test (Category vs. Exemplar):\n",
      "t-statistic: 1.2288, p-value: 0.2224\n",
      "\n",
      "Age Group: 8.19 - t-test (Category vs. Exemplar):\n",
      "t-statistic: -1.2002, p-value: 0.2333\n",
      "\n",
      "Age Group: 8.23 - t-test (Category vs. Exemplar):\n",
      "t-statistic: -0.2233, p-value: 0.8238\n",
      "\n",
      "Age Group: 8.48 - t-test (Category vs. Exemplar):\n",
      "t-statistic: -2.1231, p-value: 0.0366\n",
      "\n",
      "Age Group: 8.74 - t-test (Category vs. Exemplar):\n",
      "t-statistic: 0.4159, p-value: 0.6785\n",
      "\n",
      "Age Group: 8.89 - t-test (Category vs. Exemplar):\n",
      "t-statistic: -2.6078, p-value: 0.0107\n",
      "\n",
      "Age Group: 9.01 - t-test (Category vs. Exemplar):\n",
      "t-statistic: 1.6458, p-value: 0.1034\n",
      "\n",
      "Age Group: 9.24 - t-test (Category vs. Exemplar):\n",
      "t-statistic: 0.3184, p-value: 0.7509\n",
      "\n",
      "Age Group: 9.25 - t-test (Category vs. Exemplar):\n",
      "t-statistic: -0.6129, p-value: 0.5415\n",
      "\n",
      "Age Group: 9.39 - t-test (Category vs. Exemplar):\n",
      "t-statistic: -0.0988, p-value: 0.9215\n",
      "\n",
      "Age Group: 9.47 - t-test (Category vs. Exemplar):\n",
      "t-statistic: 0.5957, p-value: 0.5529\n",
      "\n",
      "Age Group: 9.5 - t-test (Category vs. Exemplar):\n",
      "t-statistic: 1.0431, p-value: 0.2998\n",
      "\n",
      "Age Group: 9.71 - t-test (Category vs. Exemplar):\n",
      "t-statistic: 0.5571, p-value: 0.5789\n",
      "\n",
      "Age Group: 9.81 - t-test (Category vs. Exemplar):\n",
      "t-statistic: -0.8886, p-value: 0.3766\n",
      "\n",
      "Age Group: 9.93 - t-test (Category vs. Exemplar):\n",
      "t-statistic: -0.2000, p-value: 0.8419\n",
      "\n",
      "Age Group: 10.36 - t-test (Category vs. Exemplar):\n",
      "t-statistic: -0.6862, p-value: 0.4944\n",
      "\n",
      "Age Group: 10.48 - t-test (Category vs. Exemplar):\n",
      "t-statistic: -2.1486, p-value: 0.0344\n",
      "\n",
      "Age Group: 10.51 - t-test (Category vs. Exemplar):\n",
      "t-statistic: 0.7355, p-value: 0.4640\n",
      "\n",
      "Age Group: 10.6 - t-test (Category vs. Exemplar):\n",
      "t-statistic: 0.1028, p-value: 0.9183\n",
      "\n",
      "Age Group: 10.64 - t-test (Category vs. Exemplar):\n",
      "t-statistic: -0.0994, p-value: 0.9211\n",
      "\n",
      "Age Group: 10.68 - t-test (Category vs. Exemplar):\n",
      "t-statistic: -0.7933, p-value: 0.4297\n",
      "\n",
      "Age Group: 10.84 - t-test (Category vs. Exemplar):\n",
      "t-statistic: -2.4464, p-value: 0.0164\n",
      "\n",
      "Age Group: 11.25 - t-test (Category vs. Exemplar):\n",
      "t-statistic: 0.8451, p-value: 0.4003\n",
      "\n",
      "Age Group: 11.27 - t-test (Category vs. Exemplar):\n",
      "t-statistic: 0.5720, p-value: 0.5688\n",
      "\n",
      "Age Group: 11.28 - t-test (Category vs. Exemplar):\n",
      "t-statistic: 2.1096, p-value: 0.0377\n",
      "\n",
      "Age Group: 11.38 - t-test (Category vs. Exemplar):\n",
      "t-statistic: 1.0611, p-value: 0.2916\n",
      "\n",
      "Age Group: 11.39 - t-test (Category vs. Exemplar):\n",
      "t-statistic: 1.0490, p-value: 0.2971\n",
      "\n",
      "Age Group: 11.41 - t-test (Category vs. Exemplar):\n",
      "t-statistic: 0.6992, p-value: 0.4863\n",
      "\n",
      "Age Group: 11.45 - t-test (Category vs. Exemplar):\n",
      "t-statistic: 0.4092, p-value: 0.6834\n",
      "\n",
      "Age Group: 11.5 - t-test (Category vs. Exemplar):\n",
      "t-statistic: 1.5764, p-value: 0.1185\n",
      "\n",
      "Age Group: 11.52 - t-test (Category vs. Exemplar):\n",
      "t-statistic: -0.5030, p-value: 0.6162\n",
      "\n",
      "Age Group: 11.62 - t-test (Category vs. Exemplar):\n",
      "t-statistic: -3.1514, p-value: 0.0022\n",
      "\n",
      "Age Group: 11.65 - t-test (Category vs. Exemplar):\n",
      "t-statistic: -0.8656, p-value: 0.3890\n",
      "\n",
      "Age Group: 11.69 - t-test (Category vs. Exemplar):\n",
      "t-statistic: -0.0933, p-value: 0.9259\n",
      "\n",
      "Age Group: 11.7 - t-test (Category vs. Exemplar):\n",
      "t-statistic: -1.6541, p-value: 0.1017\n",
      "\n",
      "Age Group: 11.72 - t-test (Category vs. Exemplar):\n",
      "t-statistic: -2.2209, p-value: 0.0289\n",
      "\n",
      "Age Group: 12.16 - t-test (Category vs. Exemplar):\n",
      "t-statistic: 1.7405, p-value: 0.0853\n",
      "\n",
      "Age Group: 12.17 - t-test (Category vs. Exemplar):\n",
      "t-statistic: 0.6205, p-value: 0.5365\n",
      "\n",
      "Age Group: 12.23 - t-test (Category vs. Exemplar):\n",
      "t-statistic: 0.2599, p-value: 0.7956\n",
      "\n",
      "Age Group: 12.27 - t-test (Category vs. Exemplar):\n",
      "t-statistic: -1.2396, p-value: 0.2184\n",
      "\n",
      "Age Group: 12.6 - t-test (Category vs. Exemplar):\n",
      "t-statistic: 0.0000, p-value: 1.0000\n",
      "\n",
      "Age Group: 12.65 - t-test (Category vs. Exemplar):\n",
      "t-statistic: 0.2206, p-value: 0.8259\n",
      "\n",
      "Age Group: 12.72 - t-test (Category vs. Exemplar):\n",
      "t-statistic: 1.3563, p-value: 0.1785\n",
      "\n",
      "Age Group: 12.99 - t-test (Category vs. Exemplar):\n",
      "t-statistic: 0.9858, p-value: 0.3269\n",
      "\n",
      "Age Group: 13.06 - t-test (Category vs. Exemplar):\n",
      "t-statistic: 1.3505, p-value: 0.1803\n",
      "\n",
      "Age Group: 13.13 - t-test (Category vs. Exemplar):\n",
      "t-statistic: 1.0584, p-value: 0.2928\n",
      "\n",
      "Age Group: 13.32 - t-test (Category vs. Exemplar):\n",
      "t-statistic: -3.0688, p-value: 0.0029\n",
      "\n",
      "Age Group: 13.49 - t-test (Category vs. Exemplar):\n",
      "t-statistic: -2.2075, p-value: 0.0299\n",
      "\n",
      "Age Group: 13.64 - t-test (Category vs. Exemplar):\n",
      "t-statistic: -0.7047, p-value: 0.4829\n",
      "\n",
      "Age Group: 13.75 - t-test (Category vs. Exemplar):\n",
      "t-statistic: 1.2711, p-value: 0.2070\n",
      "\n",
      "Age Group: 13.83 - t-test (Category vs. Exemplar):\n",
      "t-statistic: 0.5891, p-value: 0.5573\n",
      "\n",
      "Age Group: 13.91 - t-test (Category vs. Exemplar):\n",
      "t-statistic: -0.7383, p-value: 0.4623\n",
      "\n",
      "Age Group: 13.94 - t-test (Category vs. Exemplar):\n",
      "t-statistic: 0.9314, p-value: 0.3542\n",
      "\n",
      "Age Group: 13.97 - t-test (Category vs. Exemplar):\n",
      "t-statistic: -0.6714, p-value: 0.5037\n",
      "\n",
      "Age Group: 14.07 - t-test (Category vs. Exemplar):\n",
      "t-statistic: 0.0000, p-value: 1.0000\n",
      "\n",
      "Age Group: 14.1 - t-test (Category vs. Exemplar):\n",
      "t-statistic: 1.5630, p-value: 0.1216\n",
      "\n",
      "Age Group: 14.19 - t-test (Category vs. Exemplar):\n",
      "t-statistic: -0.6718, p-value: 0.5035\n",
      "\n",
      "Age Group: 14.2 - t-test (Category vs. Exemplar):\n",
      "t-statistic: -1.3560, p-value: 0.1787\n",
      "\n",
      "Age Group: 14.23 - t-test (Category vs. Exemplar):\n",
      "t-statistic: -2.1215, p-value: 0.0367\n",
      "\n",
      "Age Group: 14.33 - t-test (Category vs. Exemplar):\n",
      "t-statistic: -0.5135, p-value: 0.6089\n",
      "\n",
      "Age Group: 14.54 - t-test (Category vs. Exemplar):\n",
      "t-statistic: 0.4597, p-value: 0.6469\n",
      "\n",
      "Age Group: 14.6 - t-test (Category vs. Exemplar):\n",
      "t-statistic: -0.4902, p-value: 0.6252\n",
      "\n",
      "Age Group: 14.66 - t-test (Category vs. Exemplar):\n",
      "t-statistic: 0.2169, p-value: 0.8288\n",
      "\n",
      "Age Group: 14.69 - t-test (Category vs. Exemplar):\n",
      "t-statistic: -0.8601, p-value: 0.3921\n",
      "\n",
      "Age Group: 14.97 - t-test (Category vs. Exemplar):\n",
      "t-statistic: -2.6954, p-value: 0.0084\n",
      "\n",
      "Age Group: 14.98 - t-test (Category vs. Exemplar):\n",
      "t-statistic: -0.6084, p-value: 0.5445\n",
      "\n",
      "Age Group: 15.02 - t-test (Category vs. Exemplar):\n",
      "t-statistic: 1.0839, p-value: 0.2814\n",
      "\n",
      "Age Group: 15.3 - t-test (Category vs. Exemplar):\n",
      "t-statistic: 0.2206, p-value: 0.8259\n",
      "\n",
      "Age Group: 15.37 - t-test (Category vs. Exemplar):\n",
      "t-statistic: -0.8163, p-value: 0.4165\n",
      "\n",
      "Age Group: 15.4 - t-test (Category vs. Exemplar):\n",
      "t-statistic: -1.2935, p-value: 0.1993\n",
      "\n",
      "Age Group: 15.46 - t-test (Category vs. Exemplar):\n",
      "t-statistic: -0.0974, p-value: 0.9226\n",
      "\n",
      "Age Group: 15.67 - t-test (Category vs. Exemplar):\n",
      "t-statistic: -1.0860, p-value: 0.2804\n",
      "\n",
      "Age Group: 15.83 - t-test (Category vs. Exemplar):\n",
      "t-statistic: -2.0696, p-value: 0.0415\n",
      "\n",
      "Age Group: 15.86 - t-test (Category vs. Exemplar):\n",
      "t-statistic: -0.6717, p-value: 0.5035\n",
      "\n",
      "Age Group: 15.92 - t-test (Category vs. Exemplar):\n",
      "t-statistic: -0.9287, p-value: 0.3556\n",
      "\n",
      "Age Group: 16.06 - t-test (Category vs. Exemplar):\n",
      "t-statistic: 0.0000, p-value: 1.0000\n",
      "\n",
      "Age Group: 16.07 - t-test (Category vs. Exemplar):\n",
      "t-statistic: -2.5960, p-value: 0.0111\n",
      "\n",
      "Age Group: 16.31 - t-test (Category vs. Exemplar):\n",
      "t-statistic: 0.5964, p-value: 0.5524\n",
      "\n",
      "Age Group: 16.4 - t-test (Category vs. Exemplar):\n",
      "t-statistic: 1.3699, p-value: 0.1742\n",
      "\n",
      "Age Group: 16.51 - t-test (Category vs. Exemplar):\n",
      "t-statistic: -1.6775, p-value: 0.0970\n",
      "\n",
      "Age Group: 16.52 - t-test (Category vs. Exemplar):\n",
      "t-statistic: -2.1222, p-value: 0.0366\n",
      "\n",
      "Age Group: 16.56 - t-test (Category vs. Exemplar):\n",
      "t-statistic: -0.5490, p-value: 0.5844\n",
      "\n",
      "Age Group: 16.57 - t-test (Category vs. Exemplar):\n",
      "t-statistic: -1.7289, p-value: 0.0873\n",
      "\n",
      "Age Group: 16.59 - t-test (Category vs. Exemplar):\n",
      "t-statistic: 0.2203, p-value: 0.8261\n",
      "\n",
      "Age Group: 16.6 - t-test (Category vs. Exemplar):\n",
      "t-statistic: 0.5284, p-value: 0.5986\n",
      "\n",
      "Age Group: 16.71 - t-test (Category vs. Exemplar):\n",
      "t-statistic: -3.2042, p-value: 0.0019\n",
      "\n",
      "Age Group: 16.83 - t-test (Category vs. Exemplar):\n",
      "t-statistic: 1.5077, p-value: 0.1352\n",
      "\n",
      "Age Group: 16.94 - t-test (Category vs. Exemplar):\n",
      "t-statistic: 2.1387, p-value: 0.0352\n",
      "\n",
      "Age Group: 17.02 - t-test (Category vs. Exemplar):\n",
      "t-statistic: 0.9410, p-value: 0.3493\n",
      "\n",
      "Age Group: 17.09 - t-test (Category vs. Exemplar):\n",
      "t-statistic: 2.0343, p-value: 0.0449\n",
      "\n",
      "Age Group: 17.2 - t-test (Category vs. Exemplar):\n",
      "t-statistic: -0.6078, p-value: 0.5449\n",
      "\n",
      "Age Group: 17.52 - t-test (Category vs. Exemplar):\n",
      "t-statistic: 0.0000, p-value: 1.0000\n",
      "\n",
      "Age Group: 17.68 - t-test (Category vs. Exemplar):\n",
      "t-statistic: -1.5581, p-value: 0.1228\n",
      "\n",
      "Age Group: 17.81 - t-test (Category vs. Exemplar):\n",
      "t-statistic: -0.4554, p-value: 0.6499\n",
      "\n",
      "Age Group: 18.19 - t-test (Category vs. Exemplar):\n",
      "t-statistic: -0.6717, p-value: 0.5035\n",
      "\n",
      "Age Group: 18.23 - t-test (Category vs. Exemplar):\n",
      "t-statistic: -0.2218, p-value: 0.8247\n",
      "\n",
      "Age Group: 18.24 - t-test (Category vs. Exemplar):\n",
      "t-statistic: -0.7276, p-value: 0.4688\n",
      "\n",
      "Age Group: 18.77 - t-test (Category vs. Exemplar):\n",
      "t-statistic: -3.6996, p-value: 0.0004\n",
      "\n",
      "Age Group: 18.79 - t-test (Category vs. Exemplar):\n",
      "t-statistic: 1.1410, p-value: 0.2570\n",
      "\n",
      "Age Group: 18.91 - t-test (Category vs. Exemplar):\n",
      "t-statistic: 0.1923, p-value: 0.8480\n",
      "\n",
      "Age Group: 18.97 - t-test (Category vs. Exemplar):\n",
      "t-statistic: 1.6465, p-value: 0.1032\n",
      "\n",
      "Age Group: 19.02 - t-test (Category vs. Exemplar):\n",
      "t-statistic: -2.0994, p-value: 0.0386\n",
      "\n",
      "Age Group: 19.2 - t-test (Category vs. Exemplar):\n",
      "t-statistic: -1.5445, p-value: 0.1261\n",
      "\n",
      "Age Group: 19.48 - t-test (Category vs. Exemplar):\n",
      "t-statistic: -0.5812, p-value: 0.5626\n",
      "\n",
      "Age Group: 19.49 - t-test (Category vs. Exemplar):\n",
      "t-statistic: -1.6004, p-value: 0.1131\n",
      "\n",
      "Age Group: 19.78 - t-test (Category vs. Exemplar):\n",
      "t-statistic: 1.4116, p-value: 0.1616\n",
      "\n",
      "Age Group: 19.87 - t-test (Category vs. Exemplar):\n",
      "t-statistic: -1.6174, p-value: 0.1094\n",
      "\n",
      "Age Group: 19.89 - t-test (Category vs. Exemplar):\n",
      "t-statistic: 0.0000, p-value: 1.0000\n",
      "\n",
      "Age Group: 19.97 - t-test (Category vs. Exemplar):\n",
      "t-statistic: -0.6390, p-value: 0.5245\n",
      "\n",
      "Age Group: 20.01 - t-test (Category vs. Exemplar):\n",
      "t-statistic: -0.5576, p-value: 0.5785\n",
      "\n",
      "Age Group: 20.02 - t-test (Category vs. Exemplar):\n",
      "t-statistic: -1.2608, p-value: 0.2107\n",
      "\n",
      "Age Group: 20.55 - t-test (Category vs. Exemplar):\n",
      "t-statistic: -2.5598, p-value: 0.0122\n",
      "\n",
      "Age Group: 20.6 - t-test (Category vs. Exemplar):\n",
      "t-statistic: -2.0561, p-value: 0.0427\n",
      "\n",
      "Age Group: 20.73 - t-test (Category vs. Exemplar):\n",
      "t-statistic: -0.2403, p-value: 0.8107\n",
      "\n",
      "Age Group: 20.76 - t-test (Category vs. Exemplar):\n",
      "t-statistic: 0.6842, p-value: 0.4957\n",
      "\n",
      "Age Group: 21.01 - t-test (Category vs. Exemplar):\n",
      "t-statistic: -0.3100, p-value: 0.7573\n",
      "\n",
      "Age Group: 21.21 - t-test (Category vs. Exemplar):\n",
      "t-statistic: -2.1592, p-value: 0.0336\n",
      "\n",
      "Age Group: 21.53 - t-test (Category vs. Exemplar):\n",
      "t-statistic: -1.6088, p-value: 0.1112\n",
      "\n",
      "Age Group: 21.96 - t-test (Category vs. Exemplar):\n",
      "t-statistic: -2.6538, p-value: 0.0094\n",
      "\n",
      "Age Group: 22.15 - t-test (Category vs. Exemplar):\n",
      "t-statistic: -1.4069, p-value: 0.1630\n",
      "\n",
      "Age Group: 22.26 - t-test (Category vs. Exemplar):\n",
      "t-statistic: 0.3513, p-value: 0.7262\n",
      "\n",
      "Age Group: 22.31 - t-test (Category vs. Exemplar):\n",
      "t-statistic: -1.1892, p-value: 0.2375\n",
      "\n",
      "Age Group: 22.4 - t-test (Category vs. Exemplar):\n",
      "t-statistic: -2.7780, p-value: 0.0067\n",
      "\n",
      "Age Group: 22.43 - t-test (Category vs. Exemplar):\n",
      "t-statistic: -0.7944, p-value: 0.4291\n",
      "\n",
      "Age Group: 22.48 - t-test (Category vs. Exemplar):\n",
      "t-statistic: 0.1978, p-value: 0.8437\n",
      "\n",
      "Age Group: 22.91 - t-test (Category vs. Exemplar):\n",
      "t-statistic: 2.0793, p-value: 0.0405\n",
      "\n",
      "Age Group: 22.99 - t-test (Category vs. Exemplar):\n",
      "t-statistic: -1.4026, p-value: 0.1643\n",
      "\n",
      "Age Group: 23.16 - t-test (Category vs. Exemplar):\n",
      "t-statistic: 0.8597, p-value: 0.3923\n",
      "\n",
      "Age Group: 23.41 - t-test (Category vs. Exemplar):\n",
      "t-statistic: 0.6905, p-value: 0.4917\n",
      "\n",
      "Age Group: 23.42 - t-test (Category vs. Exemplar):\n",
      "t-statistic: -1.1314, p-value: 0.2610\n",
      "\n",
      "Age Group: 23.75 - t-test (Category vs. Exemplar):\n",
      "t-statistic: -0.9676, p-value: 0.3359\n",
      "\n",
      "Age Group: 23.95 - t-test (Category vs. Exemplar):\n",
      "t-statistic: 0.8505, p-value: 0.3973\n",
      "\n",
      "Age Group: 24.01 - t-test (Category vs. Exemplar):\n",
      "t-statistic: -2.6722, p-value: 0.0090\n",
      "\n",
      "Age Group: 24.15 - t-test (Category vs. Exemplar):\n",
      "t-statistic: -1.9578, p-value: 0.0534\n",
      "\n",
      "Age Group: 24.29 - t-test (Category vs. Exemplar):\n",
      "t-statistic: -3.3847, p-value: 0.0011\n",
      "\n",
      "Age Group: 24.5 - t-test (Category vs. Exemplar):\n",
      "t-statistic: -2.2120, p-value: 0.0296\n",
      "\n",
      "Age Group: 24.61 - t-test (Category vs. Exemplar):\n",
      "t-statistic: -0.1853, p-value: 0.8534\n",
      "\n",
      "Age Group: 24.65 - t-test (Category vs. Exemplar):\n",
      "t-statistic: 1.3343, p-value: 0.1855\n",
      "\n",
      "Age Group: 25.06 - t-test (Category vs. Exemplar):\n",
      "t-statistic: -0.7157, p-value: 0.4751\n",
      "\n",
      "Age Group: 25.29 - t-test (Category vs. Exemplar):\n",
      "t-statistic: -1.1869, p-value: 0.2385\n",
      "\n",
      "Age Group: 25.31 - t-test (Category vs. Exemplar):\n",
      "t-statistic: -1.5732, p-value: 0.1193\n",
      "\n",
      "Age Group: 25.87 - t-test (Category vs. Exemplar):\n",
      "t-statistic: -2.1528, p-value: 0.0341\n",
      "\n",
      "Age Group: 25.94 - t-test (Category vs. Exemplar):\n",
      "t-statistic: -0.9697, p-value: 0.3348\n"
     ]
    }
   ],
   "source": [
    "age_groups = merged_data.groupby('age')\n",
    "\n",
    "for name, group in age_groups:\n",
    "  category_data = group[group['block_condition'] == 1]\n",
    "  exemplar_data = group[group['block_condition'] == 2]\n",
    "  if len(category_data) > 1 and len(exemplar_data) > 1:  # Avoid tests with very small groups\n",
    "    t_statistic, p_value = ttest_ind(category_data['conf_rating'], exemplar_data['conf_rating'])\n",
    "    print(f\"\\nAge Group: {name} - t-test (Category vs. Exemplar):\")\n",
    "    print(f\"t-statistic: {t_statistic:.4f}, p-value: {p_value:.4f}\")\n"
   ]
  },
  {
   "cell_type": "markdown",
   "metadata": {},
   "source": [
    "Overall, these results suggest that the relationship between block condition (category vs. exemplar) and confidence rating might vary depending on the age group. In some groups, there might be no significant difference, while in others, there might be a trend or even a statistically significant difference favoring one condition over the other."
   ]
  },
  {
   "cell_type": "code",
   "execution_count": 28,
   "metadata": {},
   "outputs": [
    {
     "data": {
      "image/png": "[encoded data removed]",
      "text/plain": [
       "<Figure size 640x480 with 1 Axes>"
      ]
     },
     "metadata": {},
     "output_type": "display_data"
    }
   ],
   "source": [
    "# Visualizing the data - age vs confidence rating along with block condition\n",
    "sns.set(style='whitegrid')\n",
    "sns.scatterplot(x='age', y='conf_rating', data=merged_data, hue='block_condition')\n",
    "plt.title('Age vs Confidence Rating')\n",
    "plt.xlabel('Age')\n",
    "plt.ylabel('Confidence Rating')\n",
    "plt.show()\n"
   ]
  },
  {
   "cell_type": "markdown",
   "metadata": {},
   "source": [
    "### Reaction Time Vs Block Condition"
   ]
  },
  {
   "cell_type": "markdown",
   "metadata": {},
   "source": [
    "#### Checking Normality"
   ]
  },
  {
   "cell_type": "code",
   "execution_count": 12,
   "metadata": {},
   "outputs": [
    {
     "name": "stdout",
     "output_type": "stream",
     "text": [
      "Normality Test (Shapiro-Wilk):\n",
      "Category-Predictive (p-value): 2.699949977248716e-67\n",
      "Exemplar-Predictive (p-value): 4.920948640732799e-69\n"
     ]
    }
   ],
   "source": [
    "import warnings\n",
    "\n",
    "rt = merged_data['rt']  \n",
    "block_condition = merged_data['block_condition']\n",
    "\n",
    "category_rt = rt[block_condition == 1]\n",
    "exemplar_rt = rt[block_condition == 2]\n",
    "\n",
    "with warnings.catch_warnings():\n",
    "    warnings.simplefilter(\"ignore\")\n",
    "\n",
    "    # Perform Shapiro-Wilk test for normality on each group\n",
    "    category_stat, category_p_value = shapiro(category_rt)\n",
    "    exemplar_stat, exemplar_p_value = shapiro(exemplar_rt)\n",
    "\n",
    "print(\"Normality Test (Shapiro-Wilk):\")\n",
    "print(\"Category-Predictive (p-value):\", category_p_value)\n",
    "print(\"Exemplar-Predictive (p-value):\", exemplar_p_value)"
   ]
  },
  {
   "cell_type": "markdown",
   "metadata": {},
   "source": [
    "#### Interpretations\n",
    "\n",
    "The provided p-values (both extremely small, close to 0) from the Shapiro-Wilk test indicate that the reaction times (RT) in both category-predictive and exemplar-predictive blocks are very likely not normally distributed.\n",
    "\n",
    "Hence we choose a Non-Parametric Test for Comparing RTs\n",
    "\n",
    "Since the data isn't normally distributed, we can't use the independent samples t-test for comparing RT between block conditions. Instead, we consider a non-parametric alternative like the Mann-Whitney U test:"
   ]
  },
  {
   "cell_type": "code",
   "execution_count": 14,
   "metadata": {},
   "outputs": [
    {
     "name": "stdout",
     "output_type": "stream",
     "text": [
      "Mann-Whitney U test:\n",
      "U statistic: 23322578.5\n",
      "p-value: 0.2304074352204245\n"
     ]
    }
   ],
   "source": [
    "from scipy.stats import mannwhitneyu\n",
    "\n",
    "statistic, p_value = mannwhitneyu(category_rt, exemplar_rt)\n",
    "print(\"Mann-Whitney U test:\")\n",
    "print(\"U statistic:\", statistic)\n",
    "print(\"p-value:\", p_value)"
   ]
  },
  {
   "cell_type": "markdown",
   "metadata": {},
   "source": [
    "#### Interpretation of Mann-Whitney U Test Results:\n",
    "\n",
    "U statistic: 23322578.5 (This statistic is used internally by the test and doesn't directly inform interpretation.)\n",
    "\n",
    "p-value: 0.2304 (This is the key value for interpretation.)\n",
    "\n",
    "The p-value of 0.2304 is greater than the conventional significance level of 0.05. This suggests that we fail to reject the null hypothesis. "
   ]
  },
  {
   "cell_type": "code",
   "execution_count": 65,
   "metadata": {},
   "outputs": [
    {
     "data": {
      "image/png": "[encoded data removed]",
      "text/plain": [
       "<Figure size 800x500 with 1 Axes>"
      ]
     },
     "metadata": {},
     "output_type": "display_data"
    }
   ],
   "source": [
    "import matplotlib.pyplot as plt\n",
    "\n",
    "# Histograms\n",
    "plt.figure(figsize=(8, 5))\n",
    "plt.hist(category_rt, label='Category-Predictive', alpha=0.5)\n",
    "plt.hist(exemplar_rt, label='Exemplar-Predictive', alpha=0.5)\n",
    "plt.xlabel('Reaction Time (ms)')\n",
    "plt.ylabel('Frequency')\n",
    "plt.title('Distribution of Reaction Times')\n",
    "plt.legend()\n",
    "plt.grid(True)\n",
    "plt.show()"
   ]
  },
  {
   "cell_type": "markdown",
   "metadata": {},
   "source": [
    "In simpler terms, there isn't statistically significant evidence to conclude that the reaction times (RTs) in the category-predictive and exemplar-predictive blocks are different."
   ]
  },
  {
   "cell_type": "markdown",
   "metadata": {},
   "source": [
    "### Memory Accuracy Vs Age"
   ]
  },
  {
   "cell_type": "code",
   "execution_count": 55,
   "metadata": {},
   "outputs": [
    {
     "name": "stdout",
     "output_type": "stream",
     "text": [
      "\n",
      "Correlation between Age and Mem. Accuracy (Without Block Condition): 0.0310\n",
      "There is a positive correlation between age and memory accuracy.\n"
     ]
    }
   ],
   "source": [
    "from scipy.stats import pearsonr\n",
    "\n",
    "# Create a copy to avoid modifying original data\n",
    "data = merged_data.copy()  \n",
    "\n",
    "# Calculate correlation between age and mem_acc\n",
    "correlation, _ = pearsonr(data['age'], data['mem_acc'])\n",
    "\n",
    "# Print correlation coefficient\n",
    "print(f\"\\nCorrelation between Age and Mem. Accuracy (Without Block Condition): {correlation:.4f}\")\n",
    "\n",
    "# Interpretation\n",
    "if correlation > 0:\n",
    "  print(\"There is a positive correlation between age and memory accuracy.\")\n",
    "elif correlation < 0:\n",
    "  print(\"There is a negative correlation between age and memory accuracy.\")\n",
    "else:\n",
    "  print(\"There is no linear correlation between age and memory accuracy.\")\n"
   ]
  },
  {
   "cell_type": "code",
   "execution_count": 56,
   "metadata": {},
   "outputs": [
    {
     "name": "stdout",
     "output_type": "stream",
     "text": [
      "                            OLS Regression Results                            \n",
      "==============================================================================\n",
      "Dep. Variable:                mem_acc   R-squared:                       0.001\n",
      "Model:                            OLS   Adj. R-squared:                  0.001\n",
      "Method:                 Least Squares   F-statistic:                     13.05\n",
      "Date:                Sat, 13 Apr 2024   Prob (F-statistic):           0.000305\n",
      "Time:                        15:31:33   Log-Likelihood:                -8623.1\n",
      "No. Observations:               13579   AIC:                         1.725e+04\n",
      "Df Residuals:                   13577   BIC:                         1.727e+04\n",
      "Df Model:                           1                                         \n",
      "Covariance Type:            nonrobust                                         \n",
      "==============================================================================\n",
      "                 coef    std err          t      P>|t|      [0.025      0.975]\n",
      "------------------------------------------------------------------------------\n",
      "Intercept      0.6583      0.013     50.448      0.000       0.633       0.684\n",
      "age            0.0028      0.001      3.612      0.000       0.001       0.004\n",
      "==============================================================================\n",
      "Omnibus:                    13905.927   Durbin-Watson:                   1.651\n",
      "Prob(Omnibus):                  0.000   Jarque-Bera (JB):             2609.458\n",
      "Skew:                          -0.888   Prob(JB):                         0.00\n",
      "Kurtosis:                       1.794   Cond. No.                         55.6\n",
      "==============================================================================\n",
      "\n",
      "Notes:\n",
      "[1] Standard Errors assume that the covariance matrix of the errors is correctly specified.\n"
     ]
    }
   ],
   "source": [
    "# # Additional analysis \n",
    "# Fitting a simple linear regression model to explore the relationship further:\n",
    "model = sm.formula.ols('mem_acc ~ age', data=data).fit()\n",
    "print(model.summary())"
   ]
  },
  {
   "cell_type": "markdown",
   "metadata": {},
   "source": [
    "#### Key observations:\n",
    "\n",
    "R-squared (0.001): This value is very low, indicating that the model explains very little of the variance in memory accuracy. In other words, age alone doesn't significantly predict memory accuracy in this data.\n",
    "\n",
    "Age Coefficient (0.0028): The coefficient is positive, suggesting a slight tendency for memory accuracy to increase with age.\n",
    "P-value (0.000): This value is statistically significant, but due to the low R-squared, the practical significance of the age effect is questionable.\n",
    "\n",
    "F-statistic (13.05) and Prob (F-statistic) (0.000305): These values also indicate statistical significance, but again, the low R-squared suggests the model doesn't capture much of the relationship.\n",
    "\n",
    "**Overall Interpretation:**\n",
    "\n",
    "While there's a statistically significant positive association between age and memory accuracy, the model fit (R-squared) is very weak. This means that age alone doesn't explain a meaningful proportion of the variation in memory accuracy in your data. There are likely other factors that play a more significant role.\n",
    "\n",
    "\n",
    "We consider the interaction effect between age and block condition (category vs. exemplar). We check if the relationship between age and memory accuracy might differ depending on the block type. The current analysis, which excludes the block condition, does not capture the complete picture."
   ]
  },
  {
   "cell_type": "markdown",
   "metadata": {},
   "source": [
    "### Memory Accuracy along with block condition (category-predictive vs. exemplar-predictive) Vs age "
   ]
  },
  {
   "cell_type": "code",
   "execution_count": 43,
   "metadata": {},
   "outputs": [
    {
     "name": "stdout",
     "output_type": "stream",
     "text": [
      "\n",
      "One-Way ANOVA (Mem. Accuracy by Block Condition):\n",
      "F-statistic: 11.2250, p-value: 8.0922e-04\n",
      "There is a statistically significant difference in memory accuracy between block conditions.\n"
     ]
    }
   ],
   "source": [
    "\n",
    "from scipy.stats import f_oneway, pearsonr\n",
    "import statsmodels.api as sm \n",
    "\n",
    "\n",
    "# 1. Analyze the relationship between block condition and age\n",
    "#   - One-way ANOVA to compare memory accuracy across block conditions\n",
    "\n",
    "block_conditions = merged_data['block_condition'].unique()\n",
    "mem_acc_by_condition = []\n",
    "for condition in block_conditions:\n",
    "  condition_data = merged_data[merged_data['block_condition'] == condition]\n",
    "  mem_acc_by_condition.append(condition_data['mem_acc'])\n",
    "f_statistic, p_value = f_oneway(*mem_acc_by_condition)\n",
    "print(\"\\nOne-Way ANOVA (Mem. Accuracy by Block Condition):\")\n",
    "print(f\"F-statistic: {f_statistic:.4f}, p-value: {p_value:.4e}\")\n",
    "if p_value < 0.05:\n",
    "  print(\"There is a statistically significant difference in memory accuracy between block conditions.\")\n",
    "else:\n",
    "  print(\"There is not enough evidence to conclude a statistically significant difference based on the chosen significance level.\")\n",
    "\n",
    "  "
   ]
  },
  {
   "cell_type": "markdown",
   "metadata": {},
   "source": [
    "##### 1. Block Condition and Memory Accuracy:\n",
    "\n",
    "The One-Way ANOVA shows a statistically significant difference (p-value = 8.0922e-04) in memory accuracy between the category-predictive (coded as 1) and exemplar-predictive (coded as 2) conditions. This suggests that memory accuracy is not the same across these block conditions."
   ]
  },
  {
   "cell_type": "code",
   "execution_count": 44,
   "metadata": {},
   "outputs": [
    {
     "name": "stdout",
     "output_type": "stream",
     "text": [
      "\n",
      "Linear Regression (Mem. Accuracy ~ Age + Block Condition + Interaction):\n",
      "                            OLS Regression Results                            \n",
      "==============================================================================\n",
      "Dep. Variable:                mem_acc   R-squared:                       0.002\n",
      "Model:                            OLS   Adj. R-squared:                  0.002\n",
      "Method:                 Least Squares   F-statistic:                     10.02\n",
      "Date:                Sat, 13 Apr 2024   Prob (F-statistic):           1.37e-06\n",
      "Time:                        15:10:19   Log-Likelihood:                -8614.7\n",
      "No. Observations:               13579   AIC:                         1.724e+04\n",
      "Df Residuals:                   13575   BIC:                         1.727e+04\n",
      "Df Model:                           3                                         \n",
      "Covariance Type:            nonrobust                                         \n",
      "==============================================================================================\n",
      "                                 coef    std err          t      P>|t|      [0.025      0.975]\n",
      "----------------------------------------------------------------------------------------------\n",
      "Intercept                      0.6749      0.018     36.589      0.000       0.639       0.711\n",
      "block_category[T.True]        -0.0333      0.026     -1.278      0.201      -0.084       0.018\n",
      "age                            0.0010      0.001      0.862      0.389      -0.001       0.003\n",
      "age:block_category[T.True]     0.0038      0.002      2.396      0.017       0.001       0.007\n",
      "==============================================================================\n",
      "Omnibus:                    13618.773   Durbin-Watson:                   1.653\n",
      "Prob(Omnibus):                  0.000   Jarque-Bera (JB):             2598.593\n",
      "Skew:                          -0.887   Prob(JB):                         0.00\n",
      "Kurtosis:                       1.796   Cond. No.                         146.\n",
      "==============================================================================\n",
      "\n",
      "Notes:\n",
      "[1] Standard Errors assume that the covariance matrix of the errors is correctly specified.\n"
     ]
    }
   ],
   "source": [
    "\n",
    "# 2. Analyze the relationship between age, block condition, and mem_acc\n",
    "#   - Linear regression with interaction term (age * block_condition)\n",
    "\n",
    "# Create dummy variable for block condition \n",
    "merged_data['block_category'] = pd.get_dummies(merged_data['block_condition'], drop_first=True)\n",
    "formula = 'mem_acc ~ age + block_category + age:block_category'  # Include interaction term\n",
    "model = sm.formula.ols(formula, data=merged_data).fit()\n",
    "print(f\"\\nLinear Regression (Mem. Accuracy ~ Age + Block Condition + Interaction):\")\n",
    "print(model.summary())"
   ]
  },
  {
   "cell_type": "markdown",
   "metadata": {},
   "source": [
    "#### 2. Linear Regression:\n",
    "\n",
    "- The overall model fit (R-squared) is very low (0.002), indicating that the combined effects of age, block condition, and their interaction explain a very small proportion of the variance in memory accuracy. \n",
    "- However, the F-statistic (10.02) is significant (p-value = 1.37e-06), suggesting that at least one of the model terms is statistically significant.\n",
    "- The coefficient for the intercept (0.6749) represents the average predicted memory accuracy when all other terms are zero.\n",
    "- The coefficient for block_category[T.True] (-0.0333) is not significant (p-value = 0.201). This suggests that, on average, there's no difference in memory accuracy between the category-predictive and exemplar-predictive conditions when age is zero.\n",
    "- The coefficient for age (0.0010) is also not significant (p-value = 0.389). This indicates no significant linear relationship between age and memory accuracy when considering both block conditions together.\n",
    "- However, the coefficient for the interaction term (age:block_category[T.True]) is significant (p-value = 0.017). This is the key finding. It suggests that the relationship between age and memory accuracy differs depending on the block condition (category-predictive vs. exemplar-predictive)."
   ]
  },
  {
   "cell_type": "code",
   "execution_count": 46,
   "metadata": {},
   "outputs": [
    {
     "name": "stdout",
     "output_type": "stream",
     "text": [
      "\n",
      "Correlation between Age and Mem. Accuracy (Category): 0.01032\n",
      "\n",
      "Correlation between Age and Mem. Accuracy (Exemplar): 0.05223\n"
     ]
    }
   ],
   "source": [
    "# 3. Analyze the relationship between age and mem_acc (for separate correlations)\n",
    "category_data = merged_data[merged_data['block_condition'] == 1]\n",
    "exemplar_data = merged_data[merged_data['block_condition'] == 2]\n",
    "category_correlation, _ = pearsonr(category_data['age'], category_data['mem_acc'])\n",
    "exemplar_correlation, _ = pearsonr(exemplar_data['age'], exemplar_data['mem_acc'])\n",
    "print(f\"\\nCorrelation between Age and Mem. Accuracy (Category): {category_correlation:.5f}\")\n",
    "print(f\"\\nCorrelation between Age and Mem. Accuracy (Exemplar): {exemplar_correlation:.5f}\")\n"
   ]
  },
  {
   "cell_type": "markdown",
   "metadata": {},
   "source": [
    "#### 3. Correlations:\n",
    "\n",
    "The separate correlations for each block condition show weak positive relationships:\n",
    "\n",
    "Category-predictive: 0.0103 (very weak)\n",
    "\n",
    "Exemplar-predictive: 0.0522 (slightly weak)\n",
    "\n",
    "These correlations suggest a possible tendency for memory accuracy to increase slightly with age within each block condition, but the effects are very small.\n",
    "\n",
    "**In summary:**\n",
    "\n",
    "- There's a statistically significant difference in memory accuracy between block conditions (category-predictive vs. exemplar-predictive).\n",
    "- The overall model fit for predicting memory accuracy is low.\n",
    "- There's no significant main effect of age on memory accuracy when considering both block conditions together.\n",
    "- Importantly, the significant interaction term between age and block condition suggests that the relationship between age and memory accuracy depends on the block condition.\n",
    "- The separate correlations within each block condition hint at weak positive relationships, but the effects are very small."
   ]
  },
  {
   "cell_type": "code",
   "execution_count": 58,
   "metadata": {},
   "outputs": [
    {
     "data": {
      "image/png": "[encoded data removed]",
      "text/plain": [
       "<Figure size 640x480 with 1 Axes>"
      ]
     },
     "metadata": {},
     "output_type": "display_data"
    }
   ],
   "source": [
    "# Visualizing the Relationship\n",
    "sns.scatterplot(x='age', y='mem_acc', hue='block_condition', data=merged_data)\n",
    "plt.xlabel('Age')\n",
    "plt.ylabel('Memory Accuracy')\n",
    "plt.title('Memory Accuracy vs. Age by Block Condition')\n",
    "plt.show()\n"
   ]
  }
 ],
 "metadata": {
  "kernelspec": {
   "display_name": "Python 3",
   "language": "python",
   "name": "python3"
  },
  "language_info": {
   "codemirror_mode": {
    "name": "ipython",
    "version": 3
   },
   "file_extension": ".py",
   "mimetype": "text/x-python",
   "name": "python",
   "nbconvert_exporter": "python",
   "pygments_lexer": "ipython3",
   "version": "3.12.2"
  }
 },
 "nbformat": 4,
 "nbformat_minor": 2
}
