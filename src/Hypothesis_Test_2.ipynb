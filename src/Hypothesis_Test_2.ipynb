{
 "cells": [
  {
   "cell_type": "markdown",
   "metadata": {},
   "source": [
    "# Hypotheses Test 2"
   ]
  },
  {
   "cell_type": "markdown",
   "metadata": {},
   "source": [
    "#### **We aim to study how age influences the adaptation towards specificity in memory representations, investigating whether this adaptation increases or decreases with age, ultimately influencing performance in memory tasks.**"
   ]
  },
  {
   "cell_type": "markdown",
   "metadata": {},
   "source": [
    "#### $H_0$: There is no significant relationship between age and the adaptation towards specificity in memory representations.\n",
    "#### $H_A$: Adaptation towards specificity in memory representations increases/decreases with age. "
   ]
  },
  {
   "cell_type": "code",
   "execution_count": 2,
   "metadata": {},
   "outputs": [],
   "source": [
    "# Importing Libraries\n",
    "import numpy as np\n",
    "import pandas as pd\n",
    "import seaborn as sns\n",
    "import plotly.express as px\n",
    "import matplotlib.pyplot as plt\n",
    "import scipy.stats as stats\n",
    "import os\n",
    "from scipy.stats import ttest_ind\n",
    "from scipy.stats import chi2_contingency\n",
    "from statsmodels.stats.multitest import multipletests"
   ]
  },
  {
   "cell_type": "markdown",
   "metadata": {},
   "source": [
    "##  Data Processing"
   ]
  },
  {
   "cell_type": "code",
   "execution_count": 3,
   "metadata": {},
   "outputs": [],
   "source": [
    "e1_sub_ages = pd.read_csv(\"../data/e1/e1_sub_ages.csv\") \n",
    "e1_memory = pd.read_csv(\"../data/e1/e1_memory_data.csv\")\n",
    "\n",
    "# Merge dataframes\n",
    "memory_merged = pd.merge(e1_memory, e1_sub_ages, on='subject_id')"
   ]
  },
  {
   "cell_type": "code",
   "execution_count": 4,
   "metadata": {},
   "outputs": [
    {
     "data": {
      "text/html": [
       "<div>\n",
       "<style scoped>\n",
       "    .dataframe tbody tr th:only-of-type {\n",
       "        vertical-align: middle;\n",
       "    }\n",
       "\n",
       "    .dataframe tbody tr th {\n",
       "        vertical-align: top;\n",
       "    }\n",
       "\n",
       "    .dataframe thead th {\n",
       "        text-align: right;\n",
       "    }\n",
       "</style>\n",
       "<table border=\"1\" class=\"dataframe\">\n",
       "  <thead>\n",
       "    <tr style=\"text-align: right;\">\n",
       "      <th></th>\n",
       "      <th>subject_id</th>\n",
       "      <th>age</th>\n",
       "    </tr>\n",
       "  </thead>\n",
       "  <tbody>\n",
       "    <tr>\n",
       "      <th>0</th>\n",
       "      <td>3768</td>\n",
       "      <td>8.04</td>\n",
       "    </tr>\n",
       "    <tr>\n",
       "      <th>1</th>\n",
       "      <td>3770</td>\n",
       "      <td>8.10</td>\n",
       "    </tr>\n",
       "    <tr>\n",
       "      <th>2</th>\n",
       "      <td>3855</td>\n",
       "      <td>16.83</td>\n",
       "    </tr>\n",
       "    <tr>\n",
       "      <th>3</th>\n",
       "      <td>3853</td>\n",
       "      <td>16.94</td>\n",
       "    </tr>\n",
       "    <tr>\n",
       "      <th>4</th>\n",
       "      <td>3898</td>\n",
       "      <td>22.15</td>\n",
       "    </tr>\n",
       "  </tbody>\n",
       "</table>\n",
       "</div>"
      ],
      "text/plain": [
       "   subject_id    age\n",
       "0        3768   8.04\n",
       "1        3770   8.10\n",
       "2        3855  16.83\n",
       "3        3853  16.94\n",
       "4        3898  22.15"
      ]
     },
     "execution_count": 4,
     "metadata": {},
     "output_type": "execute_result"
    }
   ],
   "source": [
    "e1_sub_ages.head()"
   ]
  },
  {
   "cell_type": "code",
   "execution_count": 4,
   "metadata": {},
   "outputs": [
    {
     "data": {
      "text/html": [
       "<div>\n",
       "<style scoped>\n",
       "    .dataframe tbody tr th:only-of-type {\n",
       "        vertical-align: middle;\n",
       "    }\n",
       "\n",
       "    .dataframe tbody tr th {\n",
       "        vertical-align: top;\n",
       "    }\n",
       "\n",
       "    .dataframe thead th {\n",
       "        text-align: right;\n",
       "    }\n",
       "</style>\n",
       "<table border=\"1\" class=\"dataframe\">\n",
       "  <thead>\n",
       "    <tr style=\"text-align: right;\">\n",
       "      <th></th>\n",
       "      <th>subject_id</th>\n",
       "      <th>task_part</th>\n",
       "      <th>block_order</th>\n",
       "      <th>block_condition</th>\n",
       "      <th>category_type</th>\n",
       "      <th>num_stim_rep</th>\n",
       "      <th>image</th>\n",
       "      <th>category</th>\n",
       "      <th>task_block</th>\n",
       "      <th>stim_num</th>\n",
       "      <th>correct_mem_response</th>\n",
       "      <th>mem_response</th>\n",
       "      <th>confidence</th>\n",
       "      <th>rt</th>\n",
       "      <th>mem_acc</th>\n",
       "      <th>conf_number</th>\n",
       "      <th>conf_rating</th>\n",
       "      <th>foil_type</th>\n",
       "      <th>memory_delay</th>\n",
       "    </tr>\n",
       "  </thead>\n",
       "  <tbody>\n",
       "    <tr>\n",
       "      <th>0</th>\n",
       "      <td>3768</td>\n",
       "      <td>memory_trial</td>\n",
       "      <td>1</td>\n",
       "      <td>2</td>\n",
       "      <td>old</td>\n",
       "      <td>6.0</td>\n",
       "      <td>horse7.png</td>\n",
       "      <td>horse</td>\n",
       "      <td>animals</td>\n",
       "      <td>7</td>\n",
       "      <td>old</td>\n",
       "      <td>old</td>\n",
       "      <td>definitely</td>\n",
       "      <td>1866.0</td>\n",
       "      <td>1.0</td>\n",
       "      <td>1.0</td>\n",
       "      <td>4.0</td>\n",
       "      <td>old</td>\n",
       "      <td>7.0</td>\n",
       "    </tr>\n",
       "    <tr>\n",
       "      <th>1</th>\n",
       "      <td>3768</td>\n",
       "      <td>memory_trial</td>\n",
       "      <td>1</td>\n",
       "      <td>2</td>\n",
       "      <td>old</td>\n",
       "      <td>6.0</td>\n",
       "      <td>cow5.png</td>\n",
       "      <td>cow</td>\n",
       "      <td>animals</td>\n",
       "      <td>5</td>\n",
       "      <td>old</td>\n",
       "      <td>old</td>\n",
       "      <td>definitely</td>\n",
       "      <td>1792.0</td>\n",
       "      <td>1.0</td>\n",
       "      <td>1.0</td>\n",
       "      <td>4.0</td>\n",
       "      <td>old</td>\n",
       "      <td>7.0</td>\n",
       "    </tr>\n",
       "    <tr>\n",
       "      <th>2</th>\n",
       "      <td>3768</td>\n",
       "      <td>memory_trial</td>\n",
       "      <td>1</td>\n",
       "      <td>2</td>\n",
       "      <td>old</td>\n",
       "      <td>3.0</td>\n",
       "      <td>cow8.png</td>\n",
       "      <td>cow</td>\n",
       "      <td>animals</td>\n",
       "      <td>8</td>\n",
       "      <td>old</td>\n",
       "      <td>new</td>\n",
       "      <td>definitely</td>\n",
       "      <td>3074.0</td>\n",
       "      <td>0.0</td>\n",
       "      <td>1.0</td>\n",
       "      <td>1.0</td>\n",
       "      <td>old</td>\n",
       "      <td>7.0</td>\n",
       "    </tr>\n",
       "    <tr>\n",
       "      <th>3</th>\n",
       "      <td>3768</td>\n",
       "      <td>memory_trial</td>\n",
       "      <td>1</td>\n",
       "      <td>2</td>\n",
       "      <td>old</td>\n",
       "      <td>6.0</td>\n",
       "      <td>goat6.png</td>\n",
       "      <td>goat</td>\n",
       "      <td>animals</td>\n",
       "      <td>6</td>\n",
       "      <td>old</td>\n",
       "      <td>old</td>\n",
       "      <td>definitely</td>\n",
       "      <td>1411.0</td>\n",
       "      <td>1.0</td>\n",
       "      <td>1.0</td>\n",
       "      <td>4.0</td>\n",
       "      <td>old</td>\n",
       "      <td>7.0</td>\n",
       "    </tr>\n",
       "    <tr>\n",
       "      <th>4</th>\n",
       "      <td>3768</td>\n",
       "      <td>memory_trial</td>\n",
       "      <td>1</td>\n",
       "      <td>2</td>\n",
       "      <td>old</td>\n",
       "      <td>3.0</td>\n",
       "      <td>goat5.png</td>\n",
       "      <td>goat</td>\n",
       "      <td>animals</td>\n",
       "      <td>5</td>\n",
       "      <td>old</td>\n",
       "      <td>new</td>\n",
       "      <td>maybe</td>\n",
       "      <td>3348.0</td>\n",
       "      <td>0.0</td>\n",
       "      <td>0.0</td>\n",
       "      <td>2.0</td>\n",
       "      <td>old</td>\n",
       "      <td>7.0</td>\n",
       "    </tr>\n",
       "  </tbody>\n",
       "</table>\n",
       "</div>"
      ],
      "text/plain": [
       "   subject_id     task_part  block_order  block_condition category_type  \\\n",
       "0        3768  memory_trial            1                2           old   \n",
       "1        3768  memory_trial            1                2           old   \n",
       "2        3768  memory_trial            1                2           old   \n",
       "3        3768  memory_trial            1                2           old   \n",
       "4        3768  memory_trial            1                2           old   \n",
       "\n",
       "   num_stim_rep       image category task_block  stim_num  \\\n",
       "0           6.0  horse7.png    horse    animals         7   \n",
       "1           6.0    cow5.png      cow    animals         5   \n",
       "2           3.0    cow8.png      cow    animals         8   \n",
       "3           6.0   goat6.png     goat    animals         6   \n",
       "4           3.0   goat5.png     goat    animals         5   \n",
       "\n",
       "  correct_mem_response mem_response  confidence      rt  mem_acc  conf_number  \\\n",
       "0                  old          old  definitely  1866.0      1.0          1.0   \n",
       "1                  old          old  definitely  1792.0      1.0          1.0   \n",
       "2                  old          new  definitely  3074.0      0.0          1.0   \n",
       "3                  old          old  definitely  1411.0      1.0          1.0   \n",
       "4                  old          new       maybe  3348.0      0.0          0.0   \n",
       "\n",
       "   conf_rating foil_type  memory_delay  \n",
       "0          4.0       old           7.0  \n",
       "1          4.0       old           7.0  \n",
       "2          1.0       old           7.0  \n",
       "3          4.0       old           7.0  \n",
       "4          2.0       old           7.0  "
      ]
     },
     "execution_count": 4,
     "metadata": {},
     "output_type": "execute_result"
    }
   ],
   "source": [
    "e1_memory.head()"
   ]
  },
  {
   "cell_type": "code",
   "execution_count": 5,
   "metadata": {},
   "outputs": [
    {
     "data": {
      "text/html": [
       "<div>\n",
       "<style scoped>\n",
       "    .dataframe tbody tr th:only-of-type {\n",
       "        vertical-align: middle;\n",
       "    }\n",
       "\n",
       "    .dataframe tbody tr th {\n",
       "        vertical-align: top;\n",
       "    }\n",
       "\n",
       "    .dataframe thead th {\n",
       "        text-align: right;\n",
       "    }\n",
       "</style>\n",
       "<table border=\"1\" class=\"dataframe\">\n",
       "  <thead>\n",
       "    <tr style=\"text-align: right;\">\n",
       "      <th></th>\n",
       "      <th>subject_id</th>\n",
       "      <th>task_part</th>\n",
       "      <th>block_order</th>\n",
       "      <th>block_condition</th>\n",
       "      <th>category_type</th>\n",
       "      <th>num_stim_rep</th>\n",
       "      <th>image</th>\n",
       "      <th>category</th>\n",
       "      <th>task_block</th>\n",
       "      <th>stim_num</th>\n",
       "      <th>correct_mem_response</th>\n",
       "      <th>mem_response</th>\n",
       "      <th>confidence</th>\n",
       "      <th>rt</th>\n",
       "      <th>mem_acc</th>\n",
       "      <th>conf_number</th>\n",
       "      <th>conf_rating</th>\n",
       "      <th>foil_type</th>\n",
       "      <th>memory_delay</th>\n",
       "      <th>age</th>\n",
       "    </tr>\n",
       "  </thead>\n",
       "  <tbody>\n",
       "    <tr>\n",
       "      <th>0</th>\n",
       "      <td>3768</td>\n",
       "      <td>memory_trial</td>\n",
       "      <td>1</td>\n",
       "      <td>2</td>\n",
       "      <td>old</td>\n",
       "      <td>6.0</td>\n",
       "      <td>horse7.png</td>\n",
       "      <td>horse</td>\n",
       "      <td>animals</td>\n",
       "      <td>7</td>\n",
       "      <td>old</td>\n",
       "      <td>old</td>\n",
       "      <td>definitely</td>\n",
       "      <td>1866.0</td>\n",
       "      <td>1.0</td>\n",
       "      <td>1.0</td>\n",
       "      <td>4.0</td>\n",
       "      <td>old</td>\n",
       "      <td>7.0</td>\n",
       "      <td>8.04</td>\n",
       "    </tr>\n",
       "    <tr>\n",
       "      <th>1</th>\n",
       "      <td>3768</td>\n",
       "      <td>memory_trial</td>\n",
       "      <td>1</td>\n",
       "      <td>2</td>\n",
       "      <td>old</td>\n",
       "      <td>6.0</td>\n",
       "      <td>cow5.png</td>\n",
       "      <td>cow</td>\n",
       "      <td>animals</td>\n",
       "      <td>5</td>\n",
       "      <td>old</td>\n",
       "      <td>old</td>\n",
       "      <td>definitely</td>\n",
       "      <td>1792.0</td>\n",
       "      <td>1.0</td>\n",
       "      <td>1.0</td>\n",
       "      <td>4.0</td>\n",
       "      <td>old</td>\n",
       "      <td>7.0</td>\n",
       "      <td>8.04</td>\n",
       "    </tr>\n",
       "    <tr>\n",
       "      <th>2</th>\n",
       "      <td>3768</td>\n",
       "      <td>memory_trial</td>\n",
       "      <td>1</td>\n",
       "      <td>2</td>\n",
       "      <td>old</td>\n",
       "      <td>3.0</td>\n",
       "      <td>cow8.png</td>\n",
       "      <td>cow</td>\n",
       "      <td>animals</td>\n",
       "      <td>8</td>\n",
       "      <td>old</td>\n",
       "      <td>new</td>\n",
       "      <td>definitely</td>\n",
       "      <td>3074.0</td>\n",
       "      <td>0.0</td>\n",
       "      <td>1.0</td>\n",
       "      <td>1.0</td>\n",
       "      <td>old</td>\n",
       "      <td>7.0</td>\n",
       "      <td>8.04</td>\n",
       "    </tr>\n",
       "    <tr>\n",
       "      <th>3</th>\n",
       "      <td>3768</td>\n",
       "      <td>memory_trial</td>\n",
       "      <td>1</td>\n",
       "      <td>2</td>\n",
       "      <td>old</td>\n",
       "      <td>6.0</td>\n",
       "      <td>goat6.png</td>\n",
       "      <td>goat</td>\n",
       "      <td>animals</td>\n",
       "      <td>6</td>\n",
       "      <td>old</td>\n",
       "      <td>old</td>\n",
       "      <td>definitely</td>\n",
       "      <td>1411.0</td>\n",
       "      <td>1.0</td>\n",
       "      <td>1.0</td>\n",
       "      <td>4.0</td>\n",
       "      <td>old</td>\n",
       "      <td>7.0</td>\n",
       "      <td>8.04</td>\n",
       "    </tr>\n",
       "    <tr>\n",
       "      <th>4</th>\n",
       "      <td>3768</td>\n",
       "      <td>memory_trial</td>\n",
       "      <td>1</td>\n",
       "      <td>2</td>\n",
       "      <td>old</td>\n",
       "      <td>3.0</td>\n",
       "      <td>goat5.png</td>\n",
       "      <td>goat</td>\n",
       "      <td>animals</td>\n",
       "      <td>5</td>\n",
       "      <td>old</td>\n",
       "      <td>new</td>\n",
       "      <td>maybe</td>\n",
       "      <td>3348.0</td>\n",
       "      <td>0.0</td>\n",
       "      <td>0.0</td>\n",
       "      <td>2.0</td>\n",
       "      <td>old</td>\n",
       "      <td>7.0</td>\n",
       "      <td>8.04</td>\n",
       "    </tr>\n",
       "  </tbody>\n",
       "</table>\n",
       "</div>"
      ],
      "text/plain": [
       "   subject_id     task_part  block_order  block_condition category_type  \\\n",
       "0        3768  memory_trial            1                2           old   \n",
       "1        3768  memory_trial            1                2           old   \n",
       "2        3768  memory_trial            1                2           old   \n",
       "3        3768  memory_trial            1                2           old   \n",
       "4        3768  memory_trial            1                2           old   \n",
       "\n",
       "   num_stim_rep       image category task_block  stim_num  \\\n",
       "0           6.0  horse7.png    horse    animals         7   \n",
       "1           6.0    cow5.png      cow    animals         5   \n",
       "2           3.0    cow8.png      cow    animals         8   \n",
       "3           6.0   goat6.png     goat    animals         6   \n",
       "4           3.0   goat5.png     goat    animals         5   \n",
       "\n",
       "  correct_mem_response mem_response  confidence      rt  mem_acc  conf_number  \\\n",
       "0                  old          old  definitely  1866.0      1.0          1.0   \n",
       "1                  old          old  definitely  1792.0      1.0          1.0   \n",
       "2                  old          new  definitely  3074.0      0.0          1.0   \n",
       "3                  old          old  definitely  1411.0      1.0          1.0   \n",
       "4                  old          new       maybe  3348.0      0.0          0.0   \n",
       "\n",
       "   conf_rating foil_type  memory_delay   age  \n",
       "0          4.0       old           7.0  8.04  \n",
       "1          4.0       old           7.0  8.04  \n",
       "2          1.0       old           7.0  8.04  \n",
       "3          4.0       old           7.0  8.04  \n",
       "4          2.0       old           7.0  8.04  "
      ]
     },
     "execution_count": 5,
     "metadata": {},
     "output_type": "execute_result"
    }
   ],
   "source": [
    "memory_merged.head()"
   ]
  },
  {
   "cell_type": "code",
   "execution_count": 5,
   "metadata": {},
   "outputs": [
    {
     "name": "stdout",
     "output_type": "stream",
     "text": [
      "\n",
      "Missing values in memory data:\n",
      "subject_id              0\n",
      "task_part               0\n",
      "block_order             0\n",
      "block_condition         0\n",
      "category_type           0\n",
      "num_stim_rep            0\n",
      "image                   0\n",
      "category                0\n",
      "task_block              0\n",
      "stim_num                0\n",
      "correct_mem_response    0\n",
      "mem_response            0\n",
      "confidence              0\n",
      "rt                      0\n",
      "mem_acc                 0\n",
      "conf_number             0\n",
      "conf_rating             0\n",
      "foil_type               0\n",
      "memory_delay            0\n",
      "age                     0\n",
      "dtype: int64\n"
     ]
    }
   ],
   "source": [
    "# Check for missing values\n",
    "print(\"\\nMissing values in memory data:\")\n",
    "print(memory_merged.isnull().sum())\n",
    "\n",
    "# Remove missing values if any\n",
    "memory_merged.dropna(inplace=True)"
   ]
  },
  {
   "cell_type": "code",
   "execution_count": 6,
   "metadata": {},
   "outputs": [
    {
     "data": {
      "text/plain": [
       "151"
      ]
     },
     "execution_count": 6,
     "metadata": {},
     "output_type": "execute_result"
    }
   ],
   "source": [
    "memory_merged['subject_id'].nunique()"
   ]
  },
  {
   "cell_type": "code",
   "execution_count": 7,
   "metadata": {},
   "outputs": [
    {
     "data": {
      "text/html": [
       "<div>\n",
       "<style scoped>\n",
       "    .dataframe tbody tr th:only-of-type {\n",
       "        vertical-align: middle;\n",
       "    }\n",
       "\n",
       "    .dataframe tbody tr th {\n",
       "        vertical-align: top;\n",
       "    }\n",
       "\n",
       "    .dataframe thead th {\n",
       "        text-align: right;\n",
       "    }\n",
       "</style>\n",
       "<table border=\"1\" class=\"dataframe\">\n",
       "  <thead>\n",
       "    <tr style=\"text-align: right;\">\n",
       "      <th></th>\n",
       "      <th>age</th>\n",
       "      <th>block_condition</th>\n",
       "      <th>mem_acc</th>\n",
       "    </tr>\n",
       "  </thead>\n",
       "  <tbody>\n",
       "    <tr>\n",
       "      <th>0</th>\n",
       "      <td>8.04</td>\n",
       "      <td>2</td>\n",
       "      <td>1.0</td>\n",
       "    </tr>\n",
       "    <tr>\n",
       "      <th>1</th>\n",
       "      <td>8.04</td>\n",
       "      <td>2</td>\n",
       "      <td>1.0</td>\n",
       "    </tr>\n",
       "    <tr>\n",
       "      <th>2</th>\n",
       "      <td>8.04</td>\n",
       "      <td>2</td>\n",
       "      <td>0.0</td>\n",
       "    </tr>\n",
       "    <tr>\n",
       "      <th>3</th>\n",
       "      <td>8.04</td>\n",
       "      <td>2</td>\n",
       "      <td>1.0</td>\n",
       "    </tr>\n",
       "    <tr>\n",
       "      <th>4</th>\n",
       "      <td>8.04</td>\n",
       "      <td>2</td>\n",
       "      <td>0.0</td>\n",
       "    </tr>\n",
       "  </tbody>\n",
       "</table>\n",
       "</div>"
      ],
      "text/plain": [
       "    age  block_condition  mem_acc\n",
       "0  8.04                2      1.0\n",
       "1  8.04                2      1.0\n",
       "2  8.04                2      0.0\n",
       "3  8.04                2      1.0\n",
       "4  8.04                2      0.0"
      ]
     },
     "execution_count": 7,
     "metadata": {},
     "output_type": "execute_result"
    }
   ],
   "source": [
    "memory_data = memory_merged[['age', 'block_condition', 'mem_acc']]\n",
    "memory_data.head()"
   ]
  },
  {
   "cell_type": "code",
   "execution_count": 8,
   "metadata": {},
   "outputs": [
    {
     "data": {
      "text/plain": [
       "age                float64\n",
       "block_condition      int64\n",
       "mem_acc            float64\n",
       "dtype: object"
      ]
     },
     "execution_count": 8,
     "metadata": {},
     "output_type": "execute_result"
    }
   ],
   "source": [
    "memory_data.dtypes"
   ]
  },
  {
   "cell_type": "code",
   "execution_count": 9,
   "metadata": {},
   "outputs": [
    {
     "data": {
      "text/html": [
       "<div>\n",
       "<style scoped>\n",
       "    .dataframe tbody tr th:only-of-type {\n",
       "        vertical-align: middle;\n",
       "    }\n",
       "\n",
       "    .dataframe tbody tr th {\n",
       "        vertical-align: top;\n",
       "    }\n",
       "\n",
       "    .dataframe thead th {\n",
       "        text-align: right;\n",
       "    }\n",
       "</style>\n",
       "<table border=\"1\" class=\"dataframe\">\n",
       "  <thead>\n",
       "    <tr style=\"text-align: right;\">\n",
       "      <th></th>\n",
       "      <th>subject_id</th>\n",
       "      <th>task_part</th>\n",
       "      <th>block_order</th>\n",
       "      <th>block_condition</th>\n",
       "      <th>category_type</th>\n",
       "      <th>num_stim_rep</th>\n",
       "      <th>image</th>\n",
       "      <th>category</th>\n",
       "      <th>task_block</th>\n",
       "      <th>stim_num</th>\n",
       "      <th>...</th>\n",
       "      <th>mem_response</th>\n",
       "      <th>confidence</th>\n",
       "      <th>rt</th>\n",
       "      <th>mem_acc</th>\n",
       "      <th>conf_number</th>\n",
       "      <th>conf_rating</th>\n",
       "      <th>foil_type</th>\n",
       "      <th>memory_delay</th>\n",
       "      <th>age</th>\n",
       "      <th>age_group</th>\n",
       "    </tr>\n",
       "  </thead>\n",
       "  <tbody>\n",
       "    <tr>\n",
       "      <th>0</th>\n",
       "      <td>3768</td>\n",
       "      <td>memory_trial</td>\n",
       "      <td>1</td>\n",
       "      <td>2</td>\n",
       "      <td>old</td>\n",
       "      <td>6.0</td>\n",
       "      <td>horse7.png</td>\n",
       "      <td>horse</td>\n",
       "      <td>animals</td>\n",
       "      <td>7</td>\n",
       "      <td>...</td>\n",
       "      <td>old</td>\n",
       "      <td>definitely</td>\n",
       "      <td>1866.0</td>\n",
       "      <td>1.0</td>\n",
       "      <td>1.0</td>\n",
       "      <td>4.0</td>\n",
       "      <td>old</td>\n",
       "      <td>7.0</td>\n",
       "      <td>8.04</td>\n",
       "      <td>Children</td>\n",
       "    </tr>\n",
       "    <tr>\n",
       "      <th>1</th>\n",
       "      <td>3768</td>\n",
       "      <td>memory_trial</td>\n",
       "      <td>1</td>\n",
       "      <td>2</td>\n",
       "      <td>old</td>\n",
       "      <td>6.0</td>\n",
       "      <td>cow5.png</td>\n",
       "      <td>cow</td>\n",
       "      <td>animals</td>\n",
       "      <td>5</td>\n",
       "      <td>...</td>\n",
       "      <td>old</td>\n",
       "      <td>definitely</td>\n",
       "      <td>1792.0</td>\n",
       "      <td>1.0</td>\n",
       "      <td>1.0</td>\n",
       "      <td>4.0</td>\n",
       "      <td>old</td>\n",
       "      <td>7.0</td>\n",
       "      <td>8.04</td>\n",
       "      <td>Children</td>\n",
       "    </tr>\n",
       "    <tr>\n",
       "      <th>2</th>\n",
       "      <td>3768</td>\n",
       "      <td>memory_trial</td>\n",
       "      <td>1</td>\n",
       "      <td>2</td>\n",
       "      <td>old</td>\n",
       "      <td>3.0</td>\n",
       "      <td>cow8.png</td>\n",
       "      <td>cow</td>\n",
       "      <td>animals</td>\n",
       "      <td>8</td>\n",
       "      <td>...</td>\n",
       "      <td>new</td>\n",
       "      <td>definitely</td>\n",
       "      <td>3074.0</td>\n",
       "      <td>0.0</td>\n",
       "      <td>1.0</td>\n",
       "      <td>1.0</td>\n",
       "      <td>old</td>\n",
       "      <td>7.0</td>\n",
       "      <td>8.04</td>\n",
       "      <td>Children</td>\n",
       "    </tr>\n",
       "    <tr>\n",
       "      <th>3</th>\n",
       "      <td>3768</td>\n",
       "      <td>memory_trial</td>\n",
       "      <td>1</td>\n",
       "      <td>2</td>\n",
       "      <td>old</td>\n",
       "      <td>6.0</td>\n",
       "      <td>goat6.png</td>\n",
       "      <td>goat</td>\n",
       "      <td>animals</td>\n",
       "      <td>6</td>\n",
       "      <td>...</td>\n",
       "      <td>old</td>\n",
       "      <td>definitely</td>\n",
       "      <td>1411.0</td>\n",
       "      <td>1.0</td>\n",
       "      <td>1.0</td>\n",
       "      <td>4.0</td>\n",
       "      <td>old</td>\n",
       "      <td>7.0</td>\n",
       "      <td>8.04</td>\n",
       "      <td>Children</td>\n",
       "    </tr>\n",
       "    <tr>\n",
       "      <th>4</th>\n",
       "      <td>3768</td>\n",
       "      <td>memory_trial</td>\n",
       "      <td>1</td>\n",
       "      <td>2</td>\n",
       "      <td>old</td>\n",
       "      <td>3.0</td>\n",
       "      <td>goat5.png</td>\n",
       "      <td>goat</td>\n",
       "      <td>animals</td>\n",
       "      <td>5</td>\n",
       "      <td>...</td>\n",
       "      <td>new</td>\n",
       "      <td>maybe</td>\n",
       "      <td>3348.0</td>\n",
       "      <td>0.0</td>\n",
       "      <td>0.0</td>\n",
       "      <td>2.0</td>\n",
       "      <td>old</td>\n",
       "      <td>7.0</td>\n",
       "      <td>8.04</td>\n",
       "      <td>Children</td>\n",
       "    </tr>\n",
       "  </tbody>\n",
       "</table>\n",
       "<p>5 rows × 21 columns</p>\n",
       "</div>"
      ],
      "text/plain": [
       "   subject_id     task_part  block_order  block_condition category_type  \\\n",
       "0        3768  memory_trial            1                2           old   \n",
       "1        3768  memory_trial            1                2           old   \n",
       "2        3768  memory_trial            1                2           old   \n",
       "3        3768  memory_trial            1                2           old   \n",
       "4        3768  memory_trial            1                2           old   \n",
       "\n",
       "   num_stim_rep       image category task_block  stim_num  ... mem_response  \\\n",
       "0           6.0  horse7.png    horse    animals         7  ...          old   \n",
       "1           6.0    cow5.png      cow    animals         5  ...          old   \n",
       "2           3.0    cow8.png      cow    animals         8  ...          new   \n",
       "3           6.0   goat6.png     goat    animals         6  ...          old   \n",
       "4           3.0   goat5.png     goat    animals         5  ...          new   \n",
       "\n",
       "   confidence      rt  mem_acc  conf_number  conf_rating  foil_type  \\\n",
       "0  definitely  1866.0      1.0          1.0          4.0        old   \n",
       "1  definitely  1792.0      1.0          1.0          4.0        old   \n",
       "2  definitely  3074.0      0.0          1.0          1.0        old   \n",
       "3  definitely  1411.0      1.0          1.0          4.0        old   \n",
       "4       maybe  3348.0      0.0          0.0          2.0        old   \n",
       "\n",
       "  memory_delay   age  age_group  \n",
       "0          7.0  8.04   Children  \n",
       "1          7.0  8.04   Children  \n",
       "2          7.0  8.04   Children  \n",
       "3          7.0  8.04   Children  \n",
       "4          7.0  8.04   Children  \n",
       "\n",
       "[5 rows x 21 columns]"
      ]
     },
     "execution_count": 9,
     "metadata": {},
     "output_type": "execute_result"
    }
   ],
   "source": [
    "# split into age groups\n",
    "memory_merged['age_group'] = pd.cut(memory_merged['age'], bins=[0, 13, 18, float('inf')], labels=['Children', 'Adolescents', 'Adults'])\n",
    "memory_merged.head()"
   ]
  },
  {
   "cell_type": "markdown",
   "metadata": {},
   "source": [
    "## Statistical Tests"
   ]
  },
  {
   "cell_type": "markdown",
   "metadata": {},
   "source": [
    "We have seen from the previous hypothesis that: \n",
    "- There is a statistically significant association between specificity (`block_condition`) and memory representation(`memory_accuracy`).\n",
    "\n",
    "- There is a highly significant relationship between memory representations (`memory accuracy` and `confidence level` i.e conf_number) and specificity i.e `block_condition`\n",
    "\n",
    "So now we check if this effect changes with age. "
   ]
  },
  {
   "cell_type": "markdown",
   "metadata": {},
   "source": [
    "### Age Vs Memory Accuracy"
   ]
  },
  {
   "cell_type": "markdown",
   "metadata": {},
   "source": [
    "#### Chi-Square Test of Independence"
   ]
  },
  {
   "cell_type": "markdown",
   "metadata": {},
   "source": [
    "We already know that there's a significant relationship between `memory_accuracy` and `block_conditon` or `confidence level` and `block_conditon`. We now check if there significant relationship between age group and memory accuracy.\n",
    "\n",
    "To test the relationship between age and memory accuracy, we'll use the Chi-Square Test of Independence. \n",
    "\n",
    "- This test is appropriate because both age group and memory accuracy can be made categorical variables, and we want to assess if there is an association between them."
   ]
  },
  {
   "cell_type": "code",
   "execution_count": 10,
   "metadata": {},
   "outputs": [
    {
     "data": {
      "text/html": [
       "<div>\n",
       "<style scoped>\n",
       "    .dataframe tbody tr th:only-of-type {\n",
       "        vertical-align: middle;\n",
       "    }\n",
       "\n",
       "    .dataframe tbody tr th {\n",
       "        vertical-align: top;\n",
       "    }\n",
       "\n",
       "    .dataframe thead th {\n",
       "        text-align: right;\n",
       "    }\n",
       "</style>\n",
       "<table border=\"1\" class=\"dataframe\">\n",
       "  <thead>\n",
       "    <tr style=\"text-align: right;\">\n",
       "      <th></th>\n",
       "      <th>subject_id</th>\n",
       "      <th>task_part</th>\n",
       "      <th>block_order</th>\n",
       "      <th>block_condition</th>\n",
       "      <th>category_type</th>\n",
       "      <th>num_stim_rep</th>\n",
       "      <th>image</th>\n",
       "      <th>category</th>\n",
       "      <th>task_block</th>\n",
       "      <th>stim_num</th>\n",
       "      <th>...</th>\n",
       "      <th>mem_response</th>\n",
       "      <th>confidence</th>\n",
       "      <th>rt</th>\n",
       "      <th>mem_acc</th>\n",
       "      <th>conf_number</th>\n",
       "      <th>conf_rating</th>\n",
       "      <th>foil_type</th>\n",
       "      <th>memory_delay</th>\n",
       "      <th>age</th>\n",
       "      <th>age_group</th>\n",
       "    </tr>\n",
       "  </thead>\n",
       "  <tbody>\n",
       "    <tr>\n",
       "      <th>0</th>\n",
       "      <td>3768</td>\n",
       "      <td>memory_trial</td>\n",
       "      <td>1</td>\n",
       "      <td>2</td>\n",
       "      <td>old</td>\n",
       "      <td>6.0</td>\n",
       "      <td>horse7.png</td>\n",
       "      <td>horse</td>\n",
       "      <td>animals</td>\n",
       "      <td>7</td>\n",
       "      <td>...</td>\n",
       "      <td>old</td>\n",
       "      <td>definitely</td>\n",
       "      <td>1866.0</td>\n",
       "      <td>Correct</td>\n",
       "      <td>1.0</td>\n",
       "      <td>4.0</td>\n",
       "      <td>old</td>\n",
       "      <td>7.0</td>\n",
       "      <td>8.04</td>\n",
       "      <td>Children</td>\n",
       "    </tr>\n",
       "    <tr>\n",
       "      <th>1</th>\n",
       "      <td>3768</td>\n",
       "      <td>memory_trial</td>\n",
       "      <td>1</td>\n",
       "      <td>2</td>\n",
       "      <td>old</td>\n",
       "      <td>6.0</td>\n",
       "      <td>cow5.png</td>\n",
       "      <td>cow</td>\n",
       "      <td>animals</td>\n",
       "      <td>5</td>\n",
       "      <td>...</td>\n",
       "      <td>old</td>\n",
       "      <td>definitely</td>\n",
       "      <td>1792.0</td>\n",
       "      <td>Correct</td>\n",
       "      <td>1.0</td>\n",
       "      <td>4.0</td>\n",
       "      <td>old</td>\n",
       "      <td>7.0</td>\n",
       "      <td>8.04</td>\n",
       "      <td>Children</td>\n",
       "    </tr>\n",
       "    <tr>\n",
       "      <th>2</th>\n",
       "      <td>3768</td>\n",
       "      <td>memory_trial</td>\n",
       "      <td>1</td>\n",
       "      <td>2</td>\n",
       "      <td>old</td>\n",
       "      <td>3.0</td>\n",
       "      <td>cow8.png</td>\n",
       "      <td>cow</td>\n",
       "      <td>animals</td>\n",
       "      <td>8</td>\n",
       "      <td>...</td>\n",
       "      <td>new</td>\n",
       "      <td>definitely</td>\n",
       "      <td>3074.0</td>\n",
       "      <td>Incorrect</td>\n",
       "      <td>1.0</td>\n",
       "      <td>1.0</td>\n",
       "      <td>old</td>\n",
       "      <td>7.0</td>\n",
       "      <td>8.04</td>\n",
       "      <td>Children</td>\n",
       "    </tr>\n",
       "    <tr>\n",
       "      <th>3</th>\n",
       "      <td>3768</td>\n",
       "      <td>memory_trial</td>\n",
       "      <td>1</td>\n",
       "      <td>2</td>\n",
       "      <td>old</td>\n",
       "      <td>6.0</td>\n",
       "      <td>goat6.png</td>\n",
       "      <td>goat</td>\n",
       "      <td>animals</td>\n",
       "      <td>6</td>\n",
       "      <td>...</td>\n",
       "      <td>old</td>\n",
       "      <td>definitely</td>\n",
       "      <td>1411.0</td>\n",
       "      <td>Correct</td>\n",
       "      <td>1.0</td>\n",
       "      <td>4.0</td>\n",
       "      <td>old</td>\n",
       "      <td>7.0</td>\n",
       "      <td>8.04</td>\n",
       "      <td>Children</td>\n",
       "    </tr>\n",
       "    <tr>\n",
       "      <th>4</th>\n",
       "      <td>3768</td>\n",
       "      <td>memory_trial</td>\n",
       "      <td>1</td>\n",
       "      <td>2</td>\n",
       "      <td>old</td>\n",
       "      <td>3.0</td>\n",
       "      <td>goat5.png</td>\n",
       "      <td>goat</td>\n",
       "      <td>animals</td>\n",
       "      <td>5</td>\n",
       "      <td>...</td>\n",
       "      <td>new</td>\n",
       "      <td>maybe</td>\n",
       "      <td>3348.0</td>\n",
       "      <td>Incorrect</td>\n",
       "      <td>0.0</td>\n",
       "      <td>2.0</td>\n",
       "      <td>old</td>\n",
       "      <td>7.0</td>\n",
       "      <td>8.04</td>\n",
       "      <td>Children</td>\n",
       "    </tr>\n",
       "  </tbody>\n",
       "</table>\n",
       "<p>5 rows × 21 columns</p>\n",
       "</div>"
      ],
      "text/plain": [
       "   subject_id     task_part  block_order  block_condition category_type  \\\n",
       "0        3768  memory_trial            1                2           old   \n",
       "1        3768  memory_trial            1                2           old   \n",
       "2        3768  memory_trial            1                2           old   \n",
       "3        3768  memory_trial            1                2           old   \n",
       "4        3768  memory_trial            1                2           old   \n",
       "\n",
       "   num_stim_rep       image category task_block  stim_num  ... mem_response  \\\n",
       "0           6.0  horse7.png    horse    animals         7  ...          old   \n",
       "1           6.0    cow5.png      cow    animals         5  ...          old   \n",
       "2           3.0    cow8.png      cow    animals         8  ...          new   \n",
       "3           6.0   goat6.png     goat    animals         6  ...          old   \n",
       "4           3.0   goat5.png     goat    animals         5  ...          new   \n",
       "\n",
       "   confidence      rt    mem_acc conf_number  conf_rating  foil_type  \\\n",
       "0  definitely  1866.0    Correct         1.0          4.0        old   \n",
       "1  definitely  1792.0    Correct         1.0          4.0        old   \n",
       "2  definitely  3074.0  Incorrect         1.0          1.0        old   \n",
       "3  definitely  1411.0    Correct         1.0          4.0        old   \n",
       "4       maybe  3348.0  Incorrect         0.0          2.0        old   \n",
       "\n",
       "  memory_delay   age  age_group  \n",
       "0          7.0  8.04   Children  \n",
       "1          7.0  8.04   Children  \n",
       "2          7.0  8.04   Children  \n",
       "3          7.0  8.04   Children  \n",
       "4          7.0  8.04   Children  \n",
       "\n",
       "[5 rows x 21 columns]"
      ]
     },
     "execution_count": 10,
     "metadata": {},
     "output_type": "execute_result"
    }
   ],
   "source": [
    "# Convert 'mem_accuracy' to categorical: 1 for correct, 0 for incorrect\n",
    "memory_merged['mem_acc'] = np.where(memory_merged['mem_acc'] == 1.0, 'Correct', 'Incorrect')\n",
    "memory_merged.head()"
   ]
  },
  {
   "cell_type": "code",
   "execution_count": 10,
   "metadata": {},
   "outputs": [
    {
     "name": "stdout",
     "output_type": "stream",
     "text": [
      "Chi-square Test Results for Age vs. Memory Accuracy:\n",
      "Chi-square Statistic: 17.64074574808893\n",
      "P-value: 0.0001476932789732151\n"
     ]
    }
   ],
   "source": [
    "contingency_table = pd.crosstab(memory_merged['age_group'], memory_merged['mem_acc'])\n",
    "\n",
    "# Perform the Chi-Square Test of Independence\n",
    "chi2, p_value, _, _ = chi2_contingency(contingency_table)\n",
    "\n",
    "# Print the results\n",
    "print(\"Chi-square Test Results for Age vs. Memory Accuracy:\")\n",
    "print(f\"Chi-square Statistic: {chi2}\")\n",
    "print(f\"P-value: {p_value}\")"
   ]
  },
  {
   "cell_type": "markdown",
   "metadata": {},
   "source": [
    "#### Cramer's V effect size"
   ]
  },
  {
   "cell_type": "code",
   "execution_count": 11,
   "metadata": {},
   "outputs": [
    {
     "name": "stdout",
     "output_type": "stream",
     "text": [
      "Cramer's V (Effect Size): 0.03604330245034824\n"
     ]
    }
   ],
   "source": [
    "# Calculate Cramer's V for effect size\n",
    "n = contingency_table.sum().sum()\n",
    "cramer_v = np.sqrt(chi2 / (n * (min(contingency_table.shape) - 1)))\n",
    "print(\"Cramer's V (Effect Size):\", cramer_v)"
   ]
  },
  {
   "cell_type": "markdown",
   "metadata": {},
   "source": [
    "> The Chi-square test results indicate a significant relationship between age and memory accuracy (p-value < 0.05). \n",
    "\n",
    "> However, the effect size (Cramer's V) is small (0.036), suggesting a weak association between age and memory accuracy."
   ]
  },
  {
   "cell_type": "markdown",
   "metadata": {},
   "source": [
    "#### Visualisation"
   ]
  },
  {
   "cell_type": "code",
   "execution_count": 15,
   "metadata": {},
   "outputs": [
    {
     "name": "stderr",
     "output_type": "stream",
     "text": [
      "/home/sruj/miniconda3/envs/env/lib/python3.12/site-packages/seaborn/categorical.py:641: FutureWarning: The default of observed=False is deprecated and will be changed to True in a future version of pandas. Pass observed=False to retain current behavior or observed=True to adopt the future default and silence this warning.\n",
      "  grouped_vals = vals.groupby(grouper)\n",
      "/home/sruj/miniconda3/envs/env/lib/python3.12/site-packages/seaborn/categorical.py:641: FutureWarning: The default of observed=False is deprecated and will be changed to True in a future version of pandas. Pass observed=False to retain current behavior or observed=True to adopt the future default and silence this warning.\n",
      "  grouped_vals = vals.groupby(grouper)\n"
     ]
    },
    {
     "data": {
      "image/png": "[encoded data removed]",
      "text/plain": [
       "<Figure size 800x600 with 1 Axes>"
      ]
     },
     "metadata": {},
     "output_type": "display_data"
    }
   ],
   "source": [
    "# distribution of memory accuracy by age group\n",
    "plt.figure(figsize=(8, 6))\n",
    "sns.countplot(data=memory_merged, x='age_group', hue='mem_acc', palette='crest')\n",
    "plt.title('Distribution of Memory Accuracy by Age Group')\n",
    "plt.xlabel('Age Group')\n",
    "plt.ylabel('Count')\n",
    "plt.legend(title='Memory Accuracy', loc='upper right')\n",
    "plt.show()"
   ]
  },
  {
   "cell_type": "code",
   "execution_count": 76,
   "metadata": {},
   "outputs": [
    {
     "name": "stderr",
     "output_type": "stream",
     "text": [
      "/home/sruj/miniconda3/envs/env/lib/python3.12/site-packages/seaborn/categorical.py:641: FutureWarning: The default of observed=False is deprecated and will be changed to True in a future version of pandas. Pass observed=False to retain current behavior or observed=True to adopt the future default and silence this warning.\n",
      "  grouped_vals = vals.groupby(grouper)\n"
     ]
    },
    {
     "data": {
      "image/png": "[encoded data removed]",
      "text/plain": [
       "<Figure size 800x600 with 1 Axes>"
      ]
     },
     "metadata": {},
     "output_type": "display_data"
    }
   ],
   "source": [
    "# Count plot of correct responses by age group in block condition 2\n",
    "plt.figure(figsize=(8, 6))\n",
    "sns.countplot(data=memory_merged[memory_merged['mem_acc'] == 'Correct'], x='age_group', palette='crest')\n",
    "plt.title('Count of Correct Responses by Age Group')\n",
    "plt.xlabel('Age Group')\n",
    "plt.ylabel('Count')\n",
    "plt.show()\n"
   ]
  },
  {
   "cell_type": "markdown",
   "metadata": {},
   "source": [
    "> It appears that memory accuracy tends to increase with age, as there are more correct responses observed in the adult age group compared to adolescents and children."
   ]
  },
  {
   "cell_type": "markdown",
   "metadata": {},
   "source": [
    "### Assess the association between `age` and `memory accuracy` within each specificity condition (category predictive or exemplar predictive)"
   ]
  },
  {
   "cell_type": "markdown",
   "metadata": {},
   "source": [
    "We want to determine if there is a significant relationship between age and memory accuracy within each specificity condition"
   ]
  },
  {
   "cell_type": "markdown",
   "metadata": {},
   "source": [
    "#### Chi-Square Test of Independence"
   ]
  },
  {
   "cell_type": "markdown",
   "metadata": {},
   "source": [
    "We can perform a chi-square test of independence to assess the association between `age_group` (categorical) and `mem_acc` (categorical: correct or incorrect) within each `block_condition` (categorical: category predictive or exemplar predictive). "
   ]
  },
  {
   "cell_type": "markdown",
   "metadata": {},
   "source": [
    "**Chi-square Test of Independence for Category Predictive**\n"
   ]
  },
  {
   "cell_type": "code",
   "execution_count": 16,
   "metadata": {},
   "outputs": [
    {
     "data": {
      "text/plain": [
       "subject_id                 int64\n",
       "task_part                 object\n",
       "block_order                int64\n",
       "block_condition         category\n",
       "category_type             object\n",
       "num_stim_rep             float64\n",
       "image                     object\n",
       "category                  object\n",
       "task_block                object\n",
       "stim_num                   int64\n",
       "correct_mem_response      object\n",
       "mem_response              object\n",
       "confidence                object\n",
       "rt                       float64\n",
       "mem_acc                 category\n",
       "conf_number              float64\n",
       "conf_rating              float64\n",
       "foil_type                 object\n",
       "memory_delay             float64\n",
       "age                      float64\n",
       "age_group               category\n",
       "dtype: object"
      ]
     },
     "execution_count": 16,
     "metadata": {},
     "output_type": "execute_result"
    }
   ],
   "source": [
    "# Convert 'block_condition' to categorical\n",
    "memory_merged['mem_acc'] = memory_merged['mem_acc'].astype('category')\n",
    "memory_merged['block_condition'] = memory_merged['block_condition'].astype('category')\n",
    "memory_merged.dtypes"
   ]
  },
  {
   "cell_type": "code",
   "execution_count": 28,
   "metadata": {},
   "outputs": [
    {
     "name": "stdout",
     "output_type": "stream",
     "text": [
      "Chi-square Test Results for Age vs. Memory Accuracy (Category Predictive):\n",
      "Chi-square Statistic: 2.227170431741837\n",
      "P-value: 0.32837953656660995\n"
     ]
    }
   ],
   "source": [
    "category_predictive_data = memory_merged[memory_merged['block_condition'] == 1]\n",
    "contingency_table_category = pd.crosstab(category_predictive_data['age_group'], category_predictive_data['mem_acc'])\n",
    "\n",
    "chi2_category, p_value_category, _, _ = chi2_contingency(contingency_table_category)\n",
    "print(\"Chi-square Test Results for Age vs. Memory Accuracy (Category Predictive):\")\n",
    "print(\"Chi-square Statistic:\", chi2_category)\n",
    "print(\"P-value:\", p_value_category)\n"
   ]
  },
  {
   "cell_type": "markdown",
   "metadata": {},
   "source": [
    "**Chi-square Test of Independence for Exemplar Predictive** "
   ]
  },
  {
   "cell_type": "code",
   "execution_count": 31,
   "metadata": {},
   "outputs": [
    {
     "name": "stdout",
     "output_type": "stream",
     "text": [
      "Chi-square Test Results for Age vs. Memory Accuracy (Exemplar Predictive):\n",
      "Chi-square Statistic: 22.905107367593224\n",
      "P-value: 1.062231390776101e-05\n"
     ]
    }
   ],
   "source": [
    "exemplar_predictive_data = memory_merged[memory_merged['block_condition'] == 2]\n",
    "contingency_table_exemplar = pd.crosstab(exemplar_predictive_data['age_group'], exemplar_predictive_data['mem_acc'])\n",
    "\n",
    "chi2_exemplar, p_value_exemplar, _, _ = chi2_contingency(contingency_table_exemplar)\n",
    "print(\"Chi-square Test Results for Age vs. Memory Accuracy (Exemplar Predictive):\")\n",
    "print(\"Chi-square Statistic:\", chi2_exemplar)\n",
    "print(\"P-value:\", p_value_exemplar)"
   ]
  },
  {
   "cell_type": "markdown",
   "metadata": {},
   "source": [
    "#### Cramer's V effect size"
   ]
  },
  {
   "cell_type": "code",
   "execution_count": 29,
   "metadata": {},
   "outputs": [
    {
     "name": "stdout",
     "output_type": "stream",
     "text": [
      "Cramer's V (Category Predictive): 0.018112309126598333\n"
     ]
    }
   ],
   "source": [
    "n = contingency_table_category.sum().sum()\n",
    "cramer_v = np.sqrt(chi2_category / (n * (min(contingency_table_category.shape) - 1)))\n",
    "print(\"Cramer's V (Category Predictive):\", cramer_v)\n"
   ]
  },
  {
   "cell_type": "code",
   "execution_count": 30,
   "metadata": {},
   "outputs": [
    {
     "name": "stdout",
     "output_type": "stream",
     "text": [
      "Cramer's V (Exemplar Predictive): 0.05808062468930103\n"
     ]
    }
   ],
   "source": [
    "n = contingency_table_exemplar.sum().sum()\n",
    "cramer_v = np.sqrt(chi2_exemplar / (n * (min(contingency_table_exemplar.shape) - 1)))\n",
    "print(\"Cramer's V (Exemplar Predictive):\", cramer_v)\n"
   ]
  },
  {
   "cell_type": "code",
   "execution_count": 44,
   "metadata": {},
   "outputs": [
    {
     "name": "stdout",
     "output_type": "stream",
     "text": [
      "Counts for Age vs. Memory Accuracy (Category Predictive):\n",
      "age_group    mem_acc  \n",
      "Children     Correct      1525\n",
      "             Incorrect     722\n",
      "Adolescents  Correct      1570\n",
      "             Incorrect     677\n",
      "Adults       Correct      1590\n",
      "             Incorrect     705\n",
      "dtype: int64\n"
     ]
    },
    {
     "name": "stderr",
     "output_type": "stream",
     "text": [
      "/tmp/ipykernel_108533/1462656587.py:2: FutureWarning: The default of observed=False is deprecated and will be changed to True in a future version of pandas. Pass observed=False to retain current behavior or observed=True to adopt the future default and silence this warning.\n",
      "  category_predictive_counts = memory_merged[memory_merged['block_condition'] == 1].groupby(['age_group', 'mem_acc']).size()\n"
     ]
    }
   ],
   "source": [
    "# For Category Predictive\n",
    "category_predictive_counts = memory_merged[memory_merged['block_condition'] == 1].groupby(['age_group', 'mem_acc']).size()\n",
    "print(\"Counts for Age vs. Memory Accuracy (Category Predictive):\")\n",
    "print(category_predictive_counts)\n"
   ]
  },
  {
   "cell_type": "code",
   "execution_count": 71,
   "metadata": {},
   "outputs": [
    {
     "name": "stdout",
     "output_type": "stream",
     "text": [
      "Counts for Age vs. Memory Accuracy (Exemplar Predictive):\n",
      "age_group    mem_acc  \n",
      "Children     Correct      1535\n",
      "             Incorrect     714\n",
      "Adolescents  Correct      1617\n",
      "             Incorrect     630\n",
      "Adults       Correct      1712\n",
      "             Incorrect     582\n",
      "dtype: int64\n"
     ]
    },
    {
     "name": "stderr",
     "output_type": "stream",
     "text": [
      "/tmp/ipykernel_108533/1412809568.py:2: FutureWarning: The default of observed=False is deprecated and will be changed to True in a future version of pandas. Pass observed=False to retain current behavior or observed=True to adopt the future default and silence this warning.\n",
      "  exemplar_predictive_counts = memory_merged[memory_merged['block_condition'] == 2].groupby(['age_group', 'mem_acc']).size()\n"
     ]
    }
   ],
   "source": [
    "# For Exemplar Predictive\n",
    "exemplar_predictive_counts = memory_merged[memory_merged['block_condition'] == 2].groupby(['age_group', 'mem_acc']).size()\n",
    "print(\"Counts for Age vs. Memory Accuracy (Exemplar Predictive):\")\n",
    "print(exemplar_predictive_counts)"
   ]
  },
  {
   "cell_type": "markdown",
   "metadata": {},
   "source": [
    "#### Inferences\n",
    "\n",
    "**For Category Predictive**:\n",
    "> Chi-square Statistic: 2.23, \n",
    "    P-value: 0.33, \n",
    "    Cramer's V: 0.018\n",
    "    \n",
    "- The chi-square test does not show a significant relationship between age and memory accuracy within the Category Predictive specificity condition. \n",
    "- The p-value is greater than 0.05, indicating that there is no strong evidence to reject the null hypothesis. \n",
    "- The effect size (Cramer's V) is very small (0.018), suggesting a weak association between age and memory accuracy in this condition.\n",
    "\n",
    "**For Exemplar Predictive**:\n",
    "> Chi-square Statistic: 22.91,\n",
    "    P-value: 0.00001,\n",
    "    Cramer's V: 0.058\n",
    "\n",
    "- The chi-square test reveals a significant relationship between age and memory accuracy. \n",
    "- The p-value is very low (close to zero), indicating strong evidence to reject the null hypothesis. \n",
    "- The effect size (Cramer's V) is larger (0.058), suggesting a weak to moderate association between age and memory accuracy in this condition.\n",
    "\n",
    "In conclusion, while there is no significant relationship between age and memory accuracy within the Category Predictive condition, there is a significant association within the Exemplar Predictive specificity.\n",
    "\n",
    "**Therefore, Adaptation towards specificity in memory representations increases with age only in case of Exemplar Predictive Specificity**"
   ]
  },
  {
   "cell_type": "markdown",
   "metadata": {},
   "source": [
    "#### Post Hoc Tests"
   ]
  },
  {
   "cell_type": "markdown",
   "metadata": {},
   "source": [
    "Now we perform **pairwise chi-square tests with Bonferroni correction** to compare memory accuracy between different age groups. \n",
    "\n",
    "This will help identify specific differences between age groups while accounting for multiple comparisons."
   ]
  },
  {
   "cell_type": "code",
   "execution_count": 62,
   "metadata": {},
   "outputs": [],
   "source": [
    "\n",
    "def pairwise_chi_square(data, group_col, response_col, block_condition_col):\n",
    "    results = []\n",
    "    block_conditions = data[block_condition_col].unique()\n",
    "    for block_condition in block_conditions:\n",
    "        block_condition_data = data[data[block_condition_col] == block_condition]\n",
    "        age_group = block_condition_data[group_col].unique()\n",
    "        for i in range(len(age_group)):\n",
    "            for j in range(i + 1, len(age_group)):\n",
    "                age_group1 = age_group[i]\n",
    "                age_group2 = age_group[j]\n",
    "                contingency_table = pd.crosstab(block_condition_data[group_col], block_condition_data[response_col])\n",
    "                chi2, p_value, _, _ = chi2_contingency(contingency_table)\n",
    "                results.append((block_condition, age_group1, age_group2, chi2, p_value))\n",
    "    return results\n"
   ]
  },
  {
   "cell_type": "code",
   "execution_count": 64,
   "metadata": {},
   "outputs": [
    {
     "name": "stdout",
     "output_type": "stream",
     "text": [
      "Pairwise Chi-square Test Results with Bonferroni Correction:\n",
      "Block Condition: 2, Age Groups: Children vs Adolescents, Chi-square: 22.905107367593224, P-value: 1.062231390776101e-05, Rejected: True\n",
      "Block Condition: 2, Age Groups: Children vs Adults, Chi-square: 22.905107367593224, P-value: 1.062231390776101e-05, Rejected: True\n",
      "Block Condition: 2, Age Groups: Adolescents vs Adults, Chi-square: 22.905107367593224, P-value: 1.062231390776101e-05, Rejected: True\n",
      "Block Condition: 1, Age Groups: Children vs Adolescents, Chi-square: 2.227170431741837, P-value: 0.32837953656660995, Rejected: False\n",
      "Block Condition: 1, Age Groups: Children vs Adults, Chi-square: 2.227170431741837, P-value: 0.32837953656660995, Rejected: False\n",
      "Block Condition: 1, Age Groups: Adolescents vs Adults, Chi-square: 2.227170431741837, P-value: 0.32837953656660995, Rejected: False\n"
     ]
    }
   ],
   "source": [
    "# Perform pairwise chi-square tests with Bonferroni correction\n",
    "pairwise_results = pairwise_chi_square(memory_merged, 'age_group', 'mem_acc', 'block_condition')\n",
    "\n",
    "# Bonferroni correction for multiple comparisons\n",
    "alpha = 0.05\n",
    "results_corrected = multipletests([result[4] for result in pairwise_results], alpha=alpha, method='bonferroni')\n",
    "\n",
    "print(\"Pairwise Chi-square Test Results with Bonferroni Correction:\")\n",
    "for i, result in enumerate(pairwise_results):\n",
    "    block_condition, age_group1, age_group2, chi2, p_value = result\n",
    "    rejected = results_corrected[0][i]\n",
    "    print(f\"Block Condition: {block_condition}, Age Groups: {age_group1} vs {age_group2}, Chi-square: {chi2}, P-value: {p_value}, Rejected: {rejected}\")\n"
   ]
  },
  {
   "cell_type": "markdown",
   "metadata": {},
   "source": [
    "**Exemplar Predictive**\n",
    "- There is a significant difference in memory accuracy between children and adolescents (p < 0.001), as well as between children and adults (p < 0.001).\n",
    "- Additionally, there is a significant difference in memory accuracy between adolescents and adults (p < 0.001).\n",
    "\n",
    "**Category Predictive**\n",
    "- No significant difference in memory accuracy was found between children and adolescents (p = 0.328), children and adults (p = 0.328), and adolescents and adults (p = 0.328).\n",
    "\n",
    "\n",
    "**These results suggest that age significantly influences adaptation towards specificity in memory representations in Block Condition 2, but not in Block Condition 1.**\n"
   ]
  },
  {
   "cell_type": "markdown",
   "metadata": {},
   "source": [
    "#### Visualisation"
   ]
  },
  {
   "cell_type": "code",
   "execution_count": 73,
   "metadata": {},
   "outputs": [
    {
     "name": "stderr",
     "output_type": "stream",
     "text": [
      "/home/sruj/miniconda3/envs/env/lib/python3.12/site-packages/seaborn/categorical.py:641: FutureWarning: The default of observed=False is deprecated and will be changed to True in a future version of pandas. Pass observed=False to retain current behavior or observed=True to adopt the future default and silence this warning.\n",
      "  grouped_vals = vals.groupby(grouper)\n",
      "/home/sruj/miniconda3/envs/env/lib/python3.12/site-packages/seaborn/categorical.py:641: FutureWarning: The default of observed=False is deprecated and will be changed to True in a future version of pandas. Pass observed=False to retain current behavior or observed=True to adopt the future default and silence this warning.\n",
      "  grouped_vals = vals.groupby(grouper)\n"
     ]
    },
    {
     "data": {
      "image/png": "[encoded data removed]",
      "text/plain": [
       "<Figure size 1200x600 with 2 Axes>"
      ]
     },
     "metadata": {},
     "output_type": "display_data"
    }
   ],
   "source": [
    "# Visualize memory accuracy by age group within each specificity condition\n",
    "plt.figure(figsize=(12, 6))\n",
    "\n",
    "# Bar plot of memory accuracy by age group within Category Predictive\n",
    "plt.subplot(1, 2, 1)\n",
    "sns.countplot(data=memory_merged[memory_merged['block_condition'] == 1], x='age_group', hue='mem_acc', palette='crest')\n",
    "plt.title('Memory Accuracy by Age Group (Category Predictive)')\n",
    "plt.xlabel('Age Group')\n",
    "plt.ylabel('Count')\n",
    "plt.legend(title='Memory Accuracy')\n",
    "\n",
    "# Bar plot of memory accuracy by age group within Exemplar Predictive\n",
    "plt.subplot(1, 2, 2)\n",
    "sns.countplot(data=memory_merged[memory_merged['block_condition'] == 2], x='age_group', hue='mem_acc', palette='crest')\n",
    "plt.title('Memory Accuracy by Age Group (Exemplar Predictive)')\n",
    "plt.xlabel('Age Group')\n",
    "plt.ylabel('Count')\n",
    "plt.legend(title='Memory Accuracy')\n",
    "\n",
    "plt.tight_layout()\n",
    "plt.show()"
   ]
  },
  {
   "cell_type": "markdown",
   "metadata": {},
   "source": [
    "### Final Inferences\n",
    "\n",
    "**Age vs. Memory Accuracy:**\n",
    "- The chi-square test reveals a significant relationship between age and memory accuracy, suggesting that age influences memory performance.\n",
    "\n",
    "**Age vs. Memory Accuracy within Specificity Conditions:**\n",
    "- Within the category predictive condition, there is no significant relationship between age and memory accuracy.\n",
    "- However, within the exemplar predictive condition, there is a significant relationship between age and memory accuracy, indicating that memory performance varies with age in this condition.\n",
    "- Pairwise comparisons between age groups within each specificity condition reveal age significantly influences adaptation towards specificity in memory representations in Block Condition 2, but not in Block Condition 1.\n",
    "\n",
    "**Adaptation towards memory specificity increases with age, especially evident in the Exemplar Predictive condition. While age does not significantly impact memory accuracy in the Category Predictive condition, it significantly influences memory accuracy within Exemplar Predictive specificity.**\n",
    "\n",
    "Overall, based on the results of the conducted analyses, we can reject the null hypothesis ($H_0$) and conclude that there is a significant relationship between age and memory accuracy, particularly within the exemplar predictive condition. \n",
    "\n",
    "**Therefore, adaptation towards specificity in memory representations appears to increase with age.** "
   ]
  }
 ],
 "metadata": {
  "kernelspec": {
   "display_name": "env",
   "language": "python",
   "name": "python3"
  },
  "language_info": {
   "codemirror_mode": {
    "name": "ipython",
    "version": 3
   },
   "file_extension": ".py",
   "mimetype": "text/x-python",
   "name": "python",
   "nbconvert_exporter": "python",
   "pygments_lexer": "ipython3",
   "version": "3.12.2"
  }
 },
 "nbformat": 4,
 "nbformat_minor": 2
}
